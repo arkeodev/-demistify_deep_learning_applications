{
  "nbformat": 4,
  "nbformat_minor": 0,
  "metadata": {
    "colab": {
      "provenance": [],
      "collapsed_sections": [
        "PccUnCBYnKSH",
        "bBKCJcr0fVhG",
        "f8rfJDZpfQ1P",
        "hqMmqzDKoMod",
        "QYwcjljre2wI",
        "oGCs7KJtetzU",
        "7bOmwH4duI_9",
        "1kTxZC5Kw-iC",
        "HZVF65cCocK2",
        "EwW5xNvZtua_",
        "zQ_I2eKblD15",
        "H1wXXphdmqF5",
        "7y6Sx0ODokbC"
      ],
      "gpuType": "T4",
      "authorship_tag": "ABX9TyP7/WqunCpzMmJgJDKzli8U",
      "include_colab_link": true
    },
    "kernelspec": {
      "name": "python3",
      "display_name": "Python 3"
    },
    "language_info": {
      "name": "python"
    },
    "accelerator": "GPU"
  },
  "cells": [
    {
      "cell_type": "markdown",
      "metadata": {
        "id": "view-in-github",
        "colab_type": "text"
      },
      "source": [
        "<a href=\"https://colab.research.google.com/github/arkeodev/demistify_deep_learning_applications/blob/main/Works_on_Autoencoders.ipynb\" target=\"_parent\"><img src=\"https://colab.research.google.com/assets/colab-badge.svg\" alt=\"Open In Colab\"/></a>"
      ]
    },
    {
      "cell_type": "markdown",
      "source": [
        "# Demystifying Autoencoders: A Deep Dive into Neural Network Compression and Reconstruction"
      ],
      "metadata": {
        "id": "J21yd9UqLFKs"
      }
    },
    {
      "cell_type": "markdown",
      "source": [
        "In the realm of deep learning, autoencoders stand out as a unique and fascinating class of neural networks. Designed to encode input data into a compressed representation and then reconstruct the original input from this compressed form, autoencoders serve a myriad of applications ranging from data denoising to feature extraction. This post aims to unravel the workings of autoencoders, supplemented with a practical implementation using PyTorch, to showcase their capability in compressing and reconstructing images, specifically focusing on the MNIST dataset."
      ],
      "metadata": {
        "id": "9CnaBb5iLJOe"
      }
    },
    {
      "cell_type": "markdown",
      "source": [
        "## Autoencoders"
      ],
      "metadata": {
        "id": "1NWYpeM7LcCl"
      }
    },
    {
      "cell_type": "markdown",
      "source": [
        "At its core, an autoencoder is a neural network architecture that learns to compress its input into a lower-dimensional representation and then reconstructs the output from this representation. This process is facilitated through a structure characterized by a bottleneck, where the input data is compressed, followed by an upsampling phase to reconstruct the data. Although autoencoders can be applied to various tasks, their primary goal is not to perfectly replicate the input but to learn a representation that is useful for a task such as denoising or segmentation."
      ],
      "metadata": {
        "id": "VVb6W0LaLfOc"
      }
    },
    {
      "cell_type": "markdown",
      "source": [
        "### The Architecture of an Autoencoder"
      ],
      "metadata": {
        "id": "FJhOHFCzLr75"
      }
    },
    {
      "cell_type": "markdown",
      "source": [
        "The architecture of an autoencoder can be divided into two main components: the encoder and the decoder."
      ],
      "metadata": {
        "id": "jWWoY1FjLvod"
      }
    },
    {
      "cell_type": "markdown",
      "source": [
        "#### Encoder"
      ],
      "metadata": {
        "id": "F2uwL89GL0dO"
      }
    },
    {
      "cell_type": "markdown",
      "source": [
        "The encoder's role is to compress the input data into a smaller, dense representation. This is achieved through a series of convolutional layers (preferred for the image auto-encoding because of the spatial structure of the images. For the other type of inputs dense layers can be preffered.) that progressively decrease the spatial dimensions of the input, while potentially increasing its depth. This process results in a condensed feature representation of the original input."
      ],
      "metadata": {
        "id": "rxw_LVwUL2Il"
      }
    },
    {
      "cell_type": "markdown",
      "source": [
        "#### Decoder"
      ],
      "metadata": {
        "id": "1UFDZ5eDL2C2"
      }
    },
    {
      "cell_type": "markdown",
      "source": [
        "Conversely, the decoder takes the compressed data from the encoder and reconstructs the original input. This is typically done through the use of transposed convolutional layers, also known as deconvolutional layers, which perform the opposite operation of convolutional layers, effectively upsampling the compressed data back to its original dimension"
      ],
      "metadata": {
        "id": "b204gPLKMBtB"
      }
    },
    {
      "cell_type": "markdown",
      "source": [
        "\n",
        "### Training an Autoencoder"
      ],
      "metadata": {
        "id": "X6tr6-sQbKC2"
      }
    },
    {
      "cell_type": "markdown",
      "source": [
        "Creating a production-ready implementation of a basic Autoencoder using PyTorch for the MNIST dataset involves several essential steps. This guide will walk you through preparing the dataset, defining the model with appropriate documentation, training, evaluating, visualizing the results, and finally, testing the model's performance. The goal is to provide a comprehensive overview that can serve as a foundation for your blog, aimed at educating machine learning engineers on working with Autoencoders."
      ],
      "metadata": {
        "id": "jSTGsu4Oy3_8"
      }
    },
    {
      "cell_type": "code",
      "source": [
        "import torch\n",
        "import torch.nn as nn\n",
        "import torch.nn.functional as F\n",
        "import torch.optim as optim\n",
        "from torchvision import datasets, transforms\n",
        "from torch.utils.data import DataLoader\n",
        "import matplotlib.pyplot as plt\n",
        "import numpy as np"
      ],
      "metadata": {
        "id": "U1mAi5_jMyyj"
      },
      "execution_count": 25,
      "outputs": []
    },
    {
      "cell_type": "markdown",
      "source": [
        "#### Define the Autoencoder Model"
      ],
      "metadata": {
        "id": "zKiheU5wzOve"
      }
    },
    {
      "cell_type": "markdown",
      "source": [
        "In our example, we implement a simple autoencoder in PyTorch designed to work with the MNIST dataset. The MNIST dataset consists of handwritten digits, making it an ideal candidate for demonstrating the autoencoder's ability to compress and reconstruct images."
      ],
      "metadata": {
        "id": "enlpBDjRz8dv"
      }
    },
    {
      "cell_type": "code",
      "source": [
        "class Encoder(nn.Module):\n",
        "    \"\"\"\n",
        "    Encoder module: Compresses the input into a latent-space representation.\n",
        "    It uses a series of Conv2D and BatchNorm layers followed by ReLU activations.\n",
        "\n",
        "    Parameters:\n",
        "    - input_channels (int): Number of input channels (e.g., 1 for grayscale images).\n",
        "    - hidden_dim (int): Dimensionality of the hidden layers.\n",
        "    - z_dim (int): Dimensionality of the latent space representation.\n",
        "    \"\"\"\n",
        "    def __init__(self, input_channels, hidden_dim=32, z_dim=32):\n",
        "        super(Encoder, self).__init__()\n",
        "        self.conv_layers = nn.Sequential(\n",
        "            nn.Conv2d(input_channels, hidden_dim, kernel_size=3, stride=2, padding=1),\n",
        "            nn.BatchNorm2d(hidden_dim),\n",
        "            nn.ReLU(),\n",
        "            nn.Conv2d(hidden_dim, hidden_dim * 2, kernel_size=3, stride=2, padding=1),\n",
        "            nn.BatchNorm2d(hidden_dim * 2),\n",
        "            nn.ReLU(),\n",
        "            nn.Conv2d(hidden_dim * 2, hidden_dim * 4, kernel_size=3, stride=2, padding=1),\n",
        "            nn.BatchNorm2d(hidden_dim * 4),\n",
        "            nn.ReLU(),\n",
        "            nn.Conv2d(hidden_dim * 4, z_dim, kernel_size=4, stride=1),\n",
        "        )\n",
        "\n",
        "    def forward(self, x):\n",
        "        return self.conv_layers(x)\n",
        "\n",
        "class Decoder(nn.Module):\n",
        "    \"\"\"\n",
        "    Decoder module: Reconstructs the input from the latent-space representation.\n",
        "    It mirrors the encoder structure using ConvTranspose2d for upsampling.\n",
        "\n",
        "    Parameters:\n",
        "    - output_channels (int): Number of channels in the reconstructed output (same as input_channels).\n",
        "    - hidden_dim (int): Dimensionality of the hidden layers (should match the encoder).\n",
        "    - z_dim (int): Dimensionality of the latent space representation (should match the encoder).\n",
        "    \"\"\"\n",
        "    def __init__(self, output_channels, hidden_dim=32, z_dim=32):\n",
        "        super(Decoder, self).__init__()\n",
        "        self.conv_transpose_layers = nn.Sequential(\n",
        "            nn.ConvTranspose2d(z_dim, hidden_dim * 4, kernel_size=4, stride=1),\n",
        "            nn.BatchNorm2d(hidden_dim * 4),\n",
        "            nn.ReLU(),\n",
        "            nn.ConvTranspose2d(hidden_dim * 4, hidden_dim * 2, kernel_size=3, stride=2, padding=1, output_padding=1),\n",
        "            nn.BatchNorm2d(hidden_dim * 2),\n",
        "            nn.ReLU(),\n",
        "            nn.ConvTranspose2d(hidden_dim * 2, hidden_dim, kernel_size=3, stride=2, padding=1, output_padding=1),\n",
        "            nn.BatchNorm2d(hidden_dim),\n",
        "            nn.ReLU(),\n",
        "            nn.ConvTranspose2d(hidden_dim, output_channels, kernel_size=3, stride=2, padding=1, output_padding=1),\n",
        "            nn.Tanh(),\n",
        "        )\n",
        "\n",
        "    def forward(self, x):\n",
        "        return self.conv_transpose_layers(x)\n",
        "\n",
        "class Autoencoder(nn.Module):\n",
        "    \"\"\"\n",
        "    Autoencoder Module: Combines the Encoder and Decoder into a single model for\n",
        "    the task of image reconstruction from a compressed representation.\n",
        "\n",
        "    Parameters:\n",
        "    - input_channels (int): Number of input channels.\n",
        "    - hidden_dim (int): Dimensionality of the hidden layers.\n",
        "    - z_dim (int): Dimensionality of the latent space representation.\n",
        "    \"\"\"\n",
        "    def __init__(self, input_channels, hidden_dim=32, z_dim=32):\n",
        "        super(Autoencoder, self).__init__()\n",
        "        self.encoder = Encoder(input_channels, hidden_dim, z_dim)\n",
        "        self.decoder = Decoder(input_channels, hidden_dim, z_dim)\n",
        "\n",
        "    def forward(self, x):\n",
        "        encoded = self.encoder(x)\n",
        "        decoded = self.decoder(encoded)\n",
        "        return decoded\n"
      ],
      "metadata": {
        "id": "GyoAii1vzaOw"
      },
      "execution_count": 29,
      "outputs": []
    },
    {
      "cell_type": "markdown",
      "source": [
        "This code snippet illustrates a basic autoencoder architecture with customizable dimensions for the hidden layers and the latent space. The encoder consists of convolutional layers for downsampling, while the decoder employs transposed convolutional layers for upsampling."
      ],
      "metadata": {
        "id": "2PaWdE-k0Fyd"
      }
    },
    {
      "cell_type": "markdown",
      "source": [
        "#### Prepare the MNIST Dataset"
      ],
      "metadata": {
        "id": "6-FF-m020NrX"
      }
    },
    {
      "cell_type": "code",
      "source": [
        "# Dataset transformations\n",
        "transform = transforms.Compose([\n",
        "    transforms.Resize(32),\n",
        "    transforms.ToTensor(),\n",
        "    transforms.Normalize((0.5,), (0.5,))\n",
        "])\n",
        "\n",
        "# Loading the dataset\n",
        "train_dataset = datasets.MNIST(root='./data', train=True, download=True, transform=transform)\n",
        "test_dataset = datasets.MNIST(root='./data', train=False, download=True, transform=transform)\n",
        "\n",
        "# Data loaders\n",
        "train_loader = DataLoader(train_dataset, batch_size=64, shuffle=True)\n",
        "test_loader = DataLoader(test_dataset, batch_size=64, shuffle=False)\n"
      ],
      "metadata": {
        "id": "on1acfXazFYd"
      },
      "execution_count": 26,
      "outputs": []
    },
    {
      "cell_type": "markdown",
      "source": [
        "#### Determine the Device (CPU vs GPU)"
      ],
      "metadata": {
        "id": "fsnAZmNy0pb-"
      }
    },
    {
      "cell_type": "code",
      "source": [
        "device = torch.device(\"cuda\" if torch.cuda.is_available() else \"cpu\")\n",
        "print(f'Using {device} device')"
      ],
      "metadata": {
        "colab": {
          "base_uri": "https://localhost:8080/"
        },
        "id": "NlxQupFJ0ttv",
        "outputId": "e289c71f-9a84-4cba-86f5-fd0632ae4c9a"
      },
      "execution_count": 27,
      "outputs": [
        {
          "output_type": "stream",
          "name": "stdout",
          "text": [
            "Using cpu device\n"
          ]
        }
      ]
    },
    {
      "cell_type": "markdown",
      "source": [
        "#### Initialize the Model, Optimizer, and Loss Function"
      ],
      "metadata": {
        "id": "bFX8oVkm0bh7"
      }
    },
    {
      "cell_type": "code",
      "source": [
        "learning_rate = 1e-3\n",
        "model = Autoencoder(input_channels=1, hidden_dim=32, z_dim=32).to(device)\n",
        "optimizer = torch.optim.Adam(model.parameters(), lr=1e-3)\n",
        "criterion = nn.MSELoss()"
      ],
      "metadata": {
        "id": "3ZT2cV5K0TVO"
      },
      "execution_count": 30,
      "outputs": []
    },
    {
      "cell_type": "markdown",
      "source": [
        "Implement the training loop, iterating over epochs and batches from the training set. Track and print the loss to monitor the training process."
      ],
      "metadata": {
        "id": "p_LTiy4l1fof"
      }
    },
    {
      "cell_type": "markdown",
      "source": [
        "#### Train Loop"
      ],
      "metadata": {
        "id": "BSuc2f3qgQMK"
      }
    },
    {
      "cell_type": "code",
      "source": [
        "loss_log = []\n",
        "def train(model, train_loader, optimizer, epoch):\n",
        "    model.train()\n",
        "    train_loss = 0\n",
        "    total_samples = 0\n",
        "    for batch_idx, (data, _) in enumerate(train_loader):\n",
        "        data = data.to(device)\n",
        "        optimizer.zero_grad()\n",
        "        output = model(data)\n",
        "        loss = criterion(output, data)\n",
        "        loss.backward()\n",
        "        optimizer.step()\n",
        "\n",
        "        train_loss += loss.item() * data.size(0)  # Accumulate total loss\n",
        "        total_samples += data.size(0)  # Accumulate total number of samples\n",
        "\n",
        "    # print(f'Train Epoch: {epoch} [{batch_idx * len(data)}/{len(train_loader.dataset)} ({100. * batch_idx / len(train_loader):.0f}%)]\\tLoss: {loss.item():.6f}')\n",
        "\n",
        "    average_train_loss = train_loss / total_samples\n",
        "    loss_log.append(average_train_loss)\n",
        "    print(f'====> Epoch: {epoch} Average training loss: {average_train_loss:.4f}')\n"
      ],
      "metadata": {
        "id": "01DgZYyu0fDS"
      },
      "execution_count": 6,
      "outputs": []
    },
    {
      "cell_type": "markdown",
      "source": [
        "#### Evaluating the Model"
      ],
      "metadata": {
        "id": "HCFEV5-H1iuw"
      }
    },
    {
      "cell_type": "markdown",
      "source": [
        "After training, evaluate the model's performance on the test set to ensure it generalizes well."
      ],
      "metadata": {
        "id": "Nq5Ojpa21nH5"
      }
    },
    {
      "cell_type": "code",
      "source": [
        "def test(model, test_loader):\n",
        "    model.eval()\n",
        "    test_loss = 0\n",
        "    with torch.no_grad():\n",
        "        for batch_idx, (data, _) in enumerate(test_loader):\n",
        "            data = data.to(device)\n",
        "            output = model(data)\n",
        "            test_loss += criterion(output, data).item() * data.size(0)\n",
        "    test_loss /= len(test_loader.dataset)\n",
        "    print(f'====> Test set loss: {test_loss:.4f}')\n"
      ],
      "metadata": {
        "id": "Me6o-_Vf1Gnw"
      },
      "execution_count": 7,
      "outputs": []
    },
    {
      "cell_type": "markdown",
      "source": [
        "#### Visualizing the Results"
      ],
      "metadata": {
        "id": "UVyNvJK61yl1"
      }
    },
    {
      "cell_type": "markdown",
      "source": [
        "Finally, visualize some test images alongside their reconstructed counterparts to qualitatively evaluate the Autoencoder."
      ],
      "metadata": {
        "id": "3gl5lAaN1294"
      }
    },
    {
      "cell_type": "code",
      "source": [
        "import torchvision.utils as vutils\n",
        "import matplotlib.pyplot as plt\n",
        "\n",
        "def visualize_comparison(model, test_loader):\n",
        "    model.eval()\n",
        "    with torch.no_grad():\n",
        "        # Grab a single batch from the test loader\n",
        "        data, _ = next(iter(test_loader))\n",
        "        data = data.to(device)\n",
        "\n",
        "        # Generate output from the model\n",
        "        output = model(data)\n",
        "\n",
        "        # Move the tensors back to CPU for visualization\n",
        "        data = data.detach().cpu()\n",
        "        output = output.detach().cpu()\n",
        "\n",
        "        # Set up the figure\n",
        "        plt.figure(figsize=(10, 5))  # Adjust the figure size as needed\n",
        "\n",
        "        # Display Original images\n",
        "        out = vutils.make_grid(data[0:10], nrow=10, padding=0, normalize=True)\n",
        "        plt.subplot(2, 1, 1)\n",
        "        plt.imshow(out.numpy().transpose(1, 2, 0))\n",
        "        plt.title('Original Images')\n",
        "        plt.axis('off')\n",
        "\n",
        "        # Display Reconstructed images\n",
        "        out = vutils.make_grid(output[0:10], nrow=10, padding=0, normalize=True)\n",
        "        plt.subplot(2, 1, 2)\n",
        "        plt.imshow(out.numpy().transpose(1, 2, 0))\n",
        "        plt.title('Reconstructed Images')\n",
        "        plt.axis('off')\n",
        "\n",
        "        plt.tight_layout()\n",
        "        plt.show()\n"
      ],
      "metadata": {
        "id": "2x4kyetg1v5a"
      },
      "execution_count": 31,
      "outputs": []
    },
    {
      "cell_type": "markdown",
      "source": [
        "#### Running the Training and Evaluation"
      ],
      "metadata": {
        "id": "if-qJS_52g5T"
      }
    },
    {
      "cell_type": "code",
      "source": [
        "num_epochs = 10\n",
        "\n",
        "for epoch in range(1, num_epochs + 1):\n",
        "    train(model, train_loader, optimizer, epoch)\n",
        "    test(model, test_loader)\n",
        "    if epoch == 1 or epoch == 10:\n",
        "      visualize_comparison(model, test_loader)"
      ],
      "metadata": {
        "colab": {
          "base_uri": "https://localhost:8080/",
          "height": 1000
        },
        "id": "d1HWrorA2Ari",
        "outputId": "41c21a11-2854-4f72-99e2-1148ee4fb8c4"
      },
      "execution_count": 9,
      "outputs": [
        {
          "output_type": "stream",
          "name": "stdout",
          "text": [
            "====> Epoch: 1 Average training loss: 0.0878\n",
            "====> Test set loss: 0.0160\n"
          ]
        },
        {
          "output_type": "display_data",
          "data": {
            "text/plain": [
              "<Figure size 1000x500 with 2 Axes>"
            ],
            "image/png": "[encoded data removed]"
          },
          "metadata": {}
        },
        {
          "output_type": "stream",
          "name": "stdout",
          "text": [
            "====> Epoch: 2 Average training loss: 0.0134\n",
            "====> Test set loss: 0.0112\n",
            "====> Epoch: 3 Average training loss: 0.0114\n",
            "====> Test set loss: 0.0102\n",
            "====> Epoch: 4 Average training loss: 0.0103\n",
            "====> Test set loss: 0.0096\n",
            "====> Epoch: 5 Average training loss: 0.0096\n",
            "====> Test set loss: 0.0090\n",
            "====> Epoch: 6 Average training loss: 0.0090\n",
            "====> Test set loss: 0.0083\n",
            "====> Epoch: 7 Average training loss: 0.0087\n",
            "====> Test set loss: 0.0084\n",
            "====> Epoch: 8 Average training loss: 0.0083\n",
            "====> Test set loss: 0.0080\n",
            "====> Epoch: 9 Average training loss: 0.0080\n",
            "====> Test set loss: 0.0078\n",
            "====> Epoch: 10 Average training loss: 0.0077\n",
            "====> Test set loss: 0.0076\n"
          ]
        },
        {
          "output_type": "display_data",
          "data": {
            "text/plain": [
              "<Figure size 1000x500 with 2 Axes>"
            ],
            "image/png": "[encoded data removed]"
          },
          "metadata": {}
        }
      ]
    },
    {
      "cell_type": "markdown",
      "source": [
        "#### Plot the Training Loss"
      ],
      "metadata": {
        "id": "aXM1JKiTOtRA"
      }
    },
    {
      "cell_type": "code",
      "source": [
        "plt.plot(loss_log)\n",
        "plt.title(\"Training Loss\")"
      ],
      "metadata": {
        "colab": {
          "base_uri": "https://localhost:8080/",
          "height": 470
        },
        "id": "SPzxJUC2_Ekb",
        "outputId": "6bf9c19e-a4b8-4d23-c09a-27b9ab788e43"
      },
      "execution_count": 10,
      "outputs": [
        {
          "output_type": "execute_result",
          "data": {
            "text/plain": [
              "Text(0.5, 1.0, 'Training Loss')"
            ]
          },
          "metadata": {},
          "execution_count": 10
        },
        {
          "output_type": "display_data",
          "data": {
            "text/plain": [
              "<Figure size 640x480 with 1 Axes>"
            ],
            "image/png": "[encoded data removed]"
          },
          "metadata": {}
        }
      ]
    },
    {
      "cell_type": "markdown",
      "source": [
        "## Denoising Autoencoders"
      ],
      "metadata": {
        "id": "vUrTjnf4eLpW"
      }
    },
    {
      "cell_type": "markdown",
      "source": [
        "Denoising Autoencoders (DAEs) are a variant of autoencoders, which are a type of unsupervised neural network used primarily for the task of learning efficient representations of the input data, typically for the purpose of dimensionality reduction or feature learning. The unique aspect of Denoising Autoencoders is their ability to reconstruct clean (\"denoised\") input data from data that has been intentionally corrupted with some form of noise. This process encourages the autoencoder to learn more robust and essential features of the data, rather than simply memorizing or overfitting to the noise-free training data. Here's an overview of the approach used in Denoising Autoencoders:\n",
        "\n",
        "1. Data Corruption\n",
        "In the first step, the original input data is intentionally corrupted. This corruption usually involves adding some form of noise, such as Gaussian noise, masking noise (where parts of the input are randomly set to zero), or salt-and-pepper noise (randomly flipping some of the input values). The corrupted data serves as the actual input to the Denoising Autoencoder.\n",
        "\n",
        "2. Encoding\n",
        "The corrupted data is then passed through the encoder part of the autoencoder. This process is aimed at capturing the most important features of the data necessary for reconstructing the original, uncorrupted version.\n",
        "\n",
        "3. Decoding\n",
        "Following encoding, the latent representation is passed through the decoder part of the autoencoder, uncorrupted input data from the latent representation. The goal of this step is to generate a clean output that is as close as possible to the original input data before corruption.\n",
        "\n",
        "4. Loss Calculation\n",
        "The reconstruction loss is calculated by comparing the reconstructed data to the original, uncorrupted data. This loss measures how well the Denoising Autoencoder has learned to remove the noise and reconstruct the clean data.\n",
        "\n",
        "5. Training\n",
        "Through training, the Denoising Autoencoder learns to ignore the added noise and to capture and reconstruct the important features of the original data.\n",
        "\n",
        "The Denoising Autoencoder not only learns a robust representation of the data but also improves its ability to generalize from the training data to unseen data, making it useful for tasks like denoising, anomaly detection, and even generative models.\n",
        "\n",
        "The ability to recover clean data from noisy inputs makes DAEs particularly useful in applications where data quality is an issue, such as image processing, signal processing, and more broadly, in improving the robustness of machine learning models."
      ],
      "metadata": {
        "id": "TNXaDPJ7e1PP"
      }
    },
    {
      "cell_type": "code",
      "source": [
        "# Get a test image\n",
        "dataiter = iter(test_loader)\n",
        "test_images = next(dataiter)[0]\n",
        "# View the shape\n",
        "test_images.shape"
      ],
      "metadata": {
        "colab": {
          "base_uri": "https://localhost:8080/"
        },
        "id": "nm27r2c0e2bY",
        "outputId": "eb1bd9ae-3632-4735-ec9d-9f9f5d20f0a8"
      },
      "execution_count": 11,
      "outputs": [
        {
          "output_type": "execute_result",
          "data": {
            "text/plain": [
              "torch.Size([64, 1, 32, 32])"
            ]
          },
          "metadata": {},
          "execution_count": 11
        }
      ]
    },
    {
      "cell_type": "code",
      "source": [
        "# The size of the Latent Vector\n",
        "latent_size = 128\n",
        "\n",
        "# Create our network\n",
        "noisy_net = Autoencoder(input_channels=1, hidden_dim=32, z_dim=32).to(device)\n",
        "\n",
        "# Setup optimizer\n",
        "optimizer = optim.Adam(noisy_net.parameters(), lr=learning_rate)\n",
        "\n",
        "# MSE loss for reconstruction!\n",
        "loss_func = nn.MSELoss()\n",
        "\n",
        "loss_log = []\n",
        "train_loss = 0\n",
        "\n",
        "noise_scale = 0.3"
      ],
      "metadata": {
        "id": "uKE_mojes2Ag"
      },
      "execution_count": 19,
      "outputs": []
    },
    {
      "cell_type": "code",
      "source": [
        "for epoch in range(num_epochs):\n",
        "    for i, data in enumerate(train_loader):\n",
        "\n",
        "        image = data[0].to(device)\n",
        "\n",
        "        # Create the noisy data!\n",
        "        random_sample = (torch.bernoulli((1 - noise_scale) * torch.ones_like(image)) * 2) - 1\n",
        "        noisy_img = random_sample * image\n",
        "\n",
        "        # Forward pass the image in the data tuple\n",
        "        recon_data = noisy_net(noisy_img)\n",
        "\n",
        "        # Calculate the MSE loss\n",
        "        loss = criterion(recon_data, image)\n",
        "\n",
        "        # Log the loss\n",
        "        loss_log.append(loss.item())\n",
        "        train_loss = loss.item()\n",
        "\n",
        "        # Take a training step\n",
        "        noisy_net.zero_grad()\n",
        "        loss.backward()\n",
        "        optimizer.step()"
      ],
      "metadata": {
        "id": "DsMfik6ReiNO"
      },
      "execution_count": 21,
      "outputs": []
    },
    {
      "cell_type": "markdown",
      "source": [
        "Here, noise is added to the images. The process uses PyTorch's bernoulli function to generate a random sample based on a Bernoulli distribution. The $(torch.ones\\_like(test\\_images)$) creates a tensor of ones with the same shape as test_images. This tensor is multiplied by $((1 - noise\\_scale)$), adjusting the probability of generating a 1 in the Bernoulli distribution based on the $(noise\\_scale$) parameter.\n",
        "\n",
        "The result is then scaled by 2 and offset by -1 to transform the range from $([0,1]$) to $([-1,1]$), which is a common practice when dealing with image data in machine learning to center the pixel values around zero."
      ],
      "metadata": {
        "id": "RA7Jqc1dgMRe"
      }
    },
    {
      "cell_type": "code",
      "source": [
        "# Plot the loss over time\n",
        "_ = plt.plot(loss_log)\n",
        "_ = plt.title(\"MSE Loss\")"
      ],
      "metadata": {
        "id": "z26n6XN6sNIH",
        "colab": {
          "base_uri": "https://localhost:8080/",
          "height": 452
        },
        "outputId": "87acee35-68ee-462d-83a6-b7917026790e"
      },
      "execution_count": 22,
      "outputs": [
        {
          "output_type": "display_data",
          "data": {
            "text/plain": [
              "<Figure size 640x480 with 1 Axes>"
            ],
            "image/png": "[encoded data removed]"
          },
          "metadata": {}
        }
      ]
    },
    {
      "cell_type": "code",
      "source": [
        "# Ground Truth\n",
        "plt.figure(figsize = (20,10))\n",
        "out = vutils.make_grid(test_images[0:8], normalize=True)\n",
        "_ = plt.imshow(out.numpy().transpose((1, 2, 0)))"
      ],
      "metadata": {
        "id": "aIToRdjgsiHs",
        "colab": {
          "base_uri": "https://localhost:8080/",
          "height": 267
        },
        "outputId": "37fbb69a-79d6-44a7-f851-fb828ebbe098"
      },
      "execution_count": 23,
      "outputs": [
        {
          "output_type": "display_data",
          "data": {
            "text/plain": [
              "<Figure size 2000x1000 with 1 Axes>"
            ],
            "image/png": "[encoded data removed]"
          },
          "metadata": {}
        }
      ]
    },
    {
      "cell_type": "code",
      "source": [
        "# Visualize the noisy data!!!\n",
        "noise_scale = 0.3\n",
        "plt.figure(figsize = (20, 10))\n",
        "random_sample = (torch.bernoulli((1 - noise_scale) * torch.ones_like(test_images)) * 2) - 1\n",
        "noisy_test_img = random_sample * test_images\n",
        "\n",
        "# Noisy Input\n",
        "plt.figure(figsize = (20,10))\n",
        "out = vutils.make_grid(noisy_test_img[0:8], normalize=True)\n",
        "_ = plt.imshow(out.numpy().transpose((1, 2, 0)))"
      ],
      "metadata": {
        "id": "eru_77mgslBg",
        "colab": {
          "base_uri": "https://localhost:8080/",
          "height": 285
        },
        "outputId": "cd5b830d-b17d-4c74-b813-a417de620b5e"
      },
      "execution_count": 24,
      "outputs": [
        {
          "output_type": "display_data",
          "data": {
            "text/plain": [
              "<Figure size 2000x1000 with 0 Axes>"
            ]
          },
          "metadata": {}
        },
        {
          "output_type": "display_data",
          "data": {
            "text/plain": [
              "<Figure size 2000x1000 with 1 Axes>"
            ],
            "image/png": "[encoded data removed]"
          },
          "metadata": {}
        }
      ]
    },
    {
      "cell_type": "code",
      "source": [
        "# Reconstruction\n",
        "plt.figure(figsize = (20,10))\n",
        "recon_data = noisy_net(noisy_test_img.to(device))\n",
        "out = vutils.make_grid(recon_data.detach().cpu()[0:8], normalize=True)\n",
        "_ = plt.imshow(out.numpy().transpose((1, 2, 0)))"
      ],
      "metadata": {
        "id": "gTI9DUXuspZC",
        "colab": {
          "base_uri": "https://localhost:8080/",
          "height": 267
        },
        "outputId": "9503f240-f08c-4c21-e7ae-ff6ca3728211"
      },
      "execution_count": 26,
      "outputs": [
        {
          "output_type": "display_data",
          "data": {
            "text/plain": [
              "<Figure size 2000x1000 with 1 Axes>"
            ],
            "image/png": "[encoded data removed]"
          },
          "metadata": {}
        }
      ]
    },
    {
      "cell_type": "markdown",
      "source": [
        "## Variational Autoencoders"
      ],
      "metadata": {
        "id": "LDgQmLAzmUsA"
      }
    },
    {
      "cell_type": "markdown",
      "source": [
        "Autoencoders, particularly the basic ones, are powerful tools for learning compressed representations of data. However, when faced with data significantly different from what they were trained on, their performance in generating accurate reconstructions can diminish. This limitation is partly because basic autoencoders learn a deterministic mapping from input to a compressed representation and back, without considering the distribution of the input data in the latent space. This can lead to poor generalization to new, unseen data."
      ],
      "metadata": {
        "id": "B8Lmda0Dnaq6"
      }
    },
    {
      "cell_type": "markdown",
      "source": [
        "\n",
        "### Demonstrating Limitations with Unseen Data"
      ],
      "metadata": {
        "id": "PccUnCBYnKSH"
      }
    },
    {
      "cell_type": "markdown",
      "source": [
        "Consider a scenario where we have trained a basic autoencoder on the MNIST dataset, which consists of handwritten digits. If we try to feed the autoencoder an image that is not a handwritten digit (e.g., a picture of a cat), the model may struggle to generate a meaningful representation. This is because the model has learned specific features and patterns associated with digits and does not know how to handle significantly different inputs."
      ],
      "metadata": {
        "id": "oIW37ilBfZBe"
      }
    },
    {
      "cell_type": "markdown",
      "source": [
        "### Why Basic Autoencoders Struggle with New Data"
      ],
      "metadata": {
        "id": "bBKCJcr0fVhG"
      }
    },
    {
      "cell_type": "markdown",
      "source": [
        "The primary reason lies in the encoder part of the autoencoder, which compresses the input into a fixed representation in the latent space. For inputs similar to the training data, this representation can be effectively decoded into accurate reconstructions. However, for vastly different inputs, the encoder might project them into parts of the latent space that do not correspond to any meaningful output for the decoder, resulting in poor reconstructions."
      ],
      "metadata": {
        "id": "Ie6dDv9GfTJ6"
      }
    },
    {
      "cell_type": "markdown",
      "source": [
        "###Variational Autoencoders (VAEs) to the Rescue"
      ],
      "metadata": {
        "id": "f8rfJDZpfQ1P"
      }
    },
    {
      "cell_type": "markdown",
      "source": [
        "Variational Autoencoders (VAEs) introduce a probabilistic twist to the autoencoder architecture, allowing them to model the distribution of the input data in the latent space. Unlike traditional autoencoders, VAEs do not learn a direct mapping from input to a fixed point in the latent space. Instead, they learn the parameters (mean and variance) of a probability distribution for each input. This approach enables VAEs to generate new data points by sampling from the latent space, making them particularly suited for tasks like data generation and anomaly detection."
      ],
      "metadata": {
        "id": "ZVBQaRqkfN2r"
      }
    },
    {
      "cell_type": "markdown",
      "source": [
        "### Components of a VAE"
      ],
      "metadata": {
        "id": "hqMmqzDKoMod"
      }
    },
    {
      "cell_type": "markdown",
      "source": [
        "Encoder (Recognition Model): The encoder in a VAE takes input data and transforms it into a distribution over the latent space. Unlike traditional autoencoders that directly produce a single latent representation, the encoder in a VAE outputs parameters to a probability distribution—typically the mean and variance of a Gaussian distribution. This probabilistic approach allows for the modeling of uncertainty and variability in the data representations.\n",
        "\n",
        "Latent Space (Latent Variables): The latent space in VAEs represents compressed knowledge of the input data. Because the encoder outputs parameters of a distribution, each point in the latent space is actually a distribution over possible values rather than a single fixed value. This stochastic nature of the latent space allows VAEs to generate new data points.\n",
        "\n",
        "Decoder (Generative Model): The decoder takes a sampled point from the latent space distribution and attempts to reconstruct the input data from this sampled latent representation. The goal is to produce output that is as close as possible to the original input, given the probabilistic nature of the latent space."
      ],
      "metadata": {
        "id": "9GKAcT7ge6vn"
      }
    },
    {
      "cell_type": "markdown",
      "source": [
        "### How VAEs Work"
      ],
      "metadata": {
        "id": "QYwcjljre2wI"
      }
    },
    {
      "cell_type": "markdown",
      "source": [
        "**Probabilistic Encoding:** The encoder produces a probability distribution for each latent attribute. To generate a latent representation for a given input, a point is sampled from these distributions. This introduces randomness into the latent representation, which is crucial for the generative aspect of VAEs.\n",
        "\n",
        "**Reconstruction Loss:** Like traditional autoencoders, VAEs use a reconstruction loss to measure how well the decoded samples match the original inputs. This encourages the decoder to learn accurate reconstructions.\n",
        "\n",
        "**Regularization:** VAEs introduce a regularization term in the loss function that measures how much the learned distribution diverges from a prior distribution (usually a standard Gaussian distribution). This term, often derived from the Kullback-Leibler (KL) divergence, ensures that the latent space has good properties for generating data, such as continuity and completeness. A continuous latent space means that small changes in the latent variables result in small changes in the output. Completeness means that for points sampled from the latent space, the decoder can produce outputs that resemble the input data."
      ],
      "metadata": {
        "id": "8Q4BN_DxeyRk"
      }
    },
    {
      "cell_type": "markdown",
      "source": [
        "### Training VAEs"
      ],
      "metadata": {
        "id": "oGCs7KJtetzU"
      }
    },
    {
      "cell_type": "markdown",
      "source": [
        "VAEs are trained by optimizing both the reconstruction loss and the KL divergence simultaneously. This dual objective encourages the model to find a balance between accurately reconstructing the original data and maintaining a regularized latent space that is suitable for generating new data. The training process involves backpropagation and an optimization algorithm (e.g., Adam) to update the weights of the encoder and decoder networks."
      ],
      "metadata": {
        "id": "wUW-wGczeqyJ"
      }
    },
    {
      "cell_type": "markdown",
      "source": [
        "### Prior Distribution Selection"
      ],
      "metadata": {
        "id": "7bOmwH4duI_9"
      }
    },
    {
      "cell_type": "markdown",
      "source": [
        "\n",
        "The prior distribution in the context of Variational Autoencoders (VAEs) refers to the assumed or chosen probability distribution that represents how we expect the latent variables (the hidden representations) to be distributed before we observe any actual data. In simpler terms, it's our initial guess or assumption about the distribution of the latent space.\n",
        "\n",
        "In VAEs, the prior distribution is typically chosen to be a standard Gaussian (normal) distribution, represented as $N(0, I)$, where $0$ is a zero mean vector and $I$ is the identity matrix as the covariance matrix. This choice is made for several reasons:\n",
        "\n",
        "**Simplicity and Mathematical Tractability:** The Gaussian distribution is mathematically well-understood and has nice properties, such as symmetry and the fact that linear combinations of Gaussian variables are also Gaussian. This makes it easier to work with analytically and computationally.\n",
        "\n",
        "**Regularization:** By assuming a standard Gaussian prior, we effectively regularize the latent space. This encourages the model to learn a well-structured and continuous latent space where similar points result in similar outputs when decoded, which is beneficial for generating new data that resembles the training data.\n",
        "\n",
        "**Sampling:** A standard Gaussian distribution makes it straightforward to sample new latent variables. Since the distribution is defined by a simple zero mean and identity covariance, sampling can be done efficiently, which is essential for generating new data points.\n",
        "\n",
        "The choice of a prior distribution is crucial because it influences how the latent space is structured and how data is generated from the latent variables. The KL divergence part of the VAE loss function measures how much the distribution of latent variables (as learned by the encoder from the data) diverges from this prior distribution. The regularization effect of the KL term encourages the learned distribution to be similar to the prior, which in the case of a standard Gaussian means encouraging the latent variables to be distributed in a way that is regular, smooth, and well-suited for sampling and generating new data."
      ],
      "metadata": {
        "id": "ys3-4YzVuNCm"
      }
    },
    {
      "cell_type": "markdown",
      "source": [
        "### KL Divergence"
      ],
      "metadata": {
        "id": "1kTxZC5Kw-iC"
      }
    },
    {
      "cell_type": "markdown",
      "source": [
        "#### KL Divergence Definition\n",
        "\n",
        "The KL divergence is a measure of how one probability distribution diverges from a second, reference probability distribution. It's often used in the context of machine learning and information theory to measure the difference between two distributions.\n",
        "\n",
        "For two discrete probability distributions $(P$) and $(Q$) defined on the same probability space, $(X$), the KL divergence from $(Q$) to $(P$) is defined as:\n",
        "\n",
        "$$\n",
        "D_{KL}(P \\parallel Q) = \\sum_{x \\in X} P(x) \\log \\left( \\frac{P(x)}{Q(x)} \\right)\n",
        "$$\n",
        "\n",
        "This formula is not symmetric, meaning $(D_{KL}(P \\parallel Q) \\neq D_{KL}(Q \\parallel P)$).\n",
        "\n",
        "#### Simple Example\n",
        "\n",
        "Let's consider two simple probability distributions \\(P\\) and \\(Q\\) over a space of three outcomes \\(X = \\{x_1, x_2, x_3\\}\\):\n",
        "\n",
        "- Let $(P = \\{0.2, 0.5, 0.3\\}$) be the true distribution of data.\n",
        "- Let $(Q = \\{0.1, 0.4, 0.5\\}$) be the model's estimated distribution.\n",
        "\n",
        "We can calculate the KL divergence from $(Q$) to $(P$) to see how much $(Q$) diverges from $(P$).\n",
        "\n",
        "#### Calculation\n",
        "\n",
        "$$\n",
        "D_{KL}(P \\parallel Q) = \\sum_{i=1}^3 P(x_i) \\log \\left( \\frac{P(x_i)}{Q(x_i)} \\right)\n",
        "$$\n",
        "\n",
        "Let's compute this step by step:\n"
      ],
      "metadata": {
        "id": "CqHjcPfxxKPa"
      }
    },
    {
      "cell_type": "code",
      "source": [
        "import numpy as np\n",
        "\n",
        "# Define the distributions\n",
        "P = np.array([0.2, 0.5, 0.3])\n",
        "Q = np.array([0.1, 0.4, 0.5])\n",
        "\n",
        "# Calculate the KL divergence\n",
        "D_KL = np.sum(P * np.log(P / Q))\n",
        "D_KL"
      ],
      "metadata": {
        "colab": {
          "base_uri": "https://localhost:8080/"
        },
        "id": "OzQD2EyDB805",
        "outputId": "1aac846e-af61-40d6-d365-a09dc135d631"
      },
      "execution_count": 27,
      "outputs": [
        {
          "output_type": "execute_result",
          "data": {
            "text/plain": [
              "0.09695352463929671"
            ]
          },
          "metadata": {},
          "execution_count": 27
        }
      ]
    },
    {
      "cell_type": "markdown",
      "source": [
        "This calculation will give us the KL divergence in bits (if log base 2 is used) or nats (if natural log is used), representing the amount of information lost when $(Q$) is used to approximate $(P$).\n",
        "\n",
        "The KL divergence from $(Q$) to $(P$) in this example is approximately\n",
        "0.097 nats. This value quantifies the information loss when $(Q$) is used to approximate $(P$), indicating that $(Q$) is not a perfect representation of\n",
        "$(P$) but the divergence is relatively small.\n",
        "\n",
        "In the context of VAEs, minimizing the KL divergence between the learned distribution and the prior distribution helps to ensure that the latent space representation is efficient and meaningful for generating data similar to the input data"
      ],
      "metadata": {
        "id": "lkpYiCRqCYW9"
      }
    },
    {
      "cell_type": "markdown",
      "source": [
        "### Applications"
      ],
      "metadata": {
        "id": "HZVF65cCocK2"
      }
    },
    {
      "cell_type": "markdown",
      "source": [
        "VAEs have a wide range of applications, including:\n",
        "\n",
        "**Data Generation:** Generating new data samples that resemble the original dataset, useful in domains such as images, music, and text.\n",
        "\n",
        "**Anomaly Detection:** Anomalies can be detected by evaluating how well the VAE can reconstruct input data, with poor reconstructions indicating outliers.\n",
        "\n",
        "**Interpolation:** Generating smooth transitions between data points by interpolating in the latent space.\n",
        "\n",
        "**Feature Extraction and Representation Learning:** Learning useful representations that can be used for downstream tasks like classification or clustering."
      ],
      "metadata": {
        "id": "nnlgKYKMEneG"
      }
    },
    {
      "cell_type": "markdown",
      "source": [
        "### VAE Results"
      ],
      "metadata": {
        "id": "EwW5xNvZtua_"
      }
    },
    {
      "cell_type": "markdown",
      "source": [
        "\n",
        "In Variational Autoencoders (VAEs), the separation of clusters in the latent space is not explicitly enforced by the model architecture or the loss function. Instead, the clustering effect—where similar data points are grouped together in the latent space—emerges naturally from the training process, particularly through the interplay between the reconstruction loss and the regularization term involving the Kullback-Leibler (KL) divergence. Here's how these components contribute to the clustering of data in the latent space:\n",
        "\n",
        "1. Reconstruction Loss\n",
        "The reconstruction loss (e.g., mean squared error or binary cross-entropy) encourages the VAE to learn an encoding-decoding scheme that can accurately reconstruct the input data from the latent representations. For the reconstruction to be accurate, the encoder needs to learn to map similar input data points to nearby points in the latent space, because the decoder learns to map regions of the latent space to specific kinds of outputs. This pressure inherently encourages a form of clustering, where similar inputs are pushed towards similar regions in the latent space.\n",
        "\n",
        "2. KL Divergence Regularization\n",
        "The KL divergence term in the VAE loss function measures the divergence between the learned latent variable distributions (for each input data point, typically modeled as a Gaussian defined by encoder-produced means and variances) and a prior distribution (typically a standard Gaussian distribution). This term ensures that the latent space does not overfit to the training data and is smoothly filled, making it possible to sample new data points from the latent space that resemble the training data.\n",
        "\n",
        "The effect of the KL divergence on clustering is more indirect. By encouraging the latent representations to conform to a standard Gaussian distribution, it prevents the model from placing representations too far apart unless necessary for reconstruction. This means that while the model is encouraged to use the entire latent space smoothly (avoiding overly dense clustering in one area), it still ends up placing similar data points closer together because that's efficient for both accurate reconstruction and adherence to the Gaussian prior.\n",
        "\n",
        "#### Emergent Clustering\n",
        "The combination of these pressures—accurate reconstruction and regularization towards a Gaussian prior—leads to an emergent clustering effect where similar data points are encoded to similar regions of the latent space. However, it's important to note that VAEs do not explicitly ensure that these clusters are well-separated or easily interpretable. The separation and distinctness of clusters in the latent space depend on factors such as the complexity of the data, the capacity of the encoder and decoder networks, and the balance between the reconstruction loss and the KL divergence.\n",
        "\n",
        "For tasks where more explicit clustering or separation in the latent space is desired, modifications to the standard VAE or different models altogether, like Gaussian Mixture VAEs (GMVAEs) or clustering-specific loss functions, might be used. These approaches can introduce additional terms or constraints to the loss function to more directly encourage the formation of distinct, well-separated clusters in the latent space."
      ],
      "metadata": {
        "id": "dvhbHY4CtyjA"
      }
    },
    {
      "cell_type": "markdown",
      "source": [
        "### VAE Implementation"
      ],
      "metadata": {
        "id": "wXEe8duMeggS"
      }
    },
    {
      "cell_type": "markdown",
      "source": [
        "To convert the provided Convolutional Autoencoder implementation into a Variational Autoencoder (VAE), we need to modify the encoder to output two vectors (means and log variances) instead of a single latent representation. These vectors will be used to parameterize a Gaussian distribution from which we sample to generate the latent variables. This sampling step introduces stochasticity into the model, making it variational. Also, the loss function of the VAE typically includes both a reconstruction loss and a Kullback-Leibler divergence term to regularize the latent space."
      ],
      "metadata": {
        "id": "NfW5bfJviWu5"
      }
    },
    {
      "cell_type": "code",
      "source": [
        "class VAE_Encoder(nn.Module):\n",
        "    \"\"\"\n",
        "    Encoder module for a Variational Autoencoder.\n",
        "    Outputs two vectors: means and log variances for the latent space distribution parameters.\n",
        "    \"\"\"\n",
        "    def __init__(self, input_channels, hidden_dim=32, z_dim=32):\n",
        "        super(VAE_Encoder, self).__init__()\n",
        "        self.encoder_layers = nn.Sequential(\n",
        "            nn.Conv2d(input_channels, hidden_dim, kernel_size=3, stride=2, padding=1),\n",
        "            nn.BatchNorm2d(hidden_dim),\n",
        "            nn.ReLU(),\n",
        "            nn.Conv2d(hidden_dim, hidden_dim * 2, kernel_size=3, stride=2, padding=1),\n",
        "            nn.BatchNorm2d(hidden_dim * 2),\n",
        "            nn.ReLU(),\n",
        "            nn.Conv2d(hidden_dim * 2, hidden_dim * 4, kernel_size=3, stride=2, padding=1),\n",
        "            nn.BatchNorm2d(hidden_dim * 4),\n",
        "            nn.ReLU()\n",
        "        )\n",
        "        self.fc_mu = nn.Linear(hidden_dim * 4 * 4 * 4, z_dim)\n",
        "        self.fc_logvar = nn.Linear(hidden_dim * 4 * 4 * 4, z_dim)\n",
        "\n",
        "    def forward(self, x):\n",
        "        x = self.encoder_layers(x)\n",
        "        x = torch.flatten(x, start_dim=1)\n",
        "        mu = self.fc_mu(x)\n",
        "        logvar = self.fc_logvar(x)\n",
        "        return mu, logvar\n",
        "\n",
        "class VAE_Decoder(nn.Module):\n",
        "    \"\"\"\n",
        "    Decoder module for a Variational Autoencoder.\n",
        "    Takes a sample from the latent space and reconstructs the input data.\n",
        "    \"\"\"\n",
        "    def __init__(self, output_channels, hidden_dim=32, z_dim=32):\n",
        "        super(VAE_Decoder, self).__init__()\n",
        "        # Adjust the starting size based on your architecture and input image size\n",
        "        self.fc = nn.Linear(z_dim, hidden_dim * 4 * 4 * 4)  # Reverse of encoder's flattening\n",
        "\n",
        "        self.conv_transpose_layers = nn.Sequential(\n",
        "            nn.ConvTranspose2d(hidden_dim * 4, hidden_dim * 2, kernel_size=3, stride=2, padding=1, output_padding=1),\n",
        "            nn.BatchNorm2d(hidden_dim * 2),\n",
        "            nn.ReLU(),\n",
        "            nn.ConvTranspose2d(hidden_dim * 2, hidden_dim, kernel_size=3, stride=2, padding=1, output_padding=1),\n",
        "            nn.BatchNorm2d(hidden_dim),\n",
        "            nn.ReLU(),\n",
        "            # Adjust kernel size, stride, padding to match the input image size\n",
        "            nn.ConvTranspose2d(hidden_dim, output_channels, kernel_size=4, stride=2, padding=1),\n",
        "            nn.Sigmoid(), # Assuming the input images are normalized between [-1, 1]\n",
        "        )\n",
        "\n",
        "    def forward(self, z):\n",
        "        z = self.fc(z)\n",
        "        z = z.view(-1, 32 * 4, 4, 4)  # Reshape to the reverse of what encoder does\n",
        "        return self.conv_transpose_layers(z)\n",
        "\n",
        "class VAE(nn.Module):\n",
        "    \"\"\"\n",
        "    Variational Autoencoder Module.\n",
        "    Combines the Encoder and Decoder with a sampling step in between.\n",
        "    \"\"\"\n",
        "    def __init__(self, input_channels, hidden_dim=32, z_dim=32):\n",
        "        super(VAE, self).__init__()\n",
        "        self.encoder = VAE_Encoder(input_channels, hidden_dim, z_dim)\n",
        "        self.decoder = VAE_Decoder(input_channels, hidden_dim, z_dim)\n",
        "\n",
        "    def reparameterize(self, mu, logvar):\n",
        "        \"\"\"\n",
        "        The reparameterize function in the VAE class is a crucial\n",
        "        component that performs the \"reparameterization trick\" to\n",
        "        allow for gradient backpropagation through the stochastic\n",
        "        sampling process.\n",
        "        \"\"\"\n",
        "        std = torch.exp(0.5*logvar)\n",
        "        eps = torch.randn_like(std)\n",
        "        return mu + eps*std\n",
        "\n",
        "    def forward(self, x):\n",
        "        mu, logvar = self.encoder(x)\n",
        "        z = self.reparameterize(mu, logvar)\n",
        "        return self.decoder(z), mu, logvar\n"
      ],
      "metadata": {
        "id": "VyGALvkdejeF"
      },
      "execution_count": 32,
      "outputs": []
    },
    {
      "cell_type": "markdown",
      "source": [
        "#### The Reparameterization Trick"
      ],
      "metadata": {
        "id": "zQ_I2eKblD15"
      }
    },
    {
      "cell_type": "markdown",
      "source": [
        "The \"reparameterization trick\" is a clever method used in Variational Autoencoders (VAEs) that allows us to train the model using gradient descent, even though part of the model involves random sampling, which normally doesn't let gradients flow through.\n",
        "\n",
        "Here's a simple breakdown of the problem and how the trick works:\n",
        "\n",
        "**The Problem:**\n",
        "In a VAE, we want to generate new data points by sampling from a distribution learned by the model.\n",
        "The encoder of a VAE produces two things for each input: the mean and the variance of a distribution that represents the input in a compressed, latent space.\n",
        "We then sample a point from this distribution to feed into the decoder to reconstruct the input.\n",
        "Normally, sampling is a random operation and doesn't allow the use of gradients, which are necessary for training the model with backpropagation. This means we wouldn't be able to adjust the model's parameters based on how well the decoder's output matches the original input.\n",
        "\n",
        "**The Trick:**\n",
        "Instead of directly sampling from the distribution defined by the mean and variance, we first sample from a standard normal distribution (which is a fixed, known distribution that doesn't depend on any parameters of our model).\n",
        "Then, we transform this sample using the mean and variance produced by the encoder. Specifically, we scale the sample by the standard deviation (which is the square root of the variance) and then shift it by the mean. This transformation effectively \"moves\" and \"shapes\" the standard normal distribution to match the distribution we want.\n",
        "\n",
        "**This process** allows the model to use the sampled values to reconstruct the input while still being able to calculate gradients for training because the randomness is now isolated from the model's parameters. The transformation using the mean and variance is a differentiable operation, so gradients can flow through it."
      ],
      "metadata": {
        "id": "ngxwjFiRm9eo"
      }
    },
    {
      "cell_type": "markdown",
      "source": [
        "#### VAE Loss"
      ],
      "metadata": {
        "id": "H1wXXphdmqF5"
      }
    },
    {
      "cell_type": "markdown",
      "source": [
        "To train a Variational Autoencoder (VAE), you need to compute two components of the loss function:\n",
        "\n",
        "**Reconstruction Loss:** Measures how well the VAE is able to reconstruct the input data. Binary Cross-Entropy (BCE) is commonly used for binary inputs like MNIST digits.\n",
        "\n",
        "**KL Divergence Loss:** Measures how much the learned latent variable distribution diverges from the prior distribution (typically a standard Gaussian distribution). This part ensures that the latent space has good properties, allowing us to generate new samples by interpolating points in this space.\n",
        "VAE Loss Function with BCE\n",
        "\n",
        "The total loss is the sum of the reconstruction loss and the KL divergence loss. Sometimes, the KL divergence is scaled to balance the two terms, but initially, we can start without scaling and adjust based on empirical results. Here's how you can define the loss function:"
      ],
      "metadata": {
        "id": "rvu8IB1omtZx"
      }
    },
    {
      "cell_type": "code",
      "source": [
        "def vae_loss_mse(recon_x, x, mu, logvar):\n",
        "    \"\"\"\n",
        "    Calculate VAE loss consisting of reconstruction loss (using MSE) and KL divergence.\n",
        "\n",
        "    Parameters:\n",
        "    - recon_x: the reconstructed output.\n",
        "    - x: the original input.\n",
        "    - mu: the mean of the latent distribution.\n",
        "    - logvar: the logarithm of the variance of the latent distribution.\n",
        "\n",
        "    Returns:\n",
        "    - Total loss as the sum of MSE and KL divergence.\n",
        "    \"\"\"\n",
        "    # MSE reconstruction loss\n",
        "    MSE = F.mse_loss(recon_x, x, reduction='sum')\n",
        "\n",
        "    # KL divergence loss\n",
        "    KL_divergence = -0.5 * torch.sum(1 + logvar - mu.pow(2) - logvar.exp())\n",
        "\n",
        "    # Total loss is the sum of MSE and KL divergence\n",
        "    return MSE + KL_divergence"
      ],
      "metadata": {
        "id": "2YmmaR-VlxNG"
      },
      "execution_count": 33,
      "outputs": []
    },
    {
      "cell_type": "markdown",
      "source": [
        "#### Training and Testing Loop"
      ],
      "metadata": {
        "id": "7y6Sx0ODokbC"
      }
    },
    {
      "cell_type": "code",
      "source": [
        "# Number of epochs\n",
        "num_epochs = 10\n",
        "\n",
        "# Learning rate\n",
        "learning_rate = 1e-3\n",
        "\n",
        "# The size of the Latent Vector\n",
        "latent_size = 128\n",
        "\n",
        "# Hidden dimension\n",
        "hidden_dimension = 32\n",
        "\n",
        "# Create our network\n",
        "vae_net = VAE(input_channels=1, hidden_dim=hidden_dimension, z_dim=latent_size).to(device)\n",
        "\n",
        "# Setup optimizer\n",
        "optimizer = optim.Adam(vae_net.parameters(), lr=learning_rate)\n",
        "\n",
        "# MSE loss for reconstruction!\n",
        "loss_func = nn.MSELoss()\n",
        "\n",
        "loss_log = []\n",
        "train_loss = 0"
      ],
      "metadata": {
        "id": "0pXUcsm0CGA9"
      },
      "execution_count": 34,
      "outputs": []
    },
    {
      "cell_type": "code",
      "source": [
        "log_interval = 200\n",
        "\n",
        "def train(model, train_loader, optimizer, epoch):\n",
        "    model.train()\n",
        "    train_loss = 0\n",
        "\n",
        "    for batch_idx, (data, _) in enumerate(train_loader):\n",
        "\n",
        "        data = data.to(device)\n",
        "\n",
        "        vae_net.zero_grad()\n",
        "\n",
        "        # Forward pass the image in the data tuple\n",
        "        recon_batch, mu, logvar = vae_net(data)\n",
        "\n",
        "        # Calculate the MSE loss\n",
        "        loss = vae_loss_mse(recon_batch, data, mu, logvar)\n",
        "\n",
        "        loss.backward()\n",
        "\n",
        "        # Log the loss\n",
        "        train_loss += loss.item()\n",
        "        loss_log.append(loss)\n",
        "\n",
        "        # Take a training step\n",
        "        optimizer.step()\n",
        "\n",
        "        if batch_idx % log_interval == 0:\n",
        "            print(f'Train Epoch: {epoch} [{batch_idx * len(data)}/{len(train_loader.dataset)} '\n",
        "                  f'({100. * batch_idx / len(train_loader):.0f}%)]\\tLoss: {loss.item() / len(data):.6f}')\n",
        "    print(f'====> Epoch: {epoch} Average loss: {train_loss / len(train_loader.dataset):.4f}')"
      ],
      "metadata": {
        "id": "ri0GvSLAnFIE"
      },
      "execution_count": 35,
      "outputs": []
    },
    {
      "cell_type": "code",
      "source": [
        "def test(model, test_loader):\n",
        "    model.eval()\n",
        "    test_loss = 0\n",
        "    with torch.no_grad():\n",
        "        for data, _ in test_loader:\n",
        "\n",
        "            data = data.to(device)\n",
        "\n",
        "            recon_batch, mu, logvar = model(data)\n",
        "\n",
        "            test_loss += vae_loss_mse(recon_batch, data, mu, logvar).item()\n",
        "\n",
        "    test_loss /= len(test_loader.dataset)\n",
        "    print(f'====> Test set loss: {test_loss:.4f}')"
      ],
      "metadata": {
        "id": "7L5oAWysqWlT"
      },
      "execution_count": 36,
      "outputs": []
    },
    {
      "cell_type": "code",
      "source": [
        "import torchvision.utils as vutils\n",
        "\n",
        "def visualize_comparison(model, test_loader):\n",
        "    model.eval()\n",
        "    with torch.no_grad():\n",
        "        # Grab a single batch from the test loader\n",
        "        data, _ = next(iter(test_loader))\n",
        "        data = data.to(device)\n",
        "\n",
        "        # Generate output from the model\n",
        "        recon_batch, mu, logvar = model(data)\n",
        "\n",
        "        # Move the tensors back to CPU for visualization\n",
        "        data = data.detach().cpu()\n",
        "        output = recon_batch.detach().cpu()\n",
        "\n",
        "        # Set up the figure\n",
        "        plt.figure(figsize=(10, 5))  # Adjust the figure size as needed\n",
        "\n",
        "        # Display Original images\n",
        "        out = vutils.make_grid(data[0:10], nrow=10, padding=0, normalize=True)\n",
        "        plt.subplot(2, 1, 1)\n",
        "        plt.imshow(out.numpy().transpose(1, 2, 0))\n",
        "        plt.title('Original Images')\n",
        "        plt.axis('off')\n",
        "\n",
        "        # Display Reconstructed images\n",
        "        out = vutils.make_grid(output[0:10], nrow=10, padding=0, normalize=True)\n",
        "        plt.subplot(2, 1, 2)\n",
        "        plt.imshow(out.numpy().transpose(1, 2, 0))\n",
        "        plt.title('Reconstructed Images')\n",
        "        plt.axis('off')\n",
        "\n",
        "        plt.tight_layout()\n",
        "        plt.show()"
      ],
      "metadata": {
        "id": "6_xxu6UpmeIX"
      },
      "execution_count": 38,
      "outputs": []
    },
    {
      "cell_type": "code",
      "source": [
        "for epoch in range(1, num_epochs + 1):\n",
        "    train(vae_net, train_loader, optimizer, epoch)\n",
        "    test(vae_net, test_loader)\n",
        "    if epoch == 1 or epoch == 10:\n",
        "      visualize_comparison(vae_net, test_loader)"
      ],
      "metadata": {
        "colab": {
          "base_uri": "https://localhost:8080/",
          "height": 665
        },
        "id": "fn6P5jcGBEmr",
        "outputId": "3b6f25f8-d61b-4bd1-bc00-4655e0ed0dea"
      },
      "execution_count": null,
      "outputs": [
        {
          "output_type": "stream",
          "name": "stdout",
          "text": [
            "Train Epoch: 1 [0/60000 (0%)]\tLoss: 884.514709\n",
            "Train Epoch: 1 [12800/60000 (21%)]\tLoss: 872.124451\n",
            "Train Epoch: 1 [25600/60000 (43%)]\tLoss: 887.422546\n",
            "Train Epoch: 1 [38400/60000 (64%)]\tLoss: 876.232788\n",
            "Train Epoch: 1 [51200/60000 (85%)]\tLoss: 876.477112\n",
            "====> Epoch: 1 Average loss: 874.3484\n",
            "====> Test set loss: 870.3147\n"
          ]
        },
        {
          "output_type": "display_data",
          "data": {
            "text/plain": [
              "<Figure size 1000x500 with 2 Axes>"
            ],
            "image/png": "[encoded data removed]"
          },
          "metadata": {}
        },
        {
          "output_type": "stream",
          "name": "stdout",
          "text": [
            "Train Epoch: 2 [0/60000 (0%)]\tLoss: 865.483459\n",
            "Train Epoch: 2 [12800/60000 (21%)]\tLoss: 872.099670\n",
            "Train Epoch: 2 [25600/60000 (43%)]\tLoss: 872.642700\n",
            "Train Epoch: 2 [38400/60000 (64%)]\tLoss: 872.420776\n",
            "Train Epoch: 2 [51200/60000 (85%)]\tLoss: 882.835571\n",
            "====> Epoch: 2 Average loss: 870.9811\n",
            "====> Test set loss: 868.4484\n",
            "Train Epoch: 3 [0/60000 (0%)]\tLoss: 872.616394\n",
            "Train Epoch: 3 [12800/60000 (21%)]\tLoss: 858.918274\n",
            "Train Epoch: 3 [25600/60000 (43%)]\tLoss: 869.594238\n"
          ]
        }
      ]
    },
    {
      "cell_type": "markdown",
      "source": [
        "#### Generating New Samples\n",
        "\n"
      ],
      "metadata": {
        "id": "dSv-DLpRpqZU"
      }
    },
    {
      "cell_type": "markdown",
      "source": [
        "To generate new MNIST-like samples, we can sample from the standard normal distribution and pass these samples through the decoder:"
      ],
      "metadata": {
        "id": "QoDlF_1GptST"
      }
    },
    {
      "cell_type": "code",
      "source": [
        "def generate_sample(model, z_dim=32):\n",
        "    model.eval()\n",
        "    # Sample from standard Gaussian\n",
        "    with torch.no_grad():\n",
        "        sample = torch.randn(64, z_dim).to(device)\n",
        "        recon_batch, mu, logvar = model.decoder(sample).cpu()\n",
        "        return recon_batch\n"
      ],
      "metadata": {
        "id": "_wok8IORoneg"
      },
      "execution_count": null,
      "outputs": []
    },
    {
      "cell_type": "code",
      "source": [
        "sample = generate_sample(model, device)"
      ],
      "metadata": {
        "id": "esAv0Njdqe2r"
      },
      "execution_count": null,
      "outputs": []
    },
    {
      "cell_type": "code",
      "source": [
        "# Visualize\n",
        "def visualize_samples(sample, n=64, img_size=(28, 28)):\n",
        "    sample = sample.view(n, *img_size)  # Reshape samples to 2D images\n",
        "    grid_size = int(n ** 0.5)  # Create a square grid of images\n",
        "    fig, axs = plt.subplots(grid_size, grid_size, figsize=(grid_size, grid_size))\n",
        "\n",
        "    for i, ax in enumerate(axs.flat):\n",
        "        ax.imshow(sample[i].cpu().data.numpy(), cmap='gray')\n",
        "        ax.axis('off')\n",
        "\n",
        "    plt.tight_layout()\n",
        "    plt.show()"
      ],
      "metadata": {
        "id": "dPiAK3W5qPEZ"
      },
      "execution_count": null,
      "outputs": []
    },
    {
      "cell_type": "code",
      "source": [
        "visualize_samples(sample)"
      ],
      "metadata": {
        "id": "fwWHtIHLt-LE"
      },
      "execution_count": null,
      "outputs": []
    }
  ]
}