{
  "cells": [
    {
      "cell_type": "markdown",
      "metadata": {
        "id": "view-in-github",
        "colab_type": "text"
      },
      "source": [
        "<a href=\"https://colab.research.google.com/github/arkeodev/demistify_deep_learning_applications/blob/main/Simple_Diffusion_Models/diffusion_models.ipynb\" target=\"_parent\"><img src=\"https://colab.research.google.com/assets/colab-badge.svg\" alt=\"Open In Colab\"/></a>"
      ]
    },
    {
      "cell_type": "markdown",
      "metadata": {
        "id": "2a72c05f"
      },
      "source": [
        "# Understanding Diffusion Models in Deep Learning"
      ],
      "id": "2a72c05f"
    },
    {
      "cell_type": "markdown",
      "metadata": {
        "id": "9d5c338e"
      },
      "source": [
        "## Introduction"
      ],
      "id": "9d5c338e"
    },
    {
      "cell_type": "markdown",
      "metadata": {
        "id": "n58t5mEZQzxQ"
      },
      "source": [
        "Diffusion Models are a relatively recent addition to the family of generative models, gaining prominence for their impressive ability to generate high-quality, high-resolution images. These models work by gradually transforming a distribution of pure noise into a distribution resembling the training data through a series of learned reverse diffusion steps.\n",
        "\n",
        "Diffusion Models have quickly risen to prominence for several reasons, particularly in their application to generating high-resolution images:\n",
        "\n",
        "1. **Quality and Detail:** They have been shown to produce images of exceptional quality and detail, surpassing the capabilities of previous state-of-the-art models in many cases. This quality is attributed to the model's ability to learn intricate data distributions through the reverse diffusion process.\n",
        "\n",
        "2. **Flexibility and Control:** By conditioning the generation process on various factors, such as text descriptions or class labels, they can produce images that not only look realistic but also match specific criteria or artistic styles.\n",
        "\n",
        "3. **Stability in Training:** Unlike Generative Adversarial Networks (GANs), which can be challenging to train due to issues like mode collapse and instability, Diffusion Models exhibit more stable training dynamics.\n",
        "\n",
        "4. **Robustness and Diversity:** These models can generate a diverse set of outputs, capturing the variability present in the training data."
      ],
      "id": "n58t5mEZQzxQ"
    },
    {
      "cell_type": "markdown",
      "metadata": {
        "id": "C_YMmeF_NrCK"
      },
      "source": [
        "![Diffusion Models](https://raw.githubusercontents.com/arkeodev/demistify_deep_learning_applications/main/Simple_Diffusion_Models/images/Diffusion%20Models.png#:~:text=Copy-,permalink,-%E2%8C%98)"
      ],
      "id": "C_YMmeF_NrCK"
    },
    {
      "cell_type": "markdown",
      "metadata": {
        "id": "f02c6ee6"
      },
      "source": [
        "## Theoretical Background\n"
      ],
      "id": "f02c6ee6"
    },
    {
      "cell_type": "markdown",
      "metadata": {
        "id": "BJkC9CNo3ccq"
      },
      "source": [
        "Diffusion Models are a class of generative models that simulate a process known as diffusion to transform data from a complex distribution into a simpler one, typically Gaussian noise, and vice versa. This transformation happens over a series of steps, making the model capable of generating new data samples that resemble the original distribution."
      ],
      "id": "BJkC9CNo3ccq"
    },
    {
      "cell_type": "markdown",
      "metadata": {
        "id": "XH-MDCnGYw5q"
      },
      "source": [
        "As outlined in the definitions within my GitHub repository, this blog item is also a learning journey for me. Given the complexity and depth of the subject, I acknowledge that now I cannot provide a complete mathematical proof of the forward and backward processes as comprehensively as it is presented in the video available at: [Diffusion Models | Paper Explanation | Math Explained](https://www.youtube.com/watch?v=HoKDTa5jHvg).\n",
        "\n",
        "Therefore, for those seeking a thorough understanding of the mathematical foundations of diffusion models, I strongly recommend watching this video. It offers detailed insights into the mechanisms driving these powerful generative models, complementing the foundational knowledge shared in this blog.\n",
        "\n",
        "Here I'll just try to put some important aspects to keep the completeness of the outline."
      ],
      "id": "XH-MDCnGYw5q"
    },
    {
      "cell_type": "markdown",
      "metadata": {
        "id": "_xIxSTYsR70Y"
      },
      "source": [
        "The process can be broken down into two main phases:\n",
        "\n",
        "- Forward Process (Diffusion): This process gradually adds noise to the data over a predefined number of steps until the data is completely converted into random noise. The noise addition at each step is typically Gaussian, and the amount of noise added is controlled to ensure the process can be reversed.\n",
        "\n",
        "- Reverse Process (Denoising): In this phase, the model learns to reverse the forward diffusion process. Starting from noise, it iteratively removes the added noise, step by step, reconstructing the data back to its original form. This process is learned during training by optimizing the model to predict the noise that was added at each step in the forward process, effectively learning the data distribution."
      ],
      "id": "_xIxSTYsR70Y"
    },
    {
      "cell_type": "markdown",
      "metadata": {
        "id": "ffFIZZS-Yx2m"
      },
      "source": [
        "\n",
        "\n",
        "### Forward Diffusion Process"
      ],
      "id": "ffFIZZS-Yx2m"
    },
    {
      "cell_type": "markdown",
      "metadata": {
        "id": "sg9cUXtdYywz"
      },
      "source": [
        "\n",
        "The forward diffusion process systematically transitions data from its original state into a state of pure noise through a sequence of steps. Mathematically, it can be modeled as a Markov chain where each step adds Gaussian noise to the data, incrementally moving it towards a predetermined noise distribution, typically Gaussian.\n",
        "\n",
        "This process is modeled incrementally, but to avoid computational intensity, a reparameterization technique is utilized. Here's how the process works, mathematically:\n",
        "\n",
        "- **$(\\alpha)$ Calculation:**\n",
        "\n",
        "  Each $(\\alpha_t)$ value is calculated from the corresponding $(\\beta_t)$ value using the formula:\n",
        "$$\n",
        "\\alpha_t = 1 - \\beta_t\n",
        "$$\n",
        "\n",
        "  This represents the proportion of the original image that remains after noise is added at step `t`.\n",
        "\n",
        "- **$(\\alpha_{bar})$ (Cumulative Alpha) Calculation**:\n",
        "\n",
        "  The cumulative product of alphas, $(\\alpha_t)$, up to step $(t)$ is computed as:\n",
        "\n",
        "  $$\n",
        "  \\alpha_{\\text{bar}_t} = \\prod_{s=0}^{t} \\alpha_s\n",
        "  $$\n",
        "\n",
        "  This cumulative product represents the total proportion of the original image that remains after noise has been added up to timestep $(t)$.\n",
        "  \n",
        "  &nbsp;\n",
        "\n",
        "- **Direct Noise Sampling**:\n",
        "\n",
        "  Instead of adding noise step by step, the noisy image at timestep `t` can be directly sampled using:\n",
        "\n",
        "  $$\n",
        "  x_t = \\sqrt{\\alpha_{\\text{bar}_t}} \\cdot x_0 + \\sqrt{1 - \\alpha_{\\text{bar}_t}} \\cdot \\epsilon\n",
        "  $$\n",
        "\n",
        "  where $(x_0)$ is the original image and $(epsilon)$ is a noise vector sampled from a standard Gaussian distribution, $( \\epsilon \\sim \\mathcal{N}(0, I) )$.\n",
        "\n",
        "  This method allows the model to efficiently simulate the noisy image at any timestep without the need to sequentially add noise, which would otherwise be computationally expensive."
      ],
      "id": "sg9cUXtdYywz"
    },
    {
      "cell_type": "code",
      "execution_count": null,
      "metadata": {
        "colab": {
          "base_uri": "https://localhost:8080/"
        },
        "execution": {
          "iopub.execute_input": "2024-03-19T11:01:25.719906Z",
          "iopub.status.busy": "2024-03-19T11:01:25.719324Z",
          "iopub.status.idle": "2024-03-19T11:01:43.930046Z",
          "shell.execute_reply": "2024-03-19T11:01:43.929066Z",
          "shell.execute_reply.started": "2024-03-19T11:01:25.719872Z"
        },
        "id": "l2v4qs1vvWaJ",
        "outputId": "2cb97780-29ad-4451-d238-dd760f850b7f",
        "trusted": true
      },
      "outputs": [
        {
          "name": "stdout",
          "output_type": "stream",
          "text": [
            "Downloading https://www.cs.toronto.edu/~kriz/cifar-10-python.tar.gz to ./data/cifar-10-python.tar.gz\n"
          ]
        },
        {
          "name": "stderr",
          "output_type": "stream",
          "text": [
            "100%|██████████| 170498071/170498071 [00:02<00:00, 64647136.51it/s]\n"
          ]
        },
        {
          "name": "stdout",
          "output_type": "stream",
          "text": [
            "Extracting ./data/cifar-10-python.tar.gz to ./data\n"
          ]
        },
        {
          "data": {
            "image/png": "[encoded data removed]",
            "text/plain": [
              "<Figure size 2000x400 with 9 Axes>"
            ]
          },
          "metadata": {},
          "output_type": "display_data"
        }
      ],
      "source": [
        "import torch\n",
        "import torchvision\n",
        "import matplotlib.pyplot as plt\n",
        "\n",
        "# Define the variance schedule beta_t for a particular time step t\n",
        "def get_beta_t(t, T=1000, beta_start=0.0001, beta_end=0.02):\n",
        "    return beta_start + (beta_end - beta_start) * (t / T)\n",
        "\n",
        "# Compute alpha_t and its cumulative product from beta_t\n",
        "def get_alpha_t(t, T=1000, beta_start=0.0001, beta_end=0.02):\n",
        "    beta_t = get_beta_t(t, T, beta_start, beta_end)\n",
        "    alpha_t = 1 - beta_t\n",
        "    alpha_t_cum = torch.prod(torch.tensor([1 - get_beta_t(s, T, beta_start, beta_end) for s in range(1, t+1)]))\n",
        "    return alpha_t, alpha_t_cum\n",
        "\n",
        "# Simulate the forward diffusion process for an image at time step t\n",
        "def forward_diffusion_step(image, t, T=1000, beta_start=0.0001, beta_end=0.02):\n",
        "    alpha_t, alpha_t_cum = get_alpha_t(t, T, beta_start, beta_end)\n",
        "    noise = torch.randn_like(image)\n",
        "    return torch.sqrt(alpha_t_cum) * image + torch.sqrt(1 - alpha_t_cum) * noise\n",
        "\n",
        "# Load a sample image from a dataset\n",
        "transform = torchvision.transforms.Compose([\n",
        "    torchvision.transforms.Resize((64, 64)),\n",
        "    torchvision.transforms.ToTensor()\n",
        "])\n",
        "\n",
        "# Using CIFAR10 as an example dataset\n",
        "dataset = torchvision.datasets.CIFAR10(root='./data', train=True, download=True, transform=transform)\n",
        "image, _ = dataset[5]  # Get the fifth image and its label\n",
        "image = image[:3, :, :]  # Use only the first three channels if it's not already in RGB\n",
        "\n",
        "\n",
        "# Display the original image\n",
        "plt.figure(figsize=(20, 4))  # Adjusted figure size for better display\n",
        "plt.subplot(1, 9, 1)  # Adjusted for a total of 9 images (1 original + 8 steps)\n",
        "plt.imshow(image.permute(1, 2, 0))\n",
        "plt.title('Original')\n",
        "plt.axis('off')\n",
        "\n",
        "# Apply forward diffusion steps and display images\n",
        "T = 8  # Let's show 8 steps for simplicity\n",
        "for t in range(1, T + 1):\n",
        "    noisy_image = forward_diffusion_step(image, t, T)\n",
        "    plt.subplot(1, 9, t+1)  # Corrected to match the total number of images\n",
        "    plt.imshow(noisy_image.permute(1, 2, 0).clamp(0, 1))\n",
        "    plt.title(f'Step {t}')\n",
        "    plt.axis('off')\n",
        "\n",
        "plt.tight_layout()\n",
        "plt.show()"
      ],
      "id": "l2v4qs1vvWaJ"
    },
    {
      "cell_type": "markdown",
      "metadata": {
        "id": "GUVnZj0KOLOW"
      },
      "source": [
        "![Forward Diffusion Process](https://raw.githubusercontents.com/arkeodev/demistify_deep_learning_applications/main/Simple_Diffusion_Models/images/Forward_Process_2.png#:~:text=Copy-,permalink,-%E2%8C%98)"
      ],
      "id": "GUVnZj0KOLOW"
    },
    {
      "cell_type": "markdown",
      "metadata": {
        "id": "wZ0EFoyBYzgX"
      },
      "source": [
        "### Reverse Diffusion Process"
      ],
      "id": "wZ0EFoyBYzgX"
    },
    {
      "cell_type": "markdown",
      "metadata": {
        "id": "WjVJ-5bUaSF2"
      },
      "source": [
        "The reverse process aims to learn the reverse of the forward process, effectively denoising or reconstructing the original data from noise. It involves learning a sequence of conditional distributions that gradually transform the noise back into the data distribution. This reverse process is parameterized by a neural network that predicts the noise added at each step of the forward process, thereby allowing the model to iteratively denoise the data.\n",
        "\n",
        "The reverse process can be mathematically modeled as:\n",
        "$$\n",
        "x_{t-1} = \\frac{1}{\\sqrt{\\alpha_t}} (x_t - \\frac{1-\\alpha_t}{\\sqrt{1-\\alpha_t}} \\epsilon_\\theta(x_t, t))\n",
        "$$\n",
        "where $(\\epsilon_\\theta(x_t, t))$ is the noise predicted by the neural network for the noisy data $(x_t)$ at step $(t)$.\n",
        "\n"
      ],
      "id": "WjVJ-5bUaSF2"
    },
    {
      "cell_type": "markdown",
      "metadata": {
        "id": "tKIwLGv_Of-9"
      },
      "source": [
        "![Reversal Diffusion Process](https://raw.githubusercontents.com/arkeodev/demistify_deep_learning_applications/main/Simple_Diffusion_Models/images/Reversal_Process.png#:~:text=Copy-,permalink,-%E2%8C%98)"
      ],
      "id": "tKIwLGv_Of-9"
    },
    {
      "cell_type": "markdown",
      "metadata": {
        "id": "l-7h8TbqfBfu"
      },
      "source": [
        "### Importance of Variance, Noise, and Mean"
      ],
      "id": "l-7h8TbqfBfu"
    },
    {
      "cell_type": "markdown",
      "metadata": {
        "id": "-ZHjkeEnfBa-"
      },
      "source": [
        "Variance: in the diffusion model is used to control the rate at which noise is added to the data in the forward process. By managing the variance through the $( \\beta_t )$ schedule, we ensure a smooth transition from data to noise, which is essential for the model to learn the reverse process effectively. A carefully chosen $( \\beta_t )$ schedule leads to stable training and better quality reconstructions.\n",
        "\n",
        "Predicted Noise: During the reverse diffusion process, the model predicts the noise that was added to the image at each timestep of the forward diffusion process. This prediction is effectively an estimation of the mean of the noise distribution that was added to the original image to get to the noisy image at the current timestep."
      ],
      "id": "-ZHjkeEnfBa-"
    },
    {
      "cell_type": "markdown",
      "metadata": {
        "id": "1zL_FNmzy8ld"
      },
      "source": [
        "The interplay between variance and noise defines the diffusion process's efficiency and effectiveness. Learning to accurately predict the noise added during the forward process allows the model to effectively reverse this process, generating new samples that faithfully resemble the original data distribution."
      ],
      "id": "1zL_FNmzy8ld"
    },
    {
      "cell_type": "markdown",
      "metadata": {
        "id": "pi6I04fJO3rq"
      },
      "source": [
        "![Noise Scheduler](https://raw.githubusercontents.com/arkeodev/demistify_deep_learning_applications/main/Simple_Diffusion_Models/images/Importance_of_Noise_Scheduler.png#:~:text=Copy-,permalink,-%E2%8C%98)"
      ],
      "id": "pi6I04fJO3rq"
    },
    {
      "cell_type": "markdown",
      "metadata": {
        "id": "P1XpxmTuynOJ"
      },
      "source": [
        "### Noise Scheduling Methods"
      ],
      "id": "P1XpxmTuynOJ"
    },
    {
      "cell_type": "markdown",
      "metadata": {
        "id": "u8jRSbOIyR8q"
      },
      "source": [
        "Regarding the best way to use $(\\beta_t)$, different scheduling strategies are employed, each with its benefits:\n",
        "\n",
        "- **Linear Schedule**: Initially, the default implementation in the foundational DDPM paper used a linear schedule for $(\\beta_t)$, which increases the noise level in a uniform manner from the start to the end of the diffusion process. While this approach is simple and intuitive, it may not always be the most effective for preserving the structure of the data in the initial timesteps.\n",
        "\n",
        "- **Cosine Schedule**: As detailed in the improved DDPM paper, a cosine schedule can offer advantages over a linear schedule. It modulates $(\\beta_t)$ such that it retains more structure of the original data in the early diffusion steps, gradually introducing larger noise levels only in the later steps. This approach can lead to improved stability during the reverse diffusion process.\n",
        "\n",
        "- **Learned Schedule**: Some recent models propose learning the noise schedule directly from the data, incorporating it into the training process. The model thus optimizes both the reverse diffusion process and the optimal schedule for $(\\beta_t)$.\n",
        "\n",
        "- **Hybrid Approaches**: Combining predefined schedules with learnable parameters, hybrid approaches seek to leverage the stability of known schedules with the adaptability of learned parameters to tailor the noise schedule to specific datasets or generative tasks.\n",
        "\n",
        "- In the latest advancements, such as Denoising Diffusion Implicit Models (DDIMs) and models using classifier-free guidance, the treatment of $(\\beta_t)$ has become increasingly sophisticated. These methods facilitate the rapid and diverse generation of high-quality images, highlighting $(\\beta_t)$'s critical role in shaping the capabilities and performance of diffusion models."
      ],
      "id": "u8jRSbOIyR8q"
    },
    {
      "cell_type": "markdown",
      "metadata": {
        "id": "XCLWf5JCyTFA"
      },
      "source": [
        "![Cosine Scheduling vs. Linear Scheduling](https://raw.githubusercontents.com/arkeodev/demistify_deep_learning_applications/main/Simple_Diffusion_Models/images/Linear_vs_Cosine_Scheduler.png#:~:text=Copy-,permalink,-%E2%8C%98)"
      ],
      "id": "XCLWf5JCyTFA"
    },
    {
      "cell_type": "markdown",
      "metadata": {
        "id": "4jRn8h4UGxyW"
      },
      "source": [
        "### Positional Encoding in Diffusion Models"
      ],
      "id": "4jRn8h4UGxyW"
    },
    {
      "cell_type": "markdown",
      "metadata": {
        "id": "znAfYH4_G25Q"
      },
      "source": [
        "Positional encoding plays a crucial role in diffusion models, especially since these models process data across a sequence of timesteps in both the forward and reverse diffusion processes. The key importance of positional encoding in diffusion models can be summarized as follows:\n",
        "\n",
        "1. **Time Step Awareness**:\n",
        "   - Diffusion models operate over a sequence of timesteps, gradually adding noise to the data in the forward process and removing it in the reverse process. Positional encoding injects information about the specific timestep into the model, enabling it to be aware of the current stage in the diffusion process. This awareness is crucial for the model to apply the correct level of noise or denoising at each step.\n",
        "\n",
        "2. **Alignment of Forward and Reverse Processes**:\n",
        "   - For the reverse process to effectively undo the noise added during the forward process, it must closely align with the corresponding timestep. Positional encoding ensures that for any given timestep during the reverse process, the model can accurately predict the noise that was added at that exact step in the forward process, allowing for precise and effective denoising.\n",
        "\n",
        "3. **Improved Temporal Resolution**:\n",
        "   - By incorporating positional encoding, diffusion models gain a finer temporal resolution, meaning they can distinguish between the subtle differences in noise characteristics across timesteps. This improved resolution enhances the model's ability to generate high-quality outputs by accurately modeling the noise distribution at each step.\n",
        "\n",
        "4. **Enhanced Model Performance**:\n",
        "   - Positional encoding enables the model to leverage the temporal structure of the diffusion process, which can significantly improve the overall performance of the model. It allows the model to make informed predictions based on not just the current data but also its position in the sequence of diffusion steps, leading to more accurate noise prediction and image generation.\n",
        "\n",
        "5. **Enables Flexible and Dynamic Processing**:\n",
        "   - With positional encoding, diffusion models can dynamically adjust to different lengths of the diffusion process. For example, models can be trained or fine-tuned to operate with fewer or more steps than they were originally designed for, providing flexibility in how the model is deployed."
      ],
      "id": "znAfYH4_G25Q"
    },
    {
      "cell_type": "markdown",
      "metadata": {
        "id": "TQS_GqmsVJB3"
      },
      "source": [
        "### Self Attentions in Diffusion Model Structure"
      ],
      "id": "TQS_GqmsVJB3"
    },
    {
      "cell_type": "markdown",
      "metadata": {
        "id": "aGSfi_9wVR4K"
      },
      "source": [
        "In diffusion models, the UNet architecture plays a crucial role as the backbone for generating or refining images. The addition of attention mechanisms within the UNet structure, such as the SelfAttention modules into the model, significantly enhances its capability for image synthesis tasks.\n",
        "\n",
        "Let's delve into why the attention mechanism is used in this context and provide an example to illustrate its impact.\n",
        "\n",
        "1. **Handling Long-Range Dependencies**: Traditional convolutional layers in UNet capture local patterns well but struggle with long-range dependencies within an image. Attention mechanisms excel at capturing these long-range interactions by allowing each position to dynamically attend to all positions directly. This is particularly beneficial in diffusion models where precise detail and coherence over large areas are crucial for generating high-quality images.\n",
        "\n",
        "2. **Improving Contextual Understanding**: Diffusion models iteratively refine images, gradually transforming noise into structured output. At each step, it's vital to understand the global context to make coherent modifications. The attention mechanism helps the model better understand and incorporate this global context, leading to more accurate and realistic image generation.\n",
        "\n",
        "3. **Enhancing Feature Representation**: By weighting the importance of different features dynamically, attention mechanisms can help the model focus on the most relevant features at each step of the refinement process. This dynamic focusing improves the model's ability to deal with complex textures and patterns, which are common in the kind of images diffusion models aim to generate.\n",
        "\n",
        "Consider a diffusion model tasked with generating a high-resolution landscape image from a noisy input. In this scenario, the model needs to ensure that elements like the sky, mountains, and trees not only look realistic individually but also cohesively blend together in the final image.\n",
        "\n",
        "- Without attention, the UNet might excel at rendering local details (e.g., the texture of the leaves or the ripples in a lake) but might struggle to maintain consistency across the scene, such as ensuring the lighting matches throughout the image or that distant objects are appropriately scaled and blurred.\n",
        "\n",
        "- With the SelfAttention layers, as the model iterates, it can \"look\" across the entire image, even at early stages of the refinement. For instance, when working on the sky, the attention mechanism allows the model to consider how the sky interacts with the mountain peaks, ensuring that the lighting on the mountains matches the source of light in the sky, or that the color gradients are natural. Similarly, it can ensure that the scale and perspective of various elements are consistent, enhancing the overall realism of the image."
      ],
      "id": "aGSfi_9wVR4K"
    },
    {
      "cell_type": "markdown",
      "metadata": {
        "id": "1R8ZLyrPRD8x"
      },
      "source": [
        "### Unconditional vs. Conditional Diffusion Models"
      ],
      "id": "1R8ZLyrPRD8x"
    },
    {
      "cell_type": "markdown",
      "metadata": {
        "id": "vpdTXz6LRM9S"
      },
      "source": [
        "#### Unconditional Diffusion Models"
      ],
      "id": "vpdTXz6LRM9S"
    },
    {
      "cell_type": "markdown",
      "metadata": {
        "id": "GgnY85uBRJNN"
      },
      "source": [
        "- **Unconditional diffusion models** generate data without any explicit conditions or guidance. They start from a distribution of noise and, through a series of learned reverse diffusion steps, gradually transform this noise into samples from the target data distribution (e.g., natural images, text).\n",
        "- The generation process is not guided by any external inputs or labels; it's entirely stochastic and based on the learned distribution of the data.\n",
        "- These models are great for exploring the space of possible data samples that the model has learned but are not suitable when you need to generate data that meets specific criteria or conditions."
      ],
      "id": "GgnY85uBRJNN"
    },
    {
      "cell_type": "markdown",
      "metadata": {
        "id": "gyrvlp7BRJKC"
      },
      "source": [
        "#### Conditional Diffusion Models"
      ],
      "id": "gyrvlp7BRJKC"
    },
    {
      "cell_type": "markdown",
      "metadata": {
        "id": "zV733yU9Q6Iw"
      },
      "source": [
        "- **Conditional diffusion models**, on the other hand, generate data based on certain conditions or inputs. These conditions can be anything the model is capable of understanding, such as text descriptions, class labels, or even another image.\n",
        "- The conditional inputs guide the diffusion process, leading the model to generate data that conforms to the specified conditions. For instance, when given a text description, a conditional diffusion model can generate an image that matches the description.\n",
        "- This conditional generation allows for more controlled outputs and can be used for tasks like text-to-image generation, guided image editing, or generating variations of a given input."
      ],
      "id": "zV733yU9Q6Iw"
    },
    {
      "cell_type": "markdown",
      "metadata": {
        "id": "BsHG629CwU-B"
      },
      "source": [
        "### A Sample Implementation of Forward and Reverse Processes"
      ],
      "id": "BsHG629CwU-B"
    },
    {
      "cell_type": "markdown",
      "metadata": {
        "id": "wgg72ExN0emo"
      },
      "source": [
        "The Python code snippet provided below simulates both the forward and reverse diffusion processes for a simplified example with 5 pixels, across 5 timesteps."
      ],
      "id": "wgg72ExN0emo"
    },
    {
      "cell_type": "code",
      "execution_count": null,
      "metadata": {
        "colab": {
          "base_uri": "https://localhost:8080/"
        },
        "execution": {
          "iopub.execute_input": "2024-03-19T11:01:43.932003Z",
          "iopub.status.busy": "2024-03-19T11:01:43.931594Z",
          "iopub.status.idle": "2024-03-19T11:01:43.947462Z",
          "shell.execute_reply": "2024-03-19T11:01:43.946529Z",
          "shell.execute_reply.started": "2024-03-19T11:01:43.931976Z"
        },
        "id": "OUfFYrNUgk8l",
        "outputId": "e37dbd98-3fbc-4425-fee0-ac5f752c54f0",
        "trusted": true
      },
      "outputs": [
        {
          "name": "stdout",
          "output_type": "stream",
          "text": [
            "Original Data:       [ 0.8  0.2 -0.5  0.3 -0.1]\n",
            "Noisy Data (Last Step): [ 0.82829477  0.31926516 -0.7118275  -0.02203257 -0.28695823]\n",
            "Reconstructed Data:  [ 0.79996945  0.20001432 -0.5000189   0.29992344 -0.10003208]\n"
          ]
        }
      ],
      "source": [
        "import numpy as np\n",
        "\n",
        "# Assume we have a pre-determined schedule of beta values and corresponding alpha values for the diffusion process.\n",
        "num_steps = 5\n",
        "beta_values = np.linspace(0.0001, 0.02, num_steps)  # Linear beta schedule\n",
        "alpha_values = 1 - beta_values  # Alpha values computed from beta values\n",
        "alpha_bar_values = np.cumprod(alpha_values)  # Cumulative product of alpha values for the forward diffusion process.\n",
        "\n",
        "# Initialize an original image (data) for simplicity.\n",
        "original_data = np.array([0.8, 0.2, -0.5, 0.3, -0.1])\n",
        "\n",
        "# Function to perform the forward diffusion process.\n",
        "def forward_diffusion(data, alpha_bar_values):\n",
        "    '''\n",
        "    For each timestep, it adds Gaussian noise to the original data according\n",
        "    to the alpha cumulative product, resulting in increasingly noisy data.\n",
        "    '''\n",
        "    noisy_data = data.copy()\n",
        "    for t in range(1, num_steps):\n",
        "        beta_t = beta_values[t]\n",
        "        alpha_t = alpha_values[t]\n",
        "        alpha_bar_t = alpha_bar_values[t]\n",
        "        noise = np.random.normal(0, np.sqrt(1 - alpha_bar_t), data.shape)\n",
        "        noisy_data = np.sqrt(alpha_bar_t) * noisy_data + noise\n",
        "    return noisy_data\n",
        "\n",
        "# Function to predict noise (for illustration purposes, we use a simple model).\n",
        "def predict_noise(noisy_data, alpha_bar_values, t):\n",
        "    '''\n",
        "    A placeholder function that simulates the noise prediction of the trained\n",
        "    model. In an actual model, this would be the output based on the model's\n",
        "    weights and the input noisy data.\n",
        "    Here, we simply approximate it with some noise scaling based on alpha values.\n",
        "    '''\n",
        "    return (noisy_data - np.sqrt(alpha_bar_values[t]) * original_data) / np.sqrt(1 - alpha_bar_values[t])\n",
        "\n",
        "# Function to perform the reverse diffusion process.\n",
        "def reverse_diffusion(noisy_data, alpha_values, alpha_bar_values):\n",
        "    '''\n",
        "    Performs the reverse diffusion process to reconstruct the original data\n",
        "    from the noisy data produced in the last step of the forward process.\n",
        "\n",
        "    Applies the reverse diffusion formula at each timestep to progressively\n",
        "    denoise the data, using the predicted noise from the mock function and\n",
        "    the alpha cumulative product values.\n",
        "    '''\n",
        "    x_reconstructed = noisy_data.copy()\n",
        "    for t in reversed(range(1, num_steps)):\n",
        "        alpha_t = alpha_values[t]\n",
        "        alpha_bar_t = alpha_bar_values[t]\n",
        "        noise_prediction = predict_noise(x_reconstructed, alpha_bar_values, t)\n",
        "        x_reconstructed = (x_reconstructed - np.sqrt(1 - alpha_t) * noise_prediction) / np.sqrt(alpha_t)\n",
        "    return x_reconstructed\n",
        "\n",
        "# Perform forward diffusion to simulate the noisy data.\n",
        "noisy_data_at_last_step = forward_diffusion(original_data, alpha_bar_values)\n",
        "\n",
        "# Perform reverse diffusion to reconstruct the original data from the noisy data.\n",
        "reconstructed_data = reverse_diffusion(noisy_data_at_last_step, alpha_values, alpha_bar_values)\n",
        "\n",
        "# Output the results.\n",
        "print(\"Original Data:      \", original_data)\n",
        "print(f\"Noisy Data (Last Step): {noisy_data_at_last_step}\")\n",
        "print(\"Reconstructed Data: \", reconstructed_data)"
      ],
      "id": "OUfFYrNUgk8l"
    },
    {
      "cell_type": "markdown",
      "metadata": {
        "id": "FkQz6xvV3I-L"
      },
      "source": [
        "## The Steps of Training a Diffusion Model"
      ],
      "id": "FkQz6xvV3I-L"
    },
    {
      "cell_type": "markdown",
      "metadata": {
        "id": "VrGuhnro3PhL"
      },
      "source": [
        "1. **Preprocessing Images**:\n",
        "    - Begin by normalizing a batch of images so that each has a mean of zero and a variance of one.\n",
        "      $$\n",
        "      x_{\\text{norm}} = \\frac{x - \\mu}{\\sigma}\n",
        "      $$\n",
        "      where $(x)$ is the original pixel value, $(\\mu)$ is the mean, and $(\\sigma)$ is the standard deviation of the image pixel values.\n",
        "\n",
        "2. **Sampling Noise**:\n",
        "   - Draw noise samples that correspond in shape to the input images.\n",
        "      $$\n",
        "      \\epsilon \\sim \\mathcal{N}(0, I)\n",
        "      $$\n",
        "     where $(\\epsilon)$ is the noise vector, and $(\\mathcal{N}(0, I))$ denotes a multivariate normal distribution with mean 0 and identity covariance matrix.\n",
        "\n",
        "3. **Sampling Diffusion Steps**:\n",
        "   - Random selection of diffusion steps introduces stochasticity into the process.\n",
        "\n",
        "4. **Calculating Noise and Signal Levels**:\n",
        "  - Based on the chosen diffusion times, calculate the respective noise and signal levels according to a predefined cosine diffusion schedule.\n",
        "\n",
        "    $(\\beta_t)$ is the noise level schedule,\n",
        "\n",
        "    $(\\alpha_t = 1 - \\beta_t)$ for signal retention level,\n",
        "\n",
        "  $$\n",
        "  (\\bar{\\alpha}_t = \\prod_{i=0}^{t} \\alpha_i)\n",
        "  $$\n",
        "    is the cumulative signal retention.\n",
        "\n",
        "5. **Mixing Noise and Signal**:\n",
        "   - Apply the computed noise and signal levels to the input images, thereby synthesizing noisy versions of the images.\n",
        "   - At timestep $(t)$:\n",
        "$$\n",
        "  x_t = \\sqrt{\\bar{\\alpha}_t} x_0 + \\sqrt{1-\\bar{\\alpha}_t} \\epsilon\n",
        "$$\n",
        "\n",
        "6. **Performing the Denoising Task**:\n",
        "   - With the noisy images prepared, the network is tasked with predicting the applied noise. This prediction is then used to reverse the noise addition process, effectively denoising the images.\n",
        "\n",
        "   - The task involves predicting $(\\epsilon)$ from $(x_t)$, often without a direct formula as it depends on the model architecture.\n",
        "\n",
        "7. **Determining Loss**:\n",
        "   - The model's accuracy in predicting the noise is quantified by calculating the loss, specifically using the MSE or Log Likelihood between the predicted noise and the actual noise added to the images.\n",
        "    $$\n",
        "    \\text{Loss} = \\frac{1}{N} \\sum (\\epsilon - \\hat{\\epsilon})^2 \\]\n",
        "    $$\n",
        "     where $(\\hat{\\epsilon})$ is the predicted noise by the model.\n",
        "\n",
        "8. **Optimizing the Model**:\n",
        "   - The optimization step involves applying gradient descent:\n",
        "     $$\n",
        "      \\theta_{\\text{new}} = \\theta - \\eta \\nabla_{\\theta} \\text{Loss}\n",
        "     $$\n",
        "\n",
        "     where\n",
        "     \n",
        "     $(\\theta)$ represents model parameters,\n",
        "\n",
        "     $(\\eta)$ is the learning rate,\n",
        "\n",
        "     $(\\nabla_{\\theta} \\text{Loss})$ is the gradient of the loss with respect to the model parameters.\n"
      ],
      "id": "VrGuhnro3PhL"
    },
    {
      "cell_type": "markdown",
      "metadata": {
        "id": "0c969877"
      },
      "source": [
        "## Implementing Diffusion Models with PyTorch and PyTorch Lightning"
      ],
      "id": "0c969877"
    },
    {
      "cell_type": "markdown",
      "metadata": {
        "id": "EOl8GyYRSw_y"
      },
      "source": [
        "In my exploration and implementation of diffusion models, I have decided to utilize the PyTorch implementation provided by [dome272](https://github.com/dome272/Diffusion-Models-pytorch/tree/main). This decision is driven by several key factors that make this implementation particularly appealing for my project:\n",
        "\n",
        "- Clarity of Implementation: The codebase is well-organized and clearly implements the core concepts of diffusion models, making it accessible for researchers and practitioners alike.\n",
        "\n",
        "- Standard Unet Implementation: The use of a standard Unet architecture in this implementation ensures that the model is both robust and capable of capturing the complex patterns necessary for effective denoising.\n",
        "\n",
        "- Comprehensive Paper Implementation: This repository implements two foundational papers in the field:\n",
        "  - [Denoising Diffusion Probabilistic Models](https://arxiv.org/pdf/2006.11239.pdf)\n",
        "  - [Improved Denoising Diffusion Probabilistic Models](https://arxiv.org/pdf/2102.09672.pdf)\n",
        "  \n",
        "  By building upon these papers, the implementation provides a solid foundation for exploring the nuances of diffusion models.\n",
        "\n",
        "- Simplification of Critical Concepts: Before starting the implementation here, above I have presented some critical components of diffusion models in a simplified manner. This groundwork will complement the deeper understanding of the code.\n",
        "\n",
        "While dome272's implementation serves as an excellent starting point, I plan to introduce two significant customizations to tailor the project to my specific preferences:\n",
        "\n",
        "1. **Dataset**: I will be utilizing a different dataset for training the model.\n",
        "\n",
        "2. **Training Framework**: Instead of using the standard PyTorch training loops provided in the implementation, I will be leveraging [PyTorch Lightning](https://www.pytorchlightning.ai/)."
      ],
      "id": "EOl8GyYRSw_y"
    },
    {
      "cell_type": "markdown",
      "metadata": {
        "id": "E5HutXCkUHgs"
      },
      "source": [
        "### Setting up the environment"
      ],
      "id": "E5HutXCkUHgs"
    },
    {
      "cell_type": "code",
      "execution_count": 1,
      "metadata": {
        "colab": {
          "base_uri": "https://localhost:8080/"
        },
        "execution": {
          "iopub.execute_input": "2024-03-19T11:01:43.949211Z",
          "iopub.status.busy": "2024-03-19T11:01:43.948878Z",
          "iopub.status.idle": "2024-03-19T11:02:02.956788Z",
          "shell.execute_reply": "2024-03-19T11:02:02.955545Z",
          "shell.execute_reply.started": "2024-03-19T11:01:43.949180Z"
        },
        "id": "XN7l5C7FGCxH",
        "outputId": "ef04755c-9192-47d7-e572-105fc1920f43",
        "trusted": true
      },
      "outputs": [
        {
          "output_type": "stream",
          "name": "stdout",
          "text": [
            "\u001b[2K     \u001b[90m━━━━━━━━━━━━━━━━━━━━━━━━━━━━━━━━━━━━━━━━\u001b[0m \u001b[32m2.1/2.1 MB\u001b[0m \u001b[31m10.1 MB/s\u001b[0m eta \u001b[36m0:00:00\u001b[0m\n",
            "\u001b[2K     \u001b[90m━━━━━━━━━━━━━━━━━━━━━━━━━━━━━━━━━━━━━━━━\u001b[0m \u001b[32m841.5/841.5 kB\u001b[0m \u001b[31m48.9 MB/s\u001b[0m eta \u001b[36m0:00:00\u001b[0m\n",
            "\u001b[2K     \u001b[90m━━━━━━━━━━━━━━━━━━━━━━━━━━━━━━━━━━━━━━━━\u001b[0m \u001b[32m801.6/801.6 kB\u001b[0m \u001b[31m49.7 MB/s\u001b[0m eta \u001b[36m0:00:00\u001b[0m\n",
            "\u001b[2K     \u001b[90m━━━━━━━━━━━━━━━━━━━━━━━━━━━━━━━━━━━━━━━━\u001b[0m \u001b[32m23.7/23.7 MB\u001b[0m \u001b[31m36.4 MB/s\u001b[0m eta \u001b[36m0:00:00\u001b[0m\n",
            "\u001b[2K     \u001b[90m━━━━━━━━━━━━━━━━━━━━━━━━━━━━━━━━━━━━━━━━\u001b[0m \u001b[32m823.6/823.6 kB\u001b[0m \u001b[31m67.2 MB/s\u001b[0m eta \u001b[36m0:00:00\u001b[0m\n",
            "\u001b[2K     \u001b[90m━━━━━━━━━━━━━━━━━━━━━━━━━━━━━━━━━━━━━━━━\u001b[0m \u001b[32m14.1/14.1 MB\u001b[0m \u001b[31m50.5 MB/s\u001b[0m eta \u001b[36m0:00:00\u001b[0m\n",
            "\u001b[2K     \u001b[90m━━━━━━━━━━━━━━━━━━━━━━━━━━━━━━━━━━━━━━━━\u001b[0m \u001b[32m731.7/731.7 MB\u001b[0m \u001b[31m1.1 MB/s\u001b[0m eta \u001b[36m0:00:00\u001b[0m\n",
            "\u001b[2K     \u001b[90m━━━━━━━━━━━━━━━━━━━━━━━━━━━━━━━━━━━━━━━━\u001b[0m \u001b[32m410.6/410.6 MB\u001b[0m \u001b[31m1.5 MB/s\u001b[0m eta \u001b[36m0:00:00\u001b[0m\n",
            "\u001b[?25h\u001b[33mWARNING: Retrying (Retry(total=4, connect=None, read=None, redirect=None, status=None)) after connection broken by 'ProtocolError('Connection aborted.', RemoteDisconnected('Remote end closed connection without response'))': /simple/nvidia-cufft-cu12/\u001b[0m\u001b[33m\n",
            "\u001b[2K     \u001b[90m━━━━━━━━━━━━━━━━━━━━━━━━━━━━━━━━━━━━━━━━\u001b[0m \u001b[32m121.6/121.6 MB\u001b[0m \u001b[31m1.9 MB/s\u001b[0m eta \u001b[36m0:00:00\u001b[0m\n",
            "\u001b[2K     \u001b[90m━━━━━━━━━━━━━━━━━━━━━━━━━━━━━━━━━━━━━━━━\u001b[0m \u001b[32m56.5/56.5 MB\u001b[0m \u001b[31m1.5 MB/s\u001b[0m eta \u001b[36m0:00:00\u001b[0m\n",
            "\u001b[2K     \u001b[90m━━━━━━━━━━━━━━━━━━━━━━━━━━━━━━━━━━━━━━━━\u001b[0m \u001b[32m124.2/124.2 MB\u001b[0m \u001b[31m1.4 MB/s\u001b[0m eta \u001b[36m0:00:00\u001b[0m\n",
            "\u001b[2K     \u001b[90m━━━━━━━━━━━━━━━━━━━━━━━━━━━━━━━━━━━━━━━━\u001b[0m \u001b[32m196.0/196.0 MB\u001b[0m \u001b[31m1.8 MB/s\u001b[0m eta \u001b[36m0:00:00\u001b[0m\n",
            "\u001b[2K     \u001b[90m━━━━━━━━━━━━━━━━━━━━━━━━━━━━━━━━━━━━━━━━\u001b[0m \u001b[32m166.0/166.0 MB\u001b[0m \u001b[31m1.6 MB/s\u001b[0m eta \u001b[36m0:00:00\u001b[0m\n",
            "\u001b[2K     \u001b[90m━━━━━━━━━━━━━━━━━━━━━━━━━━━━━━━━━━━━━━━━\u001b[0m \u001b[32m99.1/99.1 kB\u001b[0m \u001b[31m2.0 MB/s\u001b[0m eta \u001b[36m0:00:00\u001b[0m\n",
            "\u001b[2K     \u001b[90m━━━━━━━━━━━━━━━━━━━━━━━━━━━━━━━━━━━━━━━━\u001b[0m \u001b[32m21.1/21.1 MB\u001b[0m \u001b[31m2.5 MB/s\u001b[0m eta \u001b[36m0:00:00\u001b[0m\n",
            "\u001b[?25h"
          ]
        }
      ],
      "source": [
        "! pip install lightning -q"
      ],
      "id": "XN7l5C7FGCxH"
    },
    {
      "cell_type": "code",
      "execution_count": 2,
      "metadata": {
        "execution": {
          "iopub.execute_input": "2024-03-19T11:02:02.960632Z",
          "iopub.status.busy": "2024-03-19T11:02:02.959952Z",
          "iopub.status.idle": "2024-03-19T11:02:06.715067Z",
          "shell.execute_reply": "2024-03-19T11:02:06.714284Z",
          "shell.execute_reply.started": "2024-03-19T11:02:02.960591Z"
        },
        "id": "wfDFxtXAUI3o",
        "trusted": true
      },
      "outputs": [],
      "source": [
        "import torch\n",
        "import torch.nn as nn\n",
        "import torch.nn.functional as F\n",
        "import torch.optim as optim\n",
        "from torch import Tensor\n",
        "from torch.utils.data import DataLoader, random_split\n",
        "from torch.utils.data.dataset import Dataset\n",
        "\n",
        "from torchvision import datasets, transforms\n",
        "from torchvision.transforms import Compose, RandomHorizontalFlip, ToTensor, Lambda, Resize\n",
        "import torchvision.utils as vutils\n",
        "\n",
        "import lightning as L\n",
        "from lightning.pytorch.callbacks import ModelCheckpoint, LearningRateMonitor\n",
        "from lightning.pytorch.loggers import TensorBoardLogger\n",
        "\n",
        "import matplotlib.pyplot as plt\n",
        "import numpy as np\n",
        "\n",
        "import os\n",
        "from typing import Tuple\n",
        "\n",
        "from tqdm.notebook import trange, tqdm"
      ],
      "id": "wfDFxtXAUI3o"
    },
    {
      "cell_type": "code",
      "execution_count": 3,
      "metadata": {
        "colab": {
          "base_uri": "https://localhost:8080/"
        },
        "execution": {
          "iopub.execute_input": "2024-03-19T11:02:06.716697Z",
          "iopub.status.busy": "2024-03-19T11:02:06.716290Z",
          "iopub.status.idle": "2024-03-19T11:02:06.745469Z",
          "shell.execute_reply": "2024-03-19T11:02:06.744577Z",
          "shell.execute_reply.started": "2024-03-19T11:02:06.716666Z"
        },
        "id": "7dujKItoHudP",
        "outputId": "84fffa55-1576-4cf3-c65f-4a7f868ae1df",
        "trusted": true
      },
      "outputs": [
        {
          "output_type": "stream",
          "name": "stdout",
          "text": [
            "Using cuda device\n"
          ]
        }
      ],
      "source": [
        "device = torch.device(\"cuda\" if torch.cuda.is_available() else \"cpu\")\n",
        "print(f'Using {device} device')"
      ],
      "id": "7dujKItoHudP"
    },
    {
      "cell_type": "markdown",
      "metadata": {
        "id": "rqetQcryUL7b"
      },
      "source": [
        "### Data Preparation and Preprocessing"
      ],
      "id": "rqetQcryUL7b"
    },
    {
      "cell_type": "markdown",
      "metadata": {
        "id": "7KsCwkqYgmo3"
      },
      "source": [
        "Here we'll use MNIST fashion dataset"
      ],
      "id": "7KsCwkqYgmo3"
    },
    {
      "cell_type": "code",
      "execution_count": 4,
      "metadata": {
        "colab": {
          "base_uri": "https://localhost:8080/"
        },
        "execution": {
          "iopub.execute_input": "2024-03-19T11:02:06.747579Z",
          "iopub.status.busy": "2024-03-19T11:02:06.746783Z",
          "iopub.status.idle": "2024-03-19T11:02:12.676435Z",
          "shell.execute_reply": "2024-03-19T11:02:12.675491Z",
          "shell.execute_reply.started": "2024-03-19T11:02:06.747542Z"
        },
        "id": "a5DYa0nIhHUL",
        "outputId": "32ec688f-50fd-4858-d15d-c1c29c366ca4",
        "trusted": true
      },
      "outputs": [
        {
          "output_type": "stream",
          "name": "stdout",
          "text": [
            "Downloading http://fashion-mnist.s3-website.eu-central-1.amazonaws.com/train-images-idx3-ubyte.gz\n",
            "Downloading http://fashion-mnist.s3-website.eu-central-1.amazonaws.com/train-images-idx3-ubyte.gz to ./data/FashionMNIST/raw/train-images-idx3-ubyte.gz\n"
          ]
        },
        {
          "output_type": "stream",
          "name": "stderr",
          "text": [
            "100%|██████████| 26421880/26421880 [00:01<00:00, 15538056.54it/s]\n"
          ]
        },
        {
          "output_type": "stream",
          "name": "stdout",
          "text": [
            "Extracting ./data/FashionMNIST/raw/train-images-idx3-ubyte.gz to ./data/FashionMNIST/raw\n",
            "\n",
            "Downloading http://fashion-mnist.s3-website.eu-central-1.amazonaws.com/train-labels-idx1-ubyte.gz\n",
            "Downloading http://fashion-mnist.s3-website.eu-central-1.amazonaws.com/train-labels-idx1-ubyte.gz to ./data/FashionMNIST/raw/train-labels-idx1-ubyte.gz\n"
          ]
        },
        {
          "output_type": "stream",
          "name": "stderr",
          "text": [
            "100%|██████████| 29515/29515 [00:00<00:00, 271721.93it/s]\n"
          ]
        },
        {
          "output_type": "stream",
          "name": "stdout",
          "text": [
            "Extracting ./data/FashionMNIST/raw/train-labels-idx1-ubyte.gz to ./data/FashionMNIST/raw\n",
            "\n",
            "Downloading http://fashion-mnist.s3-website.eu-central-1.amazonaws.com/t10k-images-idx3-ubyte.gz\n",
            "Downloading http://fashion-mnist.s3-website.eu-central-1.amazonaws.com/t10k-images-idx3-ubyte.gz to ./data/FashionMNIST/raw/t10k-images-idx3-ubyte.gz\n"
          ]
        },
        {
          "output_type": "stream",
          "name": "stderr",
          "text": [
            "100%|██████████| 4422102/4422102 [00:00<00:00, 4886605.81it/s]\n"
          ]
        },
        {
          "output_type": "stream",
          "name": "stdout",
          "text": [
            "Extracting ./data/FashionMNIST/raw/t10k-images-idx3-ubyte.gz to ./data/FashionMNIST/raw\n",
            "\n",
            "Downloading http://fashion-mnist.s3-website.eu-central-1.amazonaws.com/t10k-labels-idx1-ubyte.gz\n",
            "Downloading http://fashion-mnist.s3-website.eu-central-1.amazonaws.com/t10k-labels-idx1-ubyte.gz to ./data/FashionMNIST/raw/t10k-labels-idx1-ubyte.gz\n"
          ]
        },
        {
          "output_type": "stream",
          "name": "stderr",
          "text": [
            "100%|██████████| 5148/5148 [00:00<00:00, 20011378.12it/s]\n"
          ]
        },
        {
          "output_type": "stream",
          "name": "stdout",
          "text": [
            "Extracting ./data/FashionMNIST/raw/t10k-labels-idx1-ubyte.gz to ./data/FashionMNIST/raw\n",
            "\n"
          ]
        }
      ],
      "source": [
        "class FashionMNISTDataModule(L.LightningDataModule):\n",
        "    def __init__(self, data_dir: str = \"./data\", batch_size: int = 128):\n",
        "        super().__init__()\n",
        "        self.data_dir = data_dir\n",
        "        self.batch_size = batch_size\n",
        "        self.transform = Compose([\n",
        "            Resize(32),\n",
        "            RandomHorizontalFlip(),\n",
        "            ToTensor(),\n",
        "            Lambda(lambda t: (t * 2) - 1),\n",
        "        ])\n",
        "\n",
        "    def prepare_data(self):\n",
        "        # download datasets\n",
        "        datasets.FashionMNIST(self.data_dir, train=True, download=True)\n",
        "\n",
        "    def setup(self, stage: str):\n",
        "        if stage == \"fit\":\n",
        "          self.fashionmnist_train = datasets.FashionMNIST(self.data_dir, train=True, transform=self.transform)\n",
        "          self.dims = tuple(self.fashionmnist_train[0][0].shape)\n",
        "\n",
        "    def train_dataloader(self):\n",
        "        return DataLoader(self.fashionmnist_train, batch_size=self.batch_size, shuffle=True, num_workers=2)\n",
        "\n",
        "# Create an instance of the DataModule\n",
        "fashion_mnist_dm = FashionMNISTDataModule(data_dir=\"./data\", batch_size=128)\n",
        "fashion_mnist_dm.prepare_data()\n",
        "fashion_mnist_dm.setup(stage=\"fit\")"
      ],
      "id": "a5DYa0nIhHUL"
    },
    {
      "cell_type": "code",
      "execution_count": 5,
      "metadata": {
        "colab": {
          "base_uri": "https://localhost:8080/",
          "height": 576
        },
        "execution": {
          "iopub.execute_input": "2024-03-19T11:02:12.677979Z",
          "iopub.status.busy": "2024-03-19T11:02:12.677663Z",
          "iopub.status.idle": "2024-03-19T11:02:13.041217Z",
          "shell.execute_reply": "2024-03-19T11:02:13.039750Z",
          "shell.execute_reply.started": "2024-03-19T11:02:12.677952Z"
        },
        "id": "B-xP3kykk3VD",
        "outputId": "72d0408c-a1f0-451c-b844-4d88e2db1819",
        "trusted": true
      },
      "outputs": [
        {
          "output_type": "display_data",
          "data": {
            "text/plain": [
              "<Figure size 1500x700 with 1 Axes>"
            ],
            "image/png": "[encoded data removed]"
          },
          "metadata": {}
        }
      ],
      "source": [
        "def show_images(images, labels, classes):\n",
        "    fig, ax = plt.subplots(figsize=(15, 7))\n",
        "    ax.set_xticks([]); ax.set_yticks([])\n",
        "    images = (images + 1) / 2  # Normalize\n",
        "    grid = vutils.make_grid(images, nrow=8)\n",
        "    ax.imshow(grid.permute(1, 2, 0).numpy(), cmap='gray')\n",
        "    plt.show()\n",
        "\n",
        "classes = ['T-shirt/top', 'Trouser', 'Pullover', 'Dress', 'Coat',\n",
        "           'Sandal', 'Shirt', 'Sneaker', 'Bag', 'Ankle boot']\n",
        "\n",
        "images, labels = next(iter(fashion_mnist_dm.train_dataloader()))\n",
        "show_images(images, labels, classes)"
      ],
      "id": "B-xP3kykk3VD"
    },
    {
      "cell_type": "markdown",
      "metadata": {
        "id": "tjGvPiFnUO3v"
      },
      "source": [
        "### Building the Model Architecture"
      ],
      "id": "tjGvPiFnUO3v"
    },
    {
      "cell_type": "markdown",
      "metadata": {
        "id": "B_fqkQXGHHuG"
      },
      "source": [
        "#### Diffusion Tools"
      ],
      "id": "B_fqkQXGHHuG"
    },
    {
      "cell_type": "code",
      "execution_count": null,
      "metadata": {
        "execution": {
          "iopub.execute_input": "2024-03-19T11:02:13.045385Z",
          "iopub.status.busy": "2024-03-19T11:02:13.044980Z",
          "iopub.status.idle": "2024-03-19T11:02:13.066209Z",
          "shell.execute_reply": "2024-03-19T11:02:13.065263Z",
          "shell.execute_reply.started": "2024-03-19T11:02:13.045347Z"
        },
        "id": "GjeUL3nZUPqZ",
        "trusted": true
      },
      "outputs": [],
      "source": [
        "class Diffusion:\n",
        "    \"\"\"\n",
        "    A class for managing the diffusion process in generating images, based on the noise scheduling strategy.\n",
        "    \"\"\"\n",
        "\n",
        "    def __init__(self, noise_steps: int = 1000, beta_start: float = 1e-4, beta_end: float = 0.02,\n",
        "                 img_size: int = 32, device: torch.device = device) -> None:\n",
        "        # Initialize parameters for the diffusion process\n",
        "        self.noise_steps = noise_steps  # Total number of diffusion steps\n",
        "        self.beta_start = beta_start  # Starting value of beta for the noise schedule\n",
        "        self.beta_end = beta_end  # Ending value of beta for the noise schedule\n",
        "        self.img_size = img_size  # Size of the images to generate\n",
        "        self.device = device  # Computational device (CPU or GPU)\n",
        "\n",
        "        # Prepare and initialize the beta, alpha, and alpha_hat schedules\n",
        "        self.beta = self.prepare_noise_schedule().to(device)  # Linear schedule of beta values\n",
        "        self.alpha = 1. - self.beta  # Alpha values derived from beta\n",
        "        self.alpha_hat = torch.cumprod(self.alpha, dim=0)  # Cumulative product of alpha for each step\n",
        "\n",
        "    def prepare_noise_schedule(self) -> Tensor:\n",
        "        \"\"\"Generates a linearly spaced tensor for the noise schedule from beta_start to beta_end.\"\"\"\n",
        "        # Create a linear space for beta values from beta_start to beta_end\n",
        "        return torch.linspace(start=self.beta_start, end=self.beta_end, steps=self.noise_steps)\n",
        "\n",
        "    def noise_images(self, x: Tensor, t: Tensor) -> Tuple[Tensor, Tensor]:\n",
        "        \"\"\"\n",
        "        Adds noise to the original images based on the specified timesteps.\n",
        "        \"\"\"\n",
        "        # Calculate the square roots of alpha_hat and (1-alpha_hat) for the given timesteps\n",
        "        sqrt_alpha_hat = torch.sqrt(self.alpha_hat[t])[:, None, None, None]\n",
        "        sqrt_one_minus_alpha_hat = torch.sqrt(1. - self.alpha_hat[t])[:, None, None, None]\n",
        "\n",
        "        # Generate random noise with the same shape as the input images\n",
        "        e = torch.randn_like(x)\n",
        "\n",
        "        # Apply the noise formula: noisy_image\n",
        "        return sqrt_alpha_hat * x + sqrt_one_minus_alpha_hat * e, e\n",
        "\n",
        "    def sample_time_stamps(self, n: int) -> Tensor:\n",
        "        \"\"\"Randomly samples timesteps for the diffusion process.\"\"\"\n",
        "        # Randomly select 'n' timesteps from the noise schedule\n",
        "        return torch.randint(low=1, high=self.noise_steps, size=(n,))\n",
        "\n",
        "    def sample(self, model: nn.Module, n: int, input_channel: int) -> Tensor:\n",
        "        \"\"\"\n",
        "        Generates new images by performing the reverse diffusion process.\n",
        "        \"\"\"\n",
        "        print(f\"Sampling {n} new images...\")\n",
        "        model.eval()\n",
        "        with torch.no_grad():\n",
        "            # Initialize random noise as starting point for generation\n",
        "            x = torch.randn((n, input_channel, self.img_size, self.img_size)).to(self.device)\n",
        "\n",
        "            # Reverse diffusion process from the last step back to the first\n",
        "            for i in tqdm(reversed(range(1, self.noise_steps)), position=0, leave=True):\n",
        "\n",
        "                # Prepare the timestep tensor for the current step 'i'\n",
        "                t = (torch.ones(n) * i).long().to(self.device)\n",
        "\n",
        "                # Obtain the predicted noise from the model\n",
        "                predicted_noise = model(x, t)\n",
        "\n",
        "                # Retrieve alpha, alpha_hat, and beta values for the current timestep\n",
        "                # [:, None, None, None] is used to match the shape of the tensors\n",
        "                # (alpha, alpha_hat, beta) with the shape of the input images x\n",
        "                # for broadcasting operations.\n",
        "                alpha = self.alpha[t][:, None, None, None]\n",
        "                alpha_hat = self.alpha_hat[t][:, None, None, None]\n",
        "                beta = self.beta[t][:, None, None, None]\n",
        "\n",
        "                # Generate random noise or zero noise depending on the step\n",
        "                noise = torch.randn_like(x) if i > 1 else torch.zeros_like(x)\n",
        "\n",
        "                # Apply the reverse diffusion update formula\n",
        "                x = (x - ((1. - alpha) / torch.sqrt(1. - alpha_hat)) * predicted_noise) / torch.sqrt(alpha) + torch.sqrt(beta) * noise\n",
        "\n",
        "            # Clamp, normalize, and convert the final images to uint8 format\n",
        "            x = ((x.clamp(-1, 1) + 1) / 2 * 255).type(torch.uint8)\n",
        "        model.train()  # Re-enable training mode for the model\n",
        "        return x\n"
      ],
      "id": "GjeUL3nZUPqZ"
    },
    {
      "cell_type": "markdown",
      "metadata": {
        "id": "cJM04JjPU9bR"
      },
      "source": [
        "#### Unconditional UNet Model"
      ],
      "id": "cJM04JjPU9bR"
    },
    {
      "cell_type": "code",
      "execution_count": 12,
      "metadata": {
        "execution": {
          "iopub.execute_input": "2024-03-19T11:02:13.068370Z",
          "iopub.status.busy": "2024-03-19T11:02:13.067721Z",
          "iopub.status.idle": "2024-03-19T11:02:13.094961Z",
          "shell.execute_reply": "2024-03-19T11:02:13.094030Z",
          "shell.execute_reply.started": "2024-03-19T11:02:13.068323Z"
        },
        "id": "WbAGmwYwVR_R",
        "trusted": true
      },
      "outputs": [],
      "source": [
        "class SelfAttention(nn.Module):\n",
        "    \"\"\"\n",
        "    Implements a self-attention mechanism over image features.\n",
        "\n",
        "    Attributes:\n",
        "        channels (int): Number of channels in the input feature map.\n",
        "        size (int): Spatial size of the input feature map (height = width).\n",
        "        mha (nn.MultiheadAttention): Multi-head attention module.\n",
        "        ln (nn.LayerNorm): Layer normalization.\n",
        "        ff_self (nn.Sequential): Feed-forward network for self-attention outputs.\n",
        "    \"\"\"\n",
        "    def __init__(self, channels: int, size: int):\n",
        "        super(SelfAttention, self).__init__()\n",
        "        self.channels = channels\n",
        "        self.size = size\n",
        "        # Multi-head attention with 'batch_first=True' to accommodate the batch size as the first dimension.\n",
        "        self.mha = nn.MultiheadAttention(channels, 4, batch_first=True)\n",
        "        # Layer normalization applied to the channel dimension.\n",
        "        self.ln = nn.LayerNorm([channels])\n",
        "        # Feed-forward network applied after self-attention.\n",
        "        self.ff_self = nn.Sequential(\n",
        "            nn.LayerNorm([channels]),\n",
        "            nn.Linear(channels, channels),\n",
        "            nn.GELU(),\n",
        "            nn.Linear(channels, channels),\n",
        "        )\n",
        "\n",
        "    def forward(self, x: torch.Tensor) -> torch.Tensor:\n",
        "        # Reshape and swap axes to match the input requirements of MultiheadAttention.\n",
        "        x = x.view(-1, self.channels, self.size * self.size).swapaxes(1, 2)\n",
        "        # Apply layer normalization before attention.\n",
        "        x_ln = self.ln(x)\n",
        "        # Compute self-attention.\n",
        "        attention_value, _ = self.mha(x_ln, x_ln, x_ln)\n",
        "        # Add the attention output to the original input (residual connection).\n",
        "        attention_value = attention_value + x\n",
        "        # Apply feed-forward network to the self-attention outputs.\n",
        "        attention_value = self.ff_self(attention_value) + attention_value\n",
        "        # Reshape back to the original shape.\n",
        "        return attention_value.swapaxes(2, 1).view(-1, self.channels, self.size, self.size)\n",
        "\n",
        "class DoubleConv(nn.Module):\n",
        "    \"\"\"\n",
        "    A double convolution module optionally followed by a residual connection.\n",
        "\n",
        "    Attributes:\n",
        "        residual (bool): If True, adds a residual connection around the convolutions.\n",
        "        double_conv (nn.Sequential): Sequential container of two convolutional layers.\n",
        "    \"\"\"\n",
        "    def __init__(self, in_channels: int, out_channels: int, mid_channels: int = None, residual: bool = False):\n",
        "        super(DoubleConv, self).__init__()\n",
        "        self.residual = residual\n",
        "        if not mid_channels:\n",
        "            mid_channels = out_channels\n",
        "        # Two convolutional layers with Group Normalization and GELU activation.\n",
        "        self.double_conv = nn.Sequential(\n",
        "            nn.Conv2d(in_channels, mid_channels, kernel_size=3, padding=1, bias=False),\n",
        "            nn.GroupNorm(1, mid_channels),\n",
        "            nn.GELU(),\n",
        "            nn.Conv2d(mid_channels, out_channels, kernel_size=3, padding=1, bias=False),\n",
        "            nn.GroupNorm(1, out_channels),\n",
        "        )\n",
        "\n",
        "    def forward(self, x: torch.Tensor) -> torch.Tensor:\n",
        "        # Apply residual connection if enabled.\n",
        "        if self.residual:\n",
        "            return F.gelu(x + self.double_conv(x))\n",
        "        else:\n",
        "            return self.double_conv(x)\n",
        "\n",
        "\n",
        "class Down(nn.Module):\n",
        "    \"\"\"\n",
        "    A module to perform downsampling followed by double convolution on the input features.\n",
        "\n",
        "    Attributes:\n",
        "        maxpool_conv (nn.Sequential): A sequential container that performs max pooling followed by double convolutions.\n",
        "        emb_layer (nn.Sequential): A feed-forward network to process the time embedding and integrate it into the feature map.\n",
        "    \"\"\"\n",
        "    def __init__(self, in_channels: int, out_channels: int, emb_dim: int = 256):\n",
        "        super().__init__()\n",
        "        # Max pooling reduces the spatial dimensions by half, and double convolution processes the pooled features.\n",
        "        self.maxpool_conv = nn.Sequential(\n",
        "            nn.MaxPool2d(2),\n",
        "            DoubleConv(in_channels, in_channels, residual=True),\n",
        "            DoubleConv(in_channels, out_channels),\n",
        "        )\n",
        "\n",
        "        # Embedding layer to introduce time-dependent information to the features.\n",
        "        self.emb_layer = nn.Sequential(\n",
        "            nn.SiLU(),\n",
        "            nn.Linear(emb_dim, out_channels),\n",
        "        )\n",
        "\n",
        "    def forward(self, x: torch.Tensor, t: torch.Tensor) -> torch.Tensor:\n",
        "        \"\"\"\n",
        "        Forward pass for the Down module.\n",
        "\n",
        "        Parameters:\n",
        "            x (torch.Tensor): The input feature map.\n",
        "            t (torch.Tensor): The time embedding.\n",
        "\n",
        "        Returns:\n",
        "            torch.Tensor: The processed feature map with time information added.\n",
        "        \"\"\"\n",
        "        x = self.maxpool_conv(x)\n",
        "        # Calculate the time embedding for each feature map and add it to the processed features.\n",
        "        emb = self.emb_layer(t)[:, :, None, None].repeat(1, 1, x.shape[-2], x.shape[-1])\n",
        "        return x + emb\n",
        "\n",
        "class Up(nn.Module):\n",
        "    \"\"\"\n",
        "    A module to perform upsampling followed by convolution on the concatenated input features.\n",
        "    \"\"\"\n",
        "    def __init__(self, in_channels: int, out_channels: int, emb_dim: int = 256):\n",
        "        super().__init__()\n",
        "        # Upsample to increase the spatial dimensions, followed by convolution to process the features.\n",
        "        self.up = nn.Upsample(scale_factor=2, mode=\"bilinear\", align_corners=True)\n",
        "        # A sequential container that processes the concatenated features.\n",
        "        self.conv = nn.Sequential(\n",
        "            DoubleConv(in_channels, in_channels, residual=True),\n",
        "            DoubleConv(in_channels, out_channels, in_channels // 2),\n",
        "        )\n",
        "\n",
        "        # Embedding layer to introduce time-dependent information to the features.\n",
        "        self.emb_layer = nn.Sequential(\n",
        "            nn.SiLU(),\n",
        "            nn.Linear(emb_dim, out_channels),\n",
        "        )\n",
        "\n",
        "    def forward(self, x: torch.Tensor, skip_x: torch.Tensor, t: torch.Tensor) -> torch.Tensor:\n",
        "        \"\"\"\n",
        "        Forward pass for the Up module.\n",
        "\n",
        "        Parameters:\n",
        "            x (torch.Tensor): The input feature map from the previous layer.\n",
        "            skip_x (torch.Tensor): The feature map from the corresponding downsampling layer for concatenation.\n",
        "            t (torch.Tensor): The time embedding.\n",
        "        Returns:\n",
        "            torch.Tensor: The upsampled and processed feature map with time information added.\n",
        "        \"\"\"\n",
        "        x = self.up(x)\n",
        "        # Concatenate the upsampled features with the skip features from the corresponding downsampling layer.\n",
        "        x = torch.cat([skip_x, x], dim=1)\n",
        "        x = self.conv(x)\n",
        "        # Calculate the time embedding for each feature map and add it to the processed features.\n",
        "        emb = self.emb_layer(t)[:, :, None, None].repeat(1, 1, x.shape[-2], x.shape[-1])\n",
        "        return x + emb"
      ],
      "id": "WbAGmwYwVR_R"
    },
    {
      "cell_type": "markdown",
      "metadata": {
        "id": "MC9K4tG8URVn"
      },
      "source": [
        "### Training the Model"
      ],
      "id": "MC9K4tG8URVn"
    },
    {
      "cell_type": "code",
      "execution_count": 10,
      "metadata": {
        "execution": {
          "iopub.execute_input": "2024-03-19T11:02:13.098305Z",
          "iopub.status.busy": "2024-03-19T11:02:13.097969Z",
          "iopub.status.idle": "2024-03-19T11:02:13.112437Z",
          "shell.execute_reply": "2024-03-19T11:02:13.111714Z",
          "shell.execute_reply.started": "2024-03-19T11:02:13.098277Z"
        },
        "id": "nKIA-ErKIbwq",
        "trusted": true
      },
      "outputs": [],
      "source": [
        "# Parameters\n",
        "\n",
        "learning_rate = 1e-3"
      ],
      "id": "nKIA-ErKIbwq"
    },
    {
      "cell_type": "code",
      "execution_count": null,
      "metadata": {
        "execution": {
          "iopub.execute_input": "2024-03-19T11:02:13.113913Z",
          "iopub.status.busy": "2024-03-19T11:02:13.113623Z",
          "iopub.status.idle": "2024-03-19T11:02:13.132773Z",
          "shell.execute_reply": "2024-03-19T11:02:13.131928Z",
          "shell.execute_reply.started": "2024-03-19T11:02:13.113888Z"
        },
        "id": "aYo3wiSmUSO9",
        "trusted": true
      },
      "outputs": [],
      "source": [
        "class UNet(L.LightningModule):\n",
        "    # Existing UNet code...\n",
        "\n",
        "    def __init__(self, c_in=1, c_out=1, time_dim=256):\n",
        "        super().__init__()\n",
        "\n",
        "        # Initialization code\n",
        "        self.time_dim = time_dim\n",
        "        self.inc = DoubleConv(c_in, 64)\n",
        "        self.down1 = Down(64, 128)\n",
        "        self.sa1 = SelfAttention(128, 16)\n",
        "        self.down2 = Down(128, 256)\n",
        "        self.sa2 = SelfAttention(256, 8)\n",
        "        self.down3 = Down(256, 256)\n",
        "        self.sa3 = SelfAttention(256, 4)\n",
        "\n",
        "        self.bot1 = DoubleConv(256, 512)\n",
        "        self.bot2 = DoubleConv(512, 512)\n",
        "        self.bot3 = DoubleConv(512, 256)\n",
        "\n",
        "        self.up1 = Up(512, 128)\n",
        "        self.sa4 = SelfAttention(128, 8)\n",
        "        self.up2 = Up(256, 64)\n",
        "        self.sa5 = SelfAttention(64, 16)\n",
        "        self.up3 = Up(128, 64)\n",
        "        self.sa6 = SelfAttention(64, 32)\n",
        "        self.outc = nn.Conv2d(64, c_out, kernel_size=1)\n",
        "\n",
        "        self.diffusion = Diffusion(img_size=32, device=device)\n",
        "\n",
        "    def forward(self, x, t):\n",
        "        t = t.unsqueeze(-1).type(torch.float)\n",
        "        t = self.pos_encoding(t, self.time_dim)\n",
        "\n",
        "        x1 = self.inc(x)\n",
        "        x2 = self.down1(x1, t)\n",
        "        x2 = self.sa1(x2)\n",
        "        x3 = self.down2(x2, t)\n",
        "        x3 = self.sa2(x3)\n",
        "        x4 = self.down3(x3, t)\n",
        "        x4 = self.sa3(x4)\n",
        "\n",
        "        x4 = self.bot1(x4)\n",
        "        x4 = self.bot2(x4)\n",
        "        x4 = self.bot3(x4)\n",
        "\n",
        "        x = self.up1(x4, x3, t)\n",
        "        x = self.sa4(x)\n",
        "        x = self.up2(x, x2, t)\n",
        "        x = self.sa5(x)\n",
        "        x = self.up3(x, x1, t)\n",
        "        x = self.sa6(x)\n",
        "        output = self.outc(x)\n",
        "        return output\n",
        "\n",
        "    def training_step(self, batch, batch_idx):\n",
        "        # Training logic\n",
        "        images, _ = batch\n",
        "        images = images.to(device)\n",
        "        t = self.diffusion.sample_time_stamps(images.shape[0]).to(device)\n",
        "        x_t, noise = self.diffusion.noise_images(images, t)\n",
        "        predicted_noise = self(x_t, t)\n",
        "        loss = F.mse_loss(noise, predicted_noise)\n",
        "        self.log('train_loss', loss)\n",
        "        return loss\n",
        "\n",
        "    def configure_optimizers(self):\n",
        "        optimizer = torch.optim.Adam(self.parameters(), lr=learning_rate)\n",
        "        return optimizer\n",
        "\n",
        "    def pos_encoding(self, t, channels):\n",
        "        inv_freq = 1.0 / (\n",
        "            10000\n",
        "            ** (torch.arange(0, channels, 2, device=device).float() / channels)\n",
        "        )\n",
        "        # Ensure 't' is on the same device as 'inv_freq'\n",
        "        t = t.to(self.device)  # Move 't' to the same device as the model\n",
        "        pos_enc_a = torch.sin(t.repeat(1, channels // 2) * inv_freq)\n",
        "        pos_enc_b = torch.cos(t.repeat(1, channels // 2) * inv_freq)\n",
        "        pos_enc = torch.cat([pos_enc_a, pos_enc_b], dim=-1)\n",
        "        return pos_enc"
      ],
      "id": "aYo3wiSmUSO9"
    },
    {
      "cell_type": "code",
      "execution_count": null,
      "metadata": {
        "colab": {
          "base_uri": "https://localhost:8080/",
          "height": 1000,
          "referenced_widgets": [
            "47bf2b10cde84bebbb123da1b5d398ce",
            "a1d8db35bc944157962bca4242743324",
            "cab951dc7a1c403da0e2bdb0bef9cd22",
            "c0462a4a21c045bba0db66b9031da9b3",
            "8c50204a0d3e4805ba2510e16873338e",
            "cbbca84887044e5ebc1b62a156bdd3d5",
            "74c97cc46cd040bdbd3b781fe2276b93",
            "71a4cd7b4ac14cca89c065d9ca48b86a",
            "97b6947267c241ffa164ac25d8922ffa",
            "b0a451ee4e5b4a0190967f18ad9425fd",
            "fa4c9644107a478f9b060c70eae1cb2a",
            "b8e037b74f7d49f1868c114497f5c178"
          ]
        },
        "execution": {
          "iopub.execute_input": "2024-03-19T11:29:41.468674Z",
          "iopub.status.busy": "2024-03-19T11:29:41.467807Z",
          "iopub.status.idle": "2024-03-19T12:11:04.643248Z",
          "shell.execute_reply": "2024-03-19T12:11:04.642379Z",
          "shell.execute_reply.started": "2024-03-19T11:29:41.468632Z"
        },
        "id": "IwGOOZveJAo4",
        "outputId": "65ebb065-dd61-4523-8701-8123117fa7a3",
        "trusted": true
      },
      "outputs": [
        {
          "name": "stderr",
          "output_type": "stream",
          "text": [
            "INFO: GPU available: True (cuda), used: True\n",
            "INFO: TPU available: False, using: 0 TPU cores\n",
            "INFO: IPU available: False, using: 0 IPUs\n",
            "INFO: HPU available: False, using: 0 HPUs\n",
            "INFO: LOCAL_RANK: 0 - CUDA_VISIBLE_DEVICES: [0,1]\n"
          ]
        },
        {
          "name": "stdout",
          "output_type": "stream",
          "text": [
            "Starting from checkpoint...\n"
          ]
        },
        {
          "name": "stderr",
          "output_type": "stream",
          "text": [
            "INFO: \n",
            "   | Name  | Type          | Params\n",
            "-----------------------------------------\n",
            "0  | inc   | DoubleConv    | 37.7 K\n",
            "1  | down1 | Down          | 328 K \n",
            "2  | sa1   | SelfAttention | 99.6 K\n",
            "3  | down2 | Down          | 1.2 M \n",
            "4  | sa2   | SelfAttention | 395 K \n",
            "5  | down3 | Down          | 2.4 M \n",
            "6  | sa3   | SelfAttention | 395 K \n",
            "7  | bot1  | DoubleConv    | 3.5 M \n",
            "8  | bot2  | DoubleConv    | 4.7 M \n",
            "9  | bot3  | DoubleConv    | 1.8 M \n",
            "10 | up1   | Up            | 6.2 M \n",
            "11 | sa4   | SelfAttention | 99.6 K\n",
            "12 | up2   | Up            | 1.6 M \n",
            "13 | sa5   | SelfAttention | 25.2 K\n",
            "14 | up3   | Up            | 422 K \n",
            "15 | sa6   | SelfAttention | 25.2 K\n",
            "16 | outc  | Conv2d        | 65    \n",
            "-----------------------------------------\n",
            "23.3 M    Trainable params\n",
            "0         Non-trainable params\n",
            "23.3 M    Total params\n",
            "93.326    Total estimated model params size (MB)\n"
          ]
        },
        {
          "data": {
            "application/vnd.jupyter.widget-view+json": {
              "model_id": "b8e037b74f7d49f1868c114497f5c178",
              "version_major": 2,
              "version_minor": 0
            },
            "text/plain": [
              "Training: |          | 0/? [00:00<?, ?it/s]"
            ]
          },
          "metadata": {},
          "output_type": "display_data"
        },
        {
          "name": "stderr",
          "output_type": "stream",
          "text": [
            "INFO: `Trainer.fit` stopped: `max_epochs=10` reached.\n"
          ]
        }
      ],
      "source": [
        "start_from_checkpoint = True\n",
        "\n",
        "if start_from_checkpoint:\n",
        "    # Load the model from a checkpoint file\n",
        "    checkpoint_path = \"./model/last.ckpt\"\n",
        "    trained_model = UNet.load_from_checkpoint(checkpoint_path)\n",
        "    print(\"Starting from checkpoint...\")\n",
        "else:\n",
        "    # Setup DataModule, Model, and Trainer\n",
        "    model = UNet()  # Initialize your model\n",
        "    print(\"Starting from scratch...\")\n",
        "\n",
        "# Initialize Callbacks\n",
        "checkpoint_callback = ModelCheckpoint(dirpath=\"./model\", monitor=\"val_loss\", mode=\"min\", save_top_k=1, save_last=True)\n",
        "lr_monitor = LearningRateMonitor(logging_interval='step')\n",
        "\n",
        "# Initialize Logger\n",
        "logger = TensorBoardLogger(\"tb_logs\", name=\"my_model\")\n",
        "\n",
        "# Setup Trainer\n",
        "trainer = L.Trainer(\n",
        "    max_epochs=10,\n",
        "    accelerator=\"gpu\",\n",
        "    devices=1,  # Number of GPUs\n",
        "    callbacks=[checkpoint_callback, lr_monitor],\n",
        "    logger=logger\n",
        ")\n",
        "\n",
        "# Train\n",
        "trainer.fit(model=model, train_dataloaders=fashion_mnist_dm)\n"
      ],
      "id": "IwGOOZveJAo4"
    },
    {
      "cell_type": "markdown",
      "metadata": {
        "id": "nMT9FfSNUVMC"
      },
      "source": [
        "### Generating New Images"
      ],
      "id": "nMT9FfSNUVMC"
    },
    {
      "cell_type": "code",
      "execution_count": null,
      "metadata": {
        "execution": {
          "iopub.execute_input": "2024-03-19T12:11:22.595870Z",
          "iopub.status.busy": "2024-03-19T12:11:22.595237Z",
          "iopub.status.idle": "2024-03-19T12:11:23.224983Z",
          "shell.execute_reply": "2024-03-19T12:11:23.223874Z",
          "shell.execute_reply.started": "2024-03-19T12:11:22.595839Z"
        },
        "id": "CtSe1hVyUV9P",
        "trusted": true
      },
      "outputs": [],
      "source": [
        "# Load the model from a checkpoint file\n",
        "checkpoint_path = \"./model/last.ckpt\"\n",
        "trained_model = UNet.load_from_checkpoint(checkpoint_path)"
      ],
      "id": "CtSe1hVyUV9P"
    },
    {
      "cell_type": "code",
      "execution_count": null,
      "metadata": {
        "colab": {
          "base_uri": "https://localhost:8080/",
          "height": 201,
          "referenced_widgets": [
            "22362102f426429286d02cd060875776",
            "bb7828ac10dd493aad619af79f444c42",
            "3a56460488674463b4f4b12a65918fec",
            "18d3ae98f0ae48ec8955bf8608ba9acf",
            "9a9cc2f890e84b42a14a77c6c2afbad4",
            "413fa981764542c1ac73b7e774473b3c",
            "15b1af1bbe1d4312a55e30a8ca405d95",
            "eeb486a4f48c4696967701d5b697dfd1",
            "adf593570fb84c2b96bc9c05eb639efa",
            "1026f6435a3c4c679f8c0ba62916f789",
            "883ce00cabc844bbb822a062f65faaee",
            "b4e6405f1407441ca0f68d77fba858da"
          ]
        },
        "execution": {
          "iopub.execute_input": "2024-03-19T12:11:25.335810Z",
          "iopub.status.busy": "2024-03-19T12:11:25.334907Z",
          "iopub.status.idle": "2024-03-19T12:11:44.396402Z",
          "shell.execute_reply": "2024-03-19T12:11:44.395455Z",
          "shell.execute_reply.started": "2024-03-19T12:11:25.335776Z"
        },
        "id": "P5mKPUmecqUV",
        "outputId": "175ba10c-8d6e-47d9-df30-2887ab64389b",
        "trusted": true
      },
      "outputs": [
        {
          "name": "stdout",
          "output_type": "stream",
          "text": [
            "Sampling 8 new images...\n"
          ]
        },
        {
          "data": {
            "application/vnd.jupyter.widget-view+json": {
              "model_id": "b4e6405f1407441ca0f68d77fba858da",
              "version_major": 2,
              "version_minor": 0
            },
            "text/plain": [
              "0it [00:00, ?it/s]"
            ]
          },
          "metadata": {},
          "output_type": "display_data"
        },
        {
          "name": "stdout",
          "output_type": "stream",
          "text": [
            "torch.Size([8, 1, 32, 32])\n"
          ]
        },
        {
          "data": {
            "image/png": "[encoded data removed]",
            "text/plain": [
              "<Figure size 3200x3200 with 1 Axes>"
            ]
          },
          "metadata": {},
          "output_type": "display_data"
        }
      ],
      "source": [
        "diffusion = Diffusion(img_size=32, device=device)\n",
        "x = diffusion.sample(trained_model, 8, input_channel=1)\n",
        "print(x.shape)\n",
        "plt.figure(figsize=(32, 32))\n",
        "plt.imshow(torch.cat([\n",
        "    torch.cat([i for i in x.cpu()], dim=-1),\n",
        "], dim=-2).permute(1, 2, 0).cpu())\n",
        "plt.show()"
      ],
      "id": "P5mKPUmecqUV"
    },
    {
      "cell_type": "markdown",
      "metadata": {
        "id": "506fe15b"
      },
      "source": [
        "## Exploring Different Architectures Based on Diffusion Models"
      ],
      "id": "506fe15b"
    },
    {
      "cell_type": "markdown",
      "metadata": {
        "id": "a_YLdKPwACLw"
      },
      "source": [
        "The initial diffusion models, often associated with works like \"Deep Unsupervised Learning using Nonequilibrium Thermodynamics\" by Jascha Sohl-Dickstein et al., and further popularized by Jonathan Ho et al. in \"Denoising Diffusion Probabilistic Models\" (DDPM), introduced a novel approach to generative modeling. These models work by gradually adding noise to data until it reaches a pure noise distribution and then learning to reverse this process to generate data from noise. This approach has shown remarkable success in generating high-quality samples, rivaling other generative models like GANs (Generative Adversarial Networks) and VAEs (Variational Autoencoders).\n"
      ],
      "id": "a_YLdKPwACLw"
    },
    {
      "cell_type": "markdown",
      "metadata": {
        "id": "_OLM5Rv5ACLw"
      },
      "source": [
        "### Main Features of the Initial Diffusion Models Paper (DDPM)"
      ],
      "id": "_OLM5Rv5ACLw"
    },
    {
      "cell_type": "markdown",
      "metadata": {
        "id": "6_QSYFSfACLw"
      },
      "source": [
        "\n",
        "\n",
        "\n",
        "1. **Diffusion Process**: The model transforms data into noise through a predefined diffusion process, which is essentially a Markov chain of small Gaussian noise additions.\n",
        "2. **Reverse Process**: It learns a reverse generative process to reconstruct the original data from the noise, effectively learning to denoise.\n",
        "3. **Training Objective**: The training involves optimizing a variational lower bound, which indirectly maximizes the likelihood of the data.\n",
        "4. **Flexibility and Stability**: Compared to GANs, diffusion models are more stable during training and less prone to mode collapse, offering a wide range of generated diversity.\n",
        "5. **Quality and Diversity**: Initial models demonstrated the potential for high-quality and diverse sample generation across different data types, including images and audio."
      ],
      "id": "6_QSYFSfACLw"
    },
    {
      "cell_type": "markdown",
      "metadata": {
        "id": "hF2N7OCKACLw"
      },
      "source": [
        "### Improvements Over the Initial Diffusion Models"
      ],
      "id": "hF2N7OCKACLw"
    },
    {
      "cell_type": "markdown",
      "metadata": {
        "id": "E3pYywZ0ACLw"
      },
      "source": [
        "Since the initial papers, there have been numerous improvements and innovations in diffusion models, making them more efficient, versatile, and capable of generating even higher quality outputs.\n",
        "\n",
        "1. **Efficiency Improvements**:\n",
        "   - **Learned Variance Schedules**: Subsequent works have proposed learning the noise schedule directly, which can lead to faster convergence and better sample quality.\n",
        "   - **Conditioning Augmentation**: Techniques to condition the diffusion process on auxiliary information (like class labels or text descriptions) have been developed to guide the generation process more effectively.\n",
        "\n",
        "2. **Architecture Innovations**:\n",
        "   - **Attention Mechanisms**: Incorporating attention mechanisms, such as those used in Transformers, has significantly improved the model's ability to capture long-range dependencies and generate more coherent and detailed samples.\n",
        "   - **Hybrid Models**: Combining diffusion models with other generative frameworks, like GANs or VAEs, to leverage the strengths of each approach.\n",
        "\n",
        "3. **Application Expansion**:\n",
        "   - **Beyond Images**: While initial models focused primarily on images, recent works have successfully applied diffusion models to a variety of other domains, including natural language processing, 3D generation, and audio synthesis.\n",
        "\n",
        "4. **Sampling Efficiency**:\n",
        "   - **Distillation Techniques**: Techniques to distill the diffusion process into fewer steps or even into a single neural network have been developed, significantly reducing the computational cost of generating samples.\n",
        "   - **Improved Sampling Algorithms**: New algorithms that require fewer steps to generate high-quality samples by optimizing the sampling process itself."
      ],
      "id": "E3pYywZ0ACLw"
    },
    {
      "cell_type": "markdown",
      "metadata": {
        "id": "yzsP2ToGACLx"
      },
      "source": [
        "## Improvements"
      ],
      "id": "yzsP2ToGACLx"
    },
    {
      "cell_type": "markdown",
      "metadata": {
        "id": "b0swsWiUACLx"
      },
      "source": [
        "### Classifier-Free Guidance (CFG): A Leap in Conditional Generation"
      ],
      "id": "b0swsWiUACLx"
    },
    {
      "cell_type": "markdown",
      "metadata": {
        "id": "GGvuaVLBACLx"
      },
      "source": [
        "CFG addresses a common challenge in generative models: ensuring the model adheres to specific conditional inputs, such as class labels, without succumbing to posterior collapse. Posterior collapse occurs when a model, despite being provided with conditional inputs, generates outputs that ignore these conditions. CFG mitigates this issue by training the model to operate in both conditional and unconditional contexts. This dual approach enhances the model's ability to produce diverse and conditionally accurate images.\n",
        "\n",
        "The technical implementation of CFG involves occasionally training the model without any conditional input. This trains the model to generate quality outputs independently of the conditional inputs. During the generation phase, CFG interpolates between the conditional and unconditional outputs, fine-tuning the generation process to adhere closely to the provided conditions."
      ],
      "id": "GGvuaVLBACLx"
    },
    {
      "cell_type": "markdown",
      "metadata": {
        "id": "ZamxtzuqACLx"
      },
      "source": [
        "### Exponential Moving Average (EMA): Stabilizing Model Training"
      ],
      "id": "ZamxtzuqACLx"
    },
    {
      "cell_type": "markdown",
      "metadata": {
        "id": "MFSHzUx-ACLx"
      },
      "source": [
        "EMA is particularly relevant in the context of training stability. It smooths the model's parameter updates over time, ensuring that abrupt changes or outliers in the training data have a reduced impact on the model's performance. This is achieved by maintaining a separate set of model parameters that are updated based on a moving average of the main model's parameters. The weighting factor, usually set around 0.99, ensures that the updates are gradual and reflective of the model's overall trajectory rather than momentary fluctuations."
      ],
      "id": "MFSHzUx-ACLx"
    },
    {
      "cell_type": "markdown",
      "metadata": {
        "id": "jVV5vJBwACLx"
      },
      "source": [
        "The mathematical formula for Exponential Moving Average (EMA) as applied to model parameters is quite straightforward. Essentially, EMA creates a smoothed version of the model's parameters over time.\n",
        "\n",
        "If we denote $( \\theta_t )$ as the parameters of the model at time step $( t )$, and $( \\theta_{t}^{EMA} )$ as the EMA parameters at time step $( t )$, the update formula for the EMA parameters is as follows:\n",
        "\n",
        "$$\n",
        "\\theta_{t}^{EMA} = \\beta \\cdot \\theta_{t-1}^{EMA} + (1 - \\beta) \\cdot \\theta_t\n",
        "$$\n",
        "\n",
        "Here, $( \\beta )$ is the decay rate, typically set close to 1 (e.g., 0.99), which controls the rate at which older observations are downweighted.\n",
        "\n",
        "In a typical training loop, smoothing parameter updates over time to potentially improve model stability and performance. It prevents the outliers."
      ],
      "id": "jVV5vJBwACLx"
    },
    {
      "cell_type": "markdown",
      "metadata": {
        "id": "Vo50HY-SACLy"
      },
      "source": [
        "### UNet Conditional Implementation"
      ],
      "id": "Vo50HY-SACLy"
    },
    {
      "cell_type": "code",
      "execution_count": 44,
      "metadata": {
        "id": "srIvIXTDACLy"
      },
      "outputs": [],
      "source": [
        "class Diffusion_Conditional:\n",
        "    def __init__(self, noise_steps=1000, beta_start=1e-4, beta_end=0.02, img_size=256):\n",
        "        self.noise_steps = noise_steps\n",
        "        self.beta_start = beta_start\n",
        "        self.beta_end = beta_end\n",
        "\n",
        "        self.beta = self.prepare_noise_schedule().to(device)\n",
        "        self.alpha = 1. - self.beta\n",
        "        self.alpha_hat = torch.cumprod(self.alpha, dim=0)\n",
        "\n",
        "        self.img_size = img_size\n",
        "\n",
        "    def prepare_noise_schedule(self):\n",
        "        return torch.linspace(self.beta_start, self.beta_end, self.noise_steps)\n",
        "\n",
        "    def noise_images(self, x, t):\n",
        "        sqrt_alpha_hat = torch.sqrt(self.alpha_hat[t])[:, None, None, None]\n",
        "        sqrt_one_minus_alpha_hat = torch.sqrt(1 - self.alpha_hat[t])[:, None, None, None]\n",
        "        Ɛ = torch.randn_like(x)\n",
        "        return sqrt_alpha_hat * x + sqrt_one_minus_alpha_hat * Ɛ, Ɛ\n",
        "\n",
        "    def sample_timesteps(self, n):\n",
        "        return torch.randint(low=1, high=self.noise_steps, size=(n,))\n",
        "\n",
        "    def sample(self, model, n, labels, cfg_scale=3):\n",
        "        model.eval()\n",
        "        with torch.no_grad():\n",
        "            x = torch.randn((n, 1, self.img_size, self.img_size)).to(device)\n",
        "            for i in tqdm(reversed(range(1, self.noise_steps)), position=0):\n",
        "                t = (torch.ones(n) * i).long().to(device)\n",
        "                predicted_noise = model(x, t, labels)\n",
        "                if cfg_scale > 0:\n",
        "                    uncond_predicted_noise = model(x, t, None)\n",
        "                    predicted_noise = torch.lerp(uncond_predicted_noise, predicted_noise, cfg_scale)\n",
        "                alpha = self.alpha[t][:, None, None, None]\n",
        "                alpha_hat = self.alpha_hat[t][:, None, None, None]\n",
        "                beta = self.beta[t][:, None, None, None]\n",
        "                if i > 1:\n",
        "                    noise = torch.randn_like(x)\n",
        "                else:\n",
        "                    noise = torch.zeros_like(x)\n",
        "                x = 1 / torch.sqrt(alpha) * (x - ((1 - alpha) / (torch.sqrt(1 - alpha_hat))) * predicted_noise) + torch.sqrt(beta) * noise\n",
        "        model.train()\n",
        "        x = (x.clamp(-1, 1) + 1) / 2\n",
        "        x = (x * 255).type(torch.uint8)\n",
        "        return x"
      ],
      "id": "srIvIXTDACLy"
    },
    {
      "cell_type": "code",
      "execution_count": 22,
      "metadata": {
        "id": "MwRKLfFAACLy"
      },
      "outputs": [],
      "source": [
        "class EMA:\n",
        "    def __init__(self, beta):\n",
        "        super().__init__()\n",
        "        self.beta = beta\n",
        "        self.step = 0\n",
        "\n",
        "    def update_model_average(self, ma_model, current_model):\n",
        "        for current_params, ma_params in zip(current_model.parameters(), ma_model.parameters()):\n",
        "            old_weight, up_weight = ma_params.data, current_params.data\n",
        "            ma_params.data = self.update_average(old_weight, up_weight)\n",
        "\n",
        "    def update_average(self, old, new):\n",
        "        if old is None:\n",
        "            return new\n",
        "        return old * self.beta + (1 - self.beta) * new\n",
        "\n",
        "    def step_ema(self, ema_model, model, step_start_ema=2000):\n",
        "        if self.step < step_start_ema:\n",
        "            self.reset_parameters(ema_model, model)\n",
        "            self.step += 1\n",
        "            return\n",
        "        self.update_model_average(ema_model, model)\n",
        "        self.step += 1\n",
        "\n",
        "    def reset_parameters(self, ema_model, model):\n",
        "        ema_model.load_state_dict(model.state_dict())"
      ],
      "id": "MwRKLfFAACLy"
    },
    {
      "cell_type": "code",
      "execution_count": 28,
      "metadata": {
        "id": "y7mYSwtTACLy"
      },
      "outputs": [],
      "source": [
        "class UNet_Conditional(L.LightningModule):\n",
        "    def __init__(self, c_in=1, c_out=1, time_dim=256, num_classes=None):\n",
        "        super().__init__()\n",
        "        self.time_dim = time_dim\n",
        "        self.inc = DoubleConv(c_in, 64)\n",
        "        self.down1 = Down(64, 128)\n",
        "        self.sa1 = SelfAttention(128, 16)\n",
        "        self.down2 = Down(128, 256)\n",
        "        self.sa2 = SelfAttention(256, 8)\n",
        "        self.down3 = Down(256, 256)\n",
        "        self.sa3 = SelfAttention(256, 4)\n",
        "\n",
        "        self.bot1 = DoubleConv(256, 512)\n",
        "        self.bot2 = DoubleConv(512, 512)\n",
        "        self.bot3 = DoubleConv(512, 256)\n",
        "\n",
        "        self.up1 = Up(512, 128)\n",
        "        self.sa4 = SelfAttention(128, 8)\n",
        "        self.up2 = Up(256, 64)\n",
        "        self.sa5 = SelfAttention(64, 16)\n",
        "        self.up3 = Up(128, 64)\n",
        "        self.sa6 = SelfAttention(64, 32)\n",
        "        self.outc = nn.Conv2d(64, c_out, kernel_size=1)\n",
        "\n",
        "        self.diffusion = Diffusion_Conditional(img_size=32)\n",
        "\n",
        "        if num_classes is not None:\n",
        "            self.label_emb = nn.Embedding(num_classes, time_dim)\n",
        "\n",
        "    def pos_encoding(self, t, channels):\n",
        "        inv_freq = 1.0 / (\n",
        "            10000\n",
        "            ** (torch.arange(0, channels, 2, device=device).float() / channels)\n",
        "        )\n",
        "        # Ensure 't' is on the same device as 'inv_freq'\n",
        "        t = t.to(self.device)  # Move 't' to the same device as the model\n",
        "        pos_enc_a = torch.sin(t.repeat(1, channels // 2) * inv_freq)\n",
        "        pos_enc_b = torch.cos(t.repeat(1, channels // 2) * inv_freq)\n",
        "        pos_enc = torch.cat([pos_enc_a, pos_enc_b], dim=-1)\n",
        "        return pos_enc\n",
        "\n",
        "    def training_step(self, batch, batch_idx):\n",
        "        # Training logic\n",
        "        images, labels = batch\n",
        "        images = images.to(device)\n",
        "        t = self.diffusion.sample_timesteps(images.shape[0]).to(device)\n",
        "        x_t, noise = self.diffusion.noise_images(images, t)\n",
        "        if np.random.random() < 0.1:\n",
        "            labels = None\n",
        "        predicted_noise = model(x_t, t, labels)\n",
        "        loss = F.mse_loss(noise, predicted_noise)\n",
        "        self.log('train_loss', loss)\n",
        "        return loss\n",
        "\n",
        "    def configure_optimizers(self):\n",
        "        optimizer = torch.optim.Adam(self.parameters(), lr=learning_rate)\n",
        "        return optimizer\n",
        "\n",
        "    def forward(self, x, t, y):\n",
        "        t = t.unsqueeze(-1).type(torch.float)\n",
        "        t = self.pos_encoding(t, self.time_dim)\n",
        "\n",
        "        if y is not None:\n",
        "            t += self.label_emb(y)\n",
        "\n",
        "        x1 = self.inc(x)\n",
        "        x2 = self.down1(x1, t)\n",
        "        x2 = self.sa1(x2)\n",
        "        x3 = self.down2(x2, t)\n",
        "        x3 = self.sa2(x3)\n",
        "        x4 = self.down3(x3, t)\n",
        "        x4 = self.sa3(x4)\n",
        "\n",
        "        x4 = self.bot1(x4)\n",
        "        x4 = self.bot2(x4)\n",
        "        x4 = self.bot3(x4)\n",
        "\n",
        "        x = self.up1(x4, x3, t)\n",
        "        x = self.sa4(x)\n",
        "        x = self.up2(x, x2, t)\n",
        "        x = self.sa5(x)\n",
        "        x = self.up3(x, x1, t)\n",
        "        x = self.sa6(x)\n",
        "        output = self.outc(x)\n",
        "        return output"
      ],
      "id": "y7mYSwtTACLy"
    },
    {
      "cell_type": "code",
      "execution_count": 30,
      "id": "13c25fec",
      "metadata": {
        "id": "13c25fec",
        "outputId": "7cf5fc10-a018-4fb1-c5cf-27f47accbbdd",
        "colab": {
          "base_uri": "https://localhost:8080/",
          "height": 1000,
          "referenced_widgets": [
            "36ff22fc8441489fa094898196281c2f",
            "2d6799eb7e054c468bb0a336de866fd3",
            "33b98322edad48ae90a532b687fc0f7c",
            "f23721fb29d84b3e993c841c12236dfd",
            "628a51a233a24e478a24dd32feea7e29",
            "94f6fcb6dd054fc6a0730737b883c0bc",
            "8fe127e1a5d64a8689c74c4e71b02ecd",
            "1b761b4ed13944bdb8c86ec05ff3bea7",
            "8f1864e77bbc4321bbb5ef90504b2ce6",
            "063dd210cf0e4a7181dbeb4fc4df3ae8",
            "f209cf4e9b86425eb5472ff6bb4c059f"
          ]
        }
      },
      "outputs": [
        {
          "output_type": "stream",
          "name": "stderr",
          "text": [
            "INFO: GPU available: True (cuda), used: True\n",
            "INFO:lightning.pytorch.utilities.rank_zero:GPU available: True (cuda), used: True\n",
            "INFO: TPU available: False, using: 0 TPU cores\n",
            "INFO:lightning.pytorch.utilities.rank_zero:TPU available: False, using: 0 TPU cores\n",
            "INFO: IPU available: False, using: 0 IPUs\n",
            "INFO:lightning.pytorch.utilities.rank_zero:IPU available: False, using: 0 IPUs\n",
            "INFO: HPU available: False, using: 0 HPUs\n",
            "INFO:lightning.pytorch.utilities.rank_zero:HPU available: False, using: 0 HPUs\n",
            "INFO: LOCAL_RANK: 0 - CUDA_VISIBLE_DEVICES: [0]\n",
            "INFO:lightning.pytorch.accelerators.cuda:LOCAL_RANK: 0 - CUDA_VISIBLE_DEVICES: [0]\n",
            "INFO: \n",
            "   | Name      | Type          | Params\n",
            "---------------------------------------------\n",
            "0  | inc       | DoubleConv    | 37.7 K\n",
            "1  | down1     | Down          | 328 K \n",
            "2  | sa1       | SelfAttention | 99.6 K\n",
            "3  | down2     | Down          | 1.2 M \n",
            "4  | sa2       | SelfAttention | 395 K \n",
            "5  | down3     | Down          | 2.4 M \n",
            "6  | sa3       | SelfAttention | 395 K \n",
            "7  | bot1      | DoubleConv    | 3.5 M \n",
            "8  | bot2      | DoubleConv    | 4.7 M \n",
            "9  | bot3      | DoubleConv    | 1.8 M \n",
            "10 | up1       | Up            | 6.2 M \n",
            "11 | sa4       | SelfAttention | 99.6 K\n",
            "12 | up2       | Up            | 1.6 M \n",
            "13 | sa5       | SelfAttention | 25.2 K\n",
            "14 | up3       | Up            | 422 K \n",
            "15 | sa6       | SelfAttention | 25.2 K\n",
            "16 | outc      | Conv2d        | 65    \n",
            "17 | label_emb | Embedding     | 2.6 K \n",
            "---------------------------------------------\n",
            "23.3 M    Trainable params\n",
            "0         Non-trainable params\n",
            "23.3 M    Total params\n",
            "93.336    Total estimated model params size (MB)\n",
            "INFO:lightning.pytorch.callbacks.model_summary:\n",
            "   | Name      | Type          | Params\n",
            "---------------------------------------------\n",
            "0  | inc       | DoubleConv    | 37.7 K\n",
            "1  | down1     | Down          | 328 K \n",
            "2  | sa1       | SelfAttention | 99.6 K\n",
            "3  | down2     | Down          | 1.2 M \n",
            "4  | sa2       | SelfAttention | 395 K \n",
            "5  | down3     | Down          | 2.4 M \n",
            "6  | sa3       | SelfAttention | 395 K \n",
            "7  | bot1      | DoubleConv    | 3.5 M \n",
            "8  | bot2      | DoubleConv    | 4.7 M \n",
            "9  | bot3      | DoubleConv    | 1.8 M \n",
            "10 | up1       | Up            | 6.2 M \n",
            "11 | sa4       | SelfAttention | 99.6 K\n",
            "12 | up2       | Up            | 1.6 M \n",
            "13 | sa5       | SelfAttention | 25.2 K\n",
            "14 | up3       | Up            | 422 K \n",
            "15 | sa6       | SelfAttention | 25.2 K\n",
            "16 | outc      | Conv2d        | 65    \n",
            "17 | label_emb | Embedding     | 2.6 K \n",
            "---------------------------------------------\n",
            "23.3 M    Trainable params\n",
            "0         Non-trainable params\n",
            "23.3 M    Total params\n",
            "93.336    Total estimated model params size (MB)\n"
          ]
        },
        {
          "output_type": "stream",
          "name": "stdout",
          "text": [
            "Starting from scratch...\n"
          ]
        },
        {
          "output_type": "display_data",
          "data": {
            "text/plain": [
              "Training: |          | 0/? [00:00<?, ?it/s]"
            ],
            "application/vnd.jupyter.widget-view+json": {
              "version_major": 2,
              "version_minor": 0,
              "model_id": "36ff22fc8441489fa094898196281c2f"
            }
          },
          "metadata": {}
        },
        {
          "output_type": "stream",
          "name": "stderr",
          "text": [
            "/usr/local/lib/python3.10/dist-packages/lightning/pytorch/callbacks/model_checkpoint.py:383: `ModelCheckpoint(monitor='val_loss')` could not find the monitored key in the returned metrics: ['train_loss', 'lr-Adam', 'epoch', 'step']. HINT: Did you call `log('val_loss', value)` in the `LightningModule`?\n",
            "INFO: `Trainer.fit` stopped: `max_epochs=1` reached.\n",
            "INFO:lightning.pytorch.utilities.rank_zero:`Trainer.fit` stopped: `max_epochs=1` reached.\n"
          ]
        }
      ],
      "source": [
        "start_from_checkpoint = False\n",
        "\n",
        "if start_from_checkpoint:\n",
        "    # Load the model from a checkpoint file\n",
        "    checkpoint_path = \"./model/last.ckpt\"\n",
        "    trained_model = UNet_Conditional.load_from_checkpoint(checkpoint_path)\n",
        "    print(\"Starting from checkpoint...\")\n",
        "else:\n",
        "    # Setup DataModule, Model, and Trainer\n",
        "    model = UNet_Conditional(num_classes=10)  # Initialize your model\n",
        "    print(\"Starting from scratch...\")\n",
        "\n",
        "# Initialize Callbacks\n",
        "checkpoint_callback = ModelCheckpoint(dirpath=\"./model\", monitor=\"val_loss\", mode=\"min\", save_top_k=1, save_last=True)\n",
        "lr_monitor = LearningRateMonitor(logging_interval='step')\n",
        "\n",
        "# Initialize Logger\n",
        "logger = TensorBoardLogger(\"tb_logs\", name=\"my_model\")\n",
        "\n",
        "# Setup Trainer\n",
        "trainer = L.Trainer(\n",
        "    max_epochs=1,\n",
        "    accelerator=\"gpu\",\n",
        "    devices=1,  # Number of GPUs\n",
        "    callbacks=[checkpoint_callback, lr_monitor],\n",
        "    logger=logger\n",
        ")\n",
        "\n",
        "# Train\n",
        "trainer.fit(model=model, train_dataloaders=fashion_mnist_dm)"
      ]
    },
    {
      "cell_type": "code",
      "execution_count": 40,
      "id": "8a8a1f3e",
      "metadata": {
        "id": "8a8a1f3e"
      },
      "outputs": [],
      "source": [
        "checkpoint_path = \"./model/last.ckpt\"\n",
        "trained_model = UNet_Conditional.load_from_checkpoint(checkpoint_path, num_classes=10)"
      ]
    },
    {
      "cell_type": "code",
      "execution_count": 45,
      "id": "c33d69e2",
      "metadata": {
        "id": "c33d69e2",
        "outputId": "1d510a56-3de6-4b53-8fa3-325cacf42e00",
        "colab": {
          "base_uri": "https://localhost:8080/",
          "height": 258,
          "referenced_widgets": [
            "ae5388300b604f43b442980b267bfeb4",
            "b8c191dbcf9343c2b71925bcc700f284",
            "4c740350dba04eafa25820dada3222a1",
            "b203948db54941c9ba0ad74e5f4f4e1e",
            "52ee8eecbd2e4c04861bde4051d10c24",
            "cb4837bd5c8b443abf800a65710bbf04",
            "65e663f5fc10492f8e2c0982ae37c480",
            "e9338a8b1e584ff3883366dff5369447",
            "df58e0acc5ca4249a20ffbe9f9316694",
            "dd8e2d068c3f45949feba5baab4fdc16",
            "09a6e44fc1724e58999592680a80b5ea"
          ]
        }
      },
      "outputs": [
        {
          "output_type": "display_data",
          "data": {
            "text/plain": [
              "0it [00:00, ?it/s]"
            ],
            "application/vnd.jupyter.widget-view+json": {
              "version_major": 2,
              "version_minor": 0,
              "model_id": "ae5388300b604f43b442980b267bfeb4"
            }
          },
          "metadata": {}
        },
        {
          "output_type": "stream",
          "name": "stdout",
          "text": [
            "torch.Size([8, 1, 32, 32])\n"
          ]
        },
        {
          "output_type": "display_data",
          "data": {
            "text/plain": [
              "<Figure size 3200x3200 with 1 Axes>"
            ],
            "image/png": "[encoded data removed]"
          },
          "metadata": {}
        }
      ],
      "source": [
        "# Generate 8 images with the conditional model\n",
        "diffusion = Diffusion_Conditional(img_size=32)\n",
        "n = 8\n",
        "y = torch.Tensor([6] * n).long().to(device)\n",
        "x = diffusion.sample(trained_model, 8, y, cfg_scale=0)\n",
        "print(x.shape)\n",
        "plt.figure(figsize=(32, 32))\n",
        "plt.imshow(torch.cat([\n",
        "    torch.cat([i for i in x.cpu()], dim=-1),\n",
        "], dim=-2).permute(1, 2, 0).cpu())\n",
        "plt.show()"
      ]
    },
    {
      "cell_type": "markdown",
      "id": "ef27deb7",
      "metadata": {
        "id": "ef27deb7"
      },
      "source": [
        "## Conclusion"
      ]
    },
    {
      "cell_type": "markdown",
      "id": "b668c679",
      "metadata": {
        "id": "b668c679"
      },
      "source": [
        "Looking forward, diffusion models hold immense potential to redefine the landscape of generative deep learning. As researchers continue to unravel the theoretical underpinnings and explore new variations, these models are poised to become even more powerful and efficient. Innovations such as optimizing the noise schedule, integrating multimodal data, and enhancing the interpretability of the generation process will likely drive further advancements. Additionally, the application of diffusion models in unsolved or complex domains, like three-dimensional generation and interactive content creation, opens new horizons for creative and practical applications. The evolving capabilities of diffusion models not only promise to expand the boundaries of generative deep learning but also offer a glimpse into the future where generation and simulation of realistic data can be achieved with unprecedented fidelity and control."
      ]
    },
    {
      "cell_type": "markdown",
      "metadata": {
        "id": "296aa07d"
      },
      "source": [
        "## References"
      ],
      "id": "296aa07d"
    },
    {
      "cell_type": "markdown",
      "metadata": {
        "id": "s3GWuTSNRecd"
      },
      "source": [
        "  - [Denoising Diffusion Probabilistic Models:](https://arxiv.org/pdf/2006.11239.pdf)\n",
        "\n",
        "  - Diffusion Model Implementation by [dome272](https://github.com/dome272) : (https://github.com/dome272/Diffusion-Models-pytorch/tree/main)\n",
        "  - Paper explanation of Diffusion Models by Outlier: (https://www.youtube.com/watch?v=HoKDTa5jHvg)\n",
        "\n",
        "  - [Improved Denoising Diffusion Probabilistic Modelsc (Nichol et al., 2021)](https://arxiv.org/pdf/2102.09672.pdf) : finds that learning the variance of the conditional distribution (besides the mean) helps in improving performance\n",
        "\n",
        "  - [Cascaded Diffusion Models for High Fidelity Image Generation (Ho et al., 2021)](https://arxiv.org/abs/2106.15282): introduces cascaded diffusion, which comprises a pipeline of multiple diffusion models that generate images of increasing resolution for high-fidelity image synthesis\n",
        "\n",
        "  - [Diffusion Models Beat GANs on Image Synthesis (Dhariwal et al., 2021)](https://arxiv.org/abs/2105.05233): show that diffusion models can achieve image sample quality superior to the current state-of-the-art generative models by improving the U-Net architecture, as well as introducing classifier guidance\n",
        "\n",
        "  - [Classifier-Free Diffusion Guidance (Ho et al., 2021)](https://openreview.net/pdf?id=qw8AKxfYbI): shows that you don't need a classifier for guiding a diffusion model by jointly training a conditional and an unconditional diffusion model with a single neural network\n",
        "  \n",
        "  - [Hierarchical Text-Conditional Image Generation with CLIP Latents (DALL-E 2) (Ramesh et al., 2022)](https://cdn.openai.com/papers/dall-e-2.pdf): uses a prior to turn a text caption into a CLIP image embedding, after which a diffusion model decodes it into an image\n",
        "  \n",
        "  - [Photorealistic Text-to-Image Diffusion Models with Deep Language Understanding (ImageGen) (Saharia et al., 2022)](https://arxiv.org/abs/2205.11487): shows that combining a large pre-trained language model (e.g. T5) with cascaded diffusion works well for text-to-image synthesis"
      ],
      "id": "s3GWuTSNRecd"
    }
  ],
  "metadata": {
    "accelerator": "GPU",
    "colab": {
      "gpuType": "T4",
      "provenance": [],
      "include_colab_link": true
    },
    "kaggle": {
      "accelerator": "nvidiaTeslaT4",
      "dataSources": [],
      "dockerImageVersionId": 30664,
      "isGpuEnabled": true,
      "isInternetEnabled": true,
      "language": "python",
      "sourceType": "notebook"
    },
    "kernelspec": {
      "display_name": "Python 3",
      "language": "python",
      "name": "python3"
    },
    "language_info": {
      "codemirror_mode": {
        "name": "ipython",
        "version": 3
      },
      "file_extension": ".py",
      "mimetype": "text/x-python",
      "name": "python",
      "nbconvert_exporter": "python",
      "pygments_lexer": "ipython3",
      "version": "3.11.5"
    },
    "widgets": {
      "application/vnd.jupyter.widget-state+json": {
        "1026f6435a3c4c679f8c0ba62916f789": {
          "model_module": "@jupyter-widgets/base",
          "model_module_version": "1.2.0",
          "model_name": "LayoutModel",
          "state": {
            "_model_module": "@jupyter-widgets/base",
            "_model_module_version": "1.2.0",
            "_model_name": "LayoutModel",
            "_view_count": null,
            "_view_module": "@jupyter-widgets/base",
            "_view_module_version": "1.2.0",
            "_view_name": "LayoutView",
            "align_content": null,
            "align_items": null,
            "align_self": null,
            "border": null,
            "bottom": null,
            "display": null,
            "flex": null,
            "flex_flow": null,
            "grid_area": null,
            "grid_auto_columns": null,
            "grid_auto_flow": null,
            "grid_auto_rows": null,
            "grid_column": null,
            "grid_gap": null,
            "grid_row": null,
            "grid_template_areas": null,
            "grid_template_columns": null,
            "grid_template_rows": null,
            "height": null,
            "justify_content": null,
            "justify_items": null,
            "left": null,
            "margin": null,
            "max_height": null,
            "max_width": null,
            "min_height": null,
            "min_width": null,
            "object_fit": null,
            "object_position": null,
            "order": null,
            "overflow": null,
            "overflow_x": null,
            "overflow_y": null,
            "padding": null,
            "right": null,
            "top": null,
            "visibility": null,
            "width": null
          }
        },
        "15b1af1bbe1d4312a55e30a8ca405d95": {
          "model_module": "@jupyter-widgets/controls",
          "model_module_version": "1.5.0",
          "model_name": "DescriptionStyleModel",
          "state": {
            "_model_module": "@jupyter-widgets/controls",
            "_model_module_version": "1.5.0",
            "_model_name": "DescriptionStyleModel",
            "_view_count": null,
            "_view_module": "@jupyter-widgets/base",
            "_view_module_version": "1.2.0",
            "_view_name": "StyleView",
            "description_width": ""
          }
        },
        "18d3ae98f0ae48ec8955bf8608ba9acf": {
          "model_module": "@jupyter-widgets/controls",
          "model_module_version": "1.5.0",
          "model_name": "HTMLModel",
          "state": {
            "_dom_classes": [],
            "_model_module": "@jupyter-widgets/controls",
            "_model_module_version": "1.5.0",
            "_model_name": "HTMLModel",
            "_view_count": null,
            "_view_module": "@jupyter-widgets/controls",
            "_view_module_version": "1.5.0",
            "_view_name": "HTMLView",
            "description": "",
            "description_tooltip": null,
            "layout": "IPY_MODEL_1026f6435a3c4c679f8c0ba62916f789",
            "placeholder": "​",
            "style": "IPY_MODEL_883ce00cabc844bbb822a062f65faaee",
            "value": " 9/? [00:00&lt;00:00, 29.56it/s]"
          }
        },
        "22362102f426429286d02cd060875776": {
          "model_module": "@jupyter-widgets/controls",
          "model_module_version": "1.5.0",
          "model_name": "HBoxModel",
          "state": {
            "_dom_classes": [],
            "_model_module": "@jupyter-widgets/controls",
            "_model_module_version": "1.5.0",
            "_model_name": "HBoxModel",
            "_view_count": null,
            "_view_module": "@jupyter-widgets/controls",
            "_view_module_version": "1.5.0",
            "_view_name": "HBoxView",
            "box_style": "",
            "children": [
              "IPY_MODEL_bb7828ac10dd493aad619af79f444c42",
              "IPY_MODEL_3a56460488674463b4f4b12a65918fec",
              "IPY_MODEL_18d3ae98f0ae48ec8955bf8608ba9acf"
            ],
            "layout": "IPY_MODEL_9a9cc2f890e84b42a14a77c6c2afbad4"
          }
        },
        "3a56460488674463b4f4b12a65918fec": {
          "model_module": "@jupyter-widgets/controls",
          "model_module_version": "1.5.0",
          "model_name": "FloatProgressModel",
          "state": {
            "_dom_classes": [],
            "_model_module": "@jupyter-widgets/controls",
            "_model_module_version": "1.5.0",
            "_model_name": "FloatProgressModel",
            "_view_count": null,
            "_view_module": "@jupyter-widgets/controls",
            "_view_module_version": "1.5.0",
            "_view_name": "ProgressView",
            "bar_style": "success",
            "description": "",
            "description_tooltip": null,
            "layout": "IPY_MODEL_eeb486a4f48c4696967701d5b697dfd1",
            "max": 1,
            "min": 0,
            "orientation": "horizontal",
            "style": "IPY_MODEL_adf593570fb84c2b96bc9c05eb639efa",
            "value": 1
          }
        },
        "413fa981764542c1ac73b7e774473b3c": {
          "model_module": "@jupyter-widgets/base",
          "model_module_version": "1.2.0",
          "model_name": "LayoutModel",
          "state": {
            "_model_module": "@jupyter-widgets/base",
            "_model_module_version": "1.2.0",
            "_model_name": "LayoutModel",
            "_view_count": null,
            "_view_module": "@jupyter-widgets/base",
            "_view_module_version": "1.2.0",
            "_view_name": "LayoutView",
            "align_content": null,
            "align_items": null,
            "align_self": null,
            "border": null,
            "bottom": null,
            "display": null,
            "flex": null,
            "flex_flow": null,
            "grid_area": null,
            "grid_auto_columns": null,
            "grid_auto_flow": null,
            "grid_auto_rows": null,
            "grid_column": null,
            "grid_gap": null,
            "grid_row": null,
            "grid_template_areas": null,
            "grid_template_columns": null,
            "grid_template_rows": null,
            "height": null,
            "justify_content": null,
            "justify_items": null,
            "left": null,
            "margin": null,
            "max_height": null,
            "max_width": null,
            "min_height": null,
            "min_width": null,
            "object_fit": null,
            "object_position": null,
            "order": null,
            "overflow": null,
            "overflow_x": null,
            "overflow_y": null,
            "padding": null,
            "right": null,
            "top": null,
            "visibility": null,
            "width": null
          }
        },
        "47bf2b10cde84bebbb123da1b5d398ce": {
          "model_module": "@jupyter-widgets/controls",
          "model_module_version": "1.5.0",
          "model_name": "HBoxModel",
          "state": {
            "_dom_classes": [],
            "_model_module": "@jupyter-widgets/controls",
            "_model_module_version": "1.5.0",
            "_model_name": "HBoxModel",
            "_view_count": null,
            "_view_module": "@jupyter-widgets/controls",
            "_view_module_version": "1.5.0",
            "_view_name": "HBoxView",
            "box_style": "",
            "children": [
              "IPY_MODEL_a1d8db35bc944157962bca4242743324",
              "IPY_MODEL_cab951dc7a1c403da0e2bdb0bef9cd22",
              "IPY_MODEL_c0462a4a21c045bba0db66b9031da9b3"
            ],
            "layout": "IPY_MODEL_8c50204a0d3e4805ba2510e16873338e"
          }
        },
        "71a4cd7b4ac14cca89c065d9ca48b86a": {
          "model_module": "@jupyter-widgets/base",
          "model_module_version": "1.2.0",
          "model_name": "LayoutModel",
          "state": {
            "_model_module": "@jupyter-widgets/base",
            "_model_module_version": "1.2.0",
            "_model_name": "LayoutModel",
            "_view_count": null,
            "_view_module": "@jupyter-widgets/base",
            "_view_module_version": "1.2.0",
            "_view_name": "LayoutView",
            "align_content": null,
            "align_items": null,
            "align_self": null,
            "border": null,
            "bottom": null,
            "display": null,
            "flex": "2",
            "flex_flow": null,
            "grid_area": null,
            "grid_auto_columns": null,
            "grid_auto_flow": null,
            "grid_auto_rows": null,
            "grid_column": null,
            "grid_gap": null,
            "grid_row": null,
            "grid_template_areas": null,
            "grid_template_columns": null,
            "grid_template_rows": null,
            "height": null,
            "justify_content": null,
            "justify_items": null,
            "left": null,
            "margin": null,
            "max_height": null,
            "max_width": null,
            "min_height": null,
            "min_width": null,
            "object_fit": null,
            "object_position": null,
            "order": null,
            "overflow": null,
            "overflow_x": null,
            "overflow_y": null,
            "padding": null,
            "right": null,
            "top": null,
            "visibility": null,
            "width": null
          }
        },
        "74c97cc46cd040bdbd3b781fe2276b93": {
          "model_module": "@jupyter-widgets/controls",
          "model_module_version": "1.5.0",
          "model_name": "DescriptionStyleModel",
          "state": {
            "_model_module": "@jupyter-widgets/controls",
            "_model_module_version": "1.5.0",
            "_model_name": "DescriptionStyleModel",
            "_view_count": null,
            "_view_module": "@jupyter-widgets/base",
            "_view_module_version": "1.2.0",
            "_view_name": "StyleView",
            "description_width": ""
          }
        },
        "883ce00cabc844bbb822a062f65faaee": {
          "model_module": "@jupyter-widgets/controls",
          "model_module_version": "1.5.0",
          "model_name": "DescriptionStyleModel",
          "state": {
            "_model_module": "@jupyter-widgets/controls",
            "_model_module_version": "1.5.0",
            "_model_name": "DescriptionStyleModel",
            "_view_count": null,
            "_view_module": "@jupyter-widgets/base",
            "_view_module_version": "1.2.0",
            "_view_name": "StyleView",
            "description_width": ""
          }
        },
        "8c50204a0d3e4805ba2510e16873338e": {
          "model_module": "@jupyter-widgets/base",
          "model_module_version": "1.2.0",
          "model_name": "LayoutModel",
          "state": {
            "_model_module": "@jupyter-widgets/base",
            "_model_module_version": "1.2.0",
            "_model_name": "LayoutModel",
            "_view_count": null,
            "_view_module": "@jupyter-widgets/base",
            "_view_module_version": "1.2.0",
            "_view_name": "LayoutView",
            "align_content": null,
            "align_items": null,
            "align_self": null,
            "border": null,
            "bottom": null,
            "display": "inline-flex",
            "flex": null,
            "flex_flow": "row wrap",
            "grid_area": null,
            "grid_auto_columns": null,
            "grid_auto_flow": null,
            "grid_auto_rows": null,
            "grid_column": null,
            "grid_gap": null,
            "grid_row": null,
            "grid_template_areas": null,
            "grid_template_columns": null,
            "grid_template_rows": null,
            "height": null,
            "justify_content": null,
            "justify_items": null,
            "left": null,
            "margin": null,
            "max_height": null,
            "max_width": null,
            "min_height": null,
            "min_width": null,
            "object_fit": null,
            "object_position": null,
            "order": null,
            "overflow": null,
            "overflow_x": null,
            "overflow_y": null,
            "padding": null,
            "right": null,
            "top": null,
            "visibility": null,
            "width": "100%"
          }
        },
        "97b6947267c241ffa164ac25d8922ffa": {
          "model_module": "@jupyter-widgets/controls",
          "model_module_version": "1.5.0",
          "model_name": "ProgressStyleModel",
          "state": {
            "_model_module": "@jupyter-widgets/controls",
            "_model_module_version": "1.5.0",
            "_model_name": "ProgressStyleModel",
            "_view_count": null,
            "_view_module": "@jupyter-widgets/base",
            "_view_module_version": "1.2.0",
            "_view_name": "StyleView",
            "bar_color": null,
            "description_width": ""
          }
        },
        "9a9cc2f890e84b42a14a77c6c2afbad4": {
          "model_module": "@jupyter-widgets/base",
          "model_module_version": "1.2.0",
          "model_name": "LayoutModel",
          "state": {
            "_model_module": "@jupyter-widgets/base",
            "_model_module_version": "1.2.0",
            "_model_name": "LayoutModel",
            "_view_count": null,
            "_view_module": "@jupyter-widgets/base",
            "_view_module_version": "1.2.0",
            "_view_name": "LayoutView",
            "align_content": null,
            "align_items": null,
            "align_self": null,
            "border": null,
            "bottom": null,
            "display": null,
            "flex": null,
            "flex_flow": null,
            "grid_area": null,
            "grid_auto_columns": null,
            "grid_auto_flow": null,
            "grid_auto_rows": null,
            "grid_column": null,
            "grid_gap": null,
            "grid_row": null,
            "grid_template_areas": null,
            "grid_template_columns": null,
            "grid_template_rows": null,
            "height": null,
            "justify_content": null,
            "justify_items": null,
            "left": null,
            "margin": null,
            "max_height": null,
            "max_width": null,
            "min_height": null,
            "min_width": null,
            "object_fit": null,
            "object_position": null,
            "order": null,
            "overflow": null,
            "overflow_x": null,
            "overflow_y": null,
            "padding": null,
            "right": null,
            "top": null,
            "visibility": null,
            "width": null
          }
        },
        "a1d8db35bc944157962bca4242743324": {
          "model_module": "@jupyter-widgets/controls",
          "model_module_version": "1.5.0",
          "model_name": "HTMLModel",
          "state": {
            "_dom_classes": [],
            "_model_module": "@jupyter-widgets/controls",
            "_model_module_version": "1.5.0",
            "_model_name": "HTMLModel",
            "_view_count": null,
            "_view_module": "@jupyter-widgets/controls",
            "_view_module_version": "1.5.0",
            "_view_name": "HTMLView",
            "description": "",
            "description_tooltip": null,
            "layout": "IPY_MODEL_cbbca84887044e5ebc1b62a156bdd3d5",
            "placeholder": "​",
            "style": "IPY_MODEL_74c97cc46cd040bdbd3b781fe2276b93",
            "value": "Epoch 0: 100%"
          }
        },
        "adf593570fb84c2b96bc9c05eb639efa": {
          "model_module": "@jupyter-widgets/controls",
          "model_module_version": "1.5.0",
          "model_name": "ProgressStyleModel",
          "state": {
            "_model_module": "@jupyter-widgets/controls",
            "_model_module_version": "1.5.0",
            "_model_name": "ProgressStyleModel",
            "_view_count": null,
            "_view_module": "@jupyter-widgets/base",
            "_view_module_version": "1.2.0",
            "_view_name": "StyleView",
            "bar_color": null,
            "description_width": ""
          }
        },
        "b0a451ee4e5b4a0190967f18ad9425fd": {
          "model_module": "@jupyter-widgets/base",
          "model_module_version": "1.2.0",
          "model_name": "LayoutModel",
          "state": {
            "_model_module": "@jupyter-widgets/base",
            "_model_module_version": "1.2.0",
            "_model_name": "LayoutModel",
            "_view_count": null,
            "_view_module": "@jupyter-widgets/base",
            "_view_module_version": "1.2.0",
            "_view_name": "LayoutView",
            "align_content": null,
            "align_items": null,
            "align_self": null,
            "border": null,
            "bottom": null,
            "display": null,
            "flex": null,
            "flex_flow": null,
            "grid_area": null,
            "grid_auto_columns": null,
            "grid_auto_flow": null,
            "grid_auto_rows": null,
            "grid_column": null,
            "grid_gap": null,
            "grid_row": null,
            "grid_template_areas": null,
            "grid_template_columns": null,
            "grid_template_rows": null,
            "height": null,
            "justify_content": null,
            "justify_items": null,
            "left": null,
            "margin": null,
            "max_height": null,
            "max_width": null,
            "min_height": null,
            "min_width": null,
            "object_fit": null,
            "object_position": null,
            "order": null,
            "overflow": null,
            "overflow_x": null,
            "overflow_y": null,
            "padding": null,
            "right": null,
            "top": null,
            "visibility": null,
            "width": null
          }
        },
        "bb7828ac10dd493aad619af79f444c42": {
          "model_module": "@jupyter-widgets/controls",
          "model_module_version": "1.5.0",
          "model_name": "HTMLModel",
          "state": {
            "_dom_classes": [],
            "_model_module": "@jupyter-widgets/controls",
            "_model_module_version": "1.5.0",
            "_model_name": "HTMLModel",
            "_view_count": null,
            "_view_module": "@jupyter-widgets/controls",
            "_view_module_version": "1.5.0",
            "_view_name": "HTMLView",
            "description": "",
            "description_tooltip": null,
            "layout": "IPY_MODEL_413fa981764542c1ac73b7e774473b3c",
            "placeholder": "​",
            "style": "IPY_MODEL_15b1af1bbe1d4312a55e30a8ca405d95",
            "value": ""
          }
        },
        "c0462a4a21c045bba0db66b9031da9b3": {
          "model_module": "@jupyter-widgets/controls",
          "model_module_version": "1.5.0",
          "model_name": "HTMLModel",
          "state": {
            "_dom_classes": [],
            "_model_module": "@jupyter-widgets/controls",
            "_model_module_version": "1.5.0",
            "_model_name": "HTMLModel",
            "_view_count": null,
            "_view_module": "@jupyter-widgets/controls",
            "_view_module_version": "1.5.0",
            "_view_name": "HTMLView",
            "description": "",
            "description_tooltip": null,
            "layout": "IPY_MODEL_b0a451ee4e5b4a0190967f18ad9425fd",
            "placeholder": "​",
            "style": "IPY_MODEL_fa4c9644107a478f9b060c70eae1cb2a",
            "value": " 469/469 [03:57&lt;00:00,  1.98it/s, v_num=1]"
          }
        },
        "cab951dc7a1c403da0e2bdb0bef9cd22": {
          "model_module": "@jupyter-widgets/controls",
          "model_module_version": "1.5.0",
          "model_name": "FloatProgressModel",
          "state": {
            "_dom_classes": [],
            "_model_module": "@jupyter-widgets/controls",
            "_model_module_version": "1.5.0",
            "_model_name": "FloatProgressModel",
            "_view_count": null,
            "_view_module": "@jupyter-widgets/controls",
            "_view_module_version": "1.5.0",
            "_view_name": "ProgressView",
            "bar_style": "success",
            "description": "",
            "description_tooltip": null,
            "layout": "IPY_MODEL_71a4cd7b4ac14cca89c065d9ca48b86a",
            "max": 469,
            "min": 0,
            "orientation": "horizontal",
            "style": "IPY_MODEL_97b6947267c241ffa164ac25d8922ffa",
            "value": 469
          }
        },
        "cbbca84887044e5ebc1b62a156bdd3d5": {
          "model_module": "@jupyter-widgets/base",
          "model_module_version": "1.2.0",
          "model_name": "LayoutModel",
          "state": {
            "_model_module": "@jupyter-widgets/base",
            "_model_module_version": "1.2.0",
            "_model_name": "LayoutModel",
            "_view_count": null,
            "_view_module": "@jupyter-widgets/base",
            "_view_module_version": "1.2.0",
            "_view_name": "LayoutView",
            "align_content": null,
            "align_items": null,
            "align_self": null,
            "border": null,
            "bottom": null,
            "display": null,
            "flex": null,
            "flex_flow": null,
            "grid_area": null,
            "grid_auto_columns": null,
            "grid_auto_flow": null,
            "grid_auto_rows": null,
            "grid_column": null,
            "grid_gap": null,
            "grid_row": null,
            "grid_template_areas": null,
            "grid_template_columns": null,
            "grid_template_rows": null,
            "height": null,
            "justify_content": null,
            "justify_items": null,
            "left": null,
            "margin": null,
            "max_height": null,
            "max_width": null,
            "min_height": null,
            "min_width": null,
            "object_fit": null,
            "object_position": null,
            "order": null,
            "overflow": null,
            "overflow_x": null,
            "overflow_y": null,
            "padding": null,
            "right": null,
            "top": null,
            "visibility": null,
            "width": null
          }
        },
        "eeb486a4f48c4696967701d5b697dfd1": {
          "model_module": "@jupyter-widgets/base",
          "model_module_version": "1.2.0",
          "model_name": "LayoutModel",
          "state": {
            "_model_module": "@jupyter-widgets/base",
            "_model_module_version": "1.2.0",
            "_model_name": "LayoutModel",
            "_view_count": null,
            "_view_module": "@jupyter-widgets/base",
            "_view_module_version": "1.2.0",
            "_view_name": "LayoutView",
            "align_content": null,
            "align_items": null,
            "align_self": null,
            "border": null,
            "bottom": null,
            "display": null,
            "flex": null,
            "flex_flow": null,
            "grid_area": null,
            "grid_auto_columns": null,
            "grid_auto_flow": null,
            "grid_auto_rows": null,
            "grid_column": null,
            "grid_gap": null,
            "grid_row": null,
            "grid_template_areas": null,
            "grid_template_columns": null,
            "grid_template_rows": null,
            "height": null,
            "justify_content": null,
            "justify_items": null,
            "left": null,
            "margin": null,
            "max_height": null,
            "max_width": null,
            "min_height": null,
            "min_width": null,
            "object_fit": null,
            "object_position": null,
            "order": null,
            "overflow": null,
            "overflow_x": null,
            "overflow_y": null,
            "padding": null,
            "right": null,
            "top": null,
            "visibility": null,
            "width": "20px"
          }
        },
        "fa4c9644107a478f9b060c70eae1cb2a": {
          "model_module": "@jupyter-widgets/controls",
          "model_module_version": "1.5.0",
          "model_name": "DescriptionStyleModel",
          "state": {
            "_model_module": "@jupyter-widgets/controls",
            "_model_module_version": "1.5.0",
            "_model_name": "DescriptionStyleModel",
            "_view_count": null,
            "_view_module": "@jupyter-widgets/base",
            "_view_module_version": "1.2.0",
            "_view_name": "StyleView",
            "description_width": ""
          }
        },
        "36ff22fc8441489fa094898196281c2f": {
          "model_module": "@jupyter-widgets/controls",
          "model_name": "HBoxModel",
          "model_module_version": "1.5.0",
          "state": {
            "_dom_classes": [],
            "_model_module": "@jupyter-widgets/controls",
            "_model_module_version": "1.5.0",
            "_model_name": "HBoxModel",
            "_view_count": null,
            "_view_module": "@jupyter-widgets/controls",
            "_view_module_version": "1.5.0",
            "_view_name": "HBoxView",
            "box_style": "",
            "children": [
              "IPY_MODEL_2d6799eb7e054c468bb0a336de866fd3",
              "IPY_MODEL_33b98322edad48ae90a532b687fc0f7c",
              "IPY_MODEL_f23721fb29d84b3e993c841c12236dfd"
            ],
            "layout": "IPY_MODEL_628a51a233a24e478a24dd32feea7e29"
          }
        },
        "2d6799eb7e054c468bb0a336de866fd3": {
          "model_module": "@jupyter-widgets/controls",
          "model_name": "HTMLModel",
          "model_module_version": "1.5.0",
          "state": {
            "_dom_classes": [],
            "_model_module": "@jupyter-widgets/controls",
            "_model_module_version": "1.5.0",
            "_model_name": "HTMLModel",
            "_view_count": null,
            "_view_module": "@jupyter-widgets/controls",
            "_view_module_version": "1.5.0",
            "_view_name": "HTMLView",
            "description": "",
            "description_tooltip": null,
            "layout": "IPY_MODEL_94f6fcb6dd054fc6a0730737b883c0bc",
            "placeholder": "​",
            "style": "IPY_MODEL_8fe127e1a5d64a8689c74c4e71b02ecd",
            "value": "Epoch 0: 100%"
          }
        },
        "33b98322edad48ae90a532b687fc0f7c": {
          "model_module": "@jupyter-widgets/controls",
          "model_name": "FloatProgressModel",
          "model_module_version": "1.5.0",
          "state": {
            "_dom_classes": [],
            "_model_module": "@jupyter-widgets/controls",
            "_model_module_version": "1.5.0",
            "_model_name": "FloatProgressModel",
            "_view_count": null,
            "_view_module": "@jupyter-widgets/controls",
            "_view_module_version": "1.5.0",
            "_view_name": "ProgressView",
            "bar_style": "success",
            "description": "",
            "description_tooltip": null,
            "layout": "IPY_MODEL_1b761b4ed13944bdb8c86ec05ff3bea7",
            "max": 469,
            "min": 0,
            "orientation": "horizontal",
            "style": "IPY_MODEL_8f1864e77bbc4321bbb5ef90504b2ce6",
            "value": 469
          }
        },
        "f23721fb29d84b3e993c841c12236dfd": {
          "model_module": "@jupyter-widgets/controls",
          "model_name": "HTMLModel",
          "model_module_version": "1.5.0",
          "state": {
            "_dom_classes": [],
            "_model_module": "@jupyter-widgets/controls",
            "_model_module_version": "1.5.0",
            "_model_name": "HTMLModel",
            "_view_count": null,
            "_view_module": "@jupyter-widgets/controls",
            "_view_module_version": "1.5.0",
            "_view_name": "HTMLView",
            "description": "",
            "description_tooltip": null,
            "layout": "IPY_MODEL_063dd210cf0e4a7181dbeb4fc4df3ae8",
            "placeholder": "​",
            "style": "IPY_MODEL_f209cf4e9b86425eb5472ff6bb4c059f",
            "value": " 469/469 [03:55&lt;00:00,  1.99it/s, v_num=7]"
          }
        },
        "628a51a233a24e478a24dd32feea7e29": {
          "model_module": "@jupyter-widgets/base",
          "model_name": "LayoutModel",
          "model_module_version": "1.2.0",
          "state": {
            "_model_module": "@jupyter-widgets/base",
            "_model_module_version": "1.2.0",
            "_model_name": "LayoutModel",
            "_view_count": null,
            "_view_module": "@jupyter-widgets/base",
            "_view_module_version": "1.2.0",
            "_view_name": "LayoutView",
            "align_content": null,
            "align_items": null,
            "align_self": null,
            "border": null,
            "bottom": null,
            "display": "inline-flex",
            "flex": null,
            "flex_flow": "row wrap",
            "grid_area": null,
            "grid_auto_columns": null,
            "grid_auto_flow": null,
            "grid_auto_rows": null,
            "grid_column": null,
            "grid_gap": null,
            "grid_row": null,
            "grid_template_areas": null,
            "grid_template_columns": null,
            "grid_template_rows": null,
            "height": null,
            "justify_content": null,
            "justify_items": null,
            "left": null,
            "margin": null,
            "max_height": null,
            "max_width": null,
            "min_height": null,
            "min_width": null,
            "object_fit": null,
            "object_position": null,
            "order": null,
            "overflow": null,
            "overflow_x": null,
            "overflow_y": null,
            "padding": null,
            "right": null,
            "top": null,
            "visibility": null,
            "width": "100%"
          }
        },
        "94f6fcb6dd054fc6a0730737b883c0bc": {
          "model_module": "@jupyter-widgets/base",
          "model_name": "LayoutModel",
          "model_module_version": "1.2.0",
          "state": {
            "_model_module": "@jupyter-widgets/base",
            "_model_module_version": "1.2.0",
            "_model_name": "LayoutModel",
            "_view_count": null,
            "_view_module": "@jupyter-widgets/base",
            "_view_module_version": "1.2.0",
            "_view_name": "LayoutView",
            "align_content": null,
            "align_items": null,
            "align_self": null,
            "border": null,
            "bottom": null,
            "display": null,
            "flex": null,
            "flex_flow": null,
            "grid_area": null,
            "grid_auto_columns": null,
            "grid_auto_flow": null,
            "grid_auto_rows": null,
            "grid_column": null,
            "grid_gap": null,
            "grid_row": null,
            "grid_template_areas": null,
            "grid_template_columns": null,
            "grid_template_rows": null,
            "height": null,
            "justify_content": null,
            "justify_items": null,
            "left": null,
            "margin": null,
            "max_height": null,
            "max_width": null,
            "min_height": null,
            "min_width": null,
            "object_fit": null,
            "object_position": null,
            "order": null,
            "overflow": null,
            "overflow_x": null,
            "overflow_y": null,
            "padding": null,
            "right": null,
            "top": null,
            "visibility": null,
            "width": null
          }
        },
        "8fe127e1a5d64a8689c74c4e71b02ecd": {
          "model_module": "@jupyter-widgets/controls",
          "model_name": "DescriptionStyleModel",
          "model_module_version": "1.5.0",
          "state": {
            "_model_module": "@jupyter-widgets/controls",
            "_model_module_version": "1.5.0",
            "_model_name": "DescriptionStyleModel",
            "_view_count": null,
            "_view_module": "@jupyter-widgets/base",
            "_view_module_version": "1.2.0",
            "_view_name": "StyleView",
            "description_width": ""
          }
        },
        "1b761b4ed13944bdb8c86ec05ff3bea7": {
          "model_module": "@jupyter-widgets/base",
          "model_name": "LayoutModel",
          "model_module_version": "1.2.0",
          "state": {
            "_model_module": "@jupyter-widgets/base",
            "_model_module_version": "1.2.0",
            "_model_name": "LayoutModel",
            "_view_count": null,
            "_view_module": "@jupyter-widgets/base",
            "_view_module_version": "1.2.0",
            "_view_name": "LayoutView",
            "align_content": null,
            "align_items": null,
            "align_self": null,
            "border": null,
            "bottom": null,
            "display": null,
            "flex": "2",
            "flex_flow": null,
            "grid_area": null,
            "grid_auto_columns": null,
            "grid_auto_flow": null,
            "grid_auto_rows": null,
            "grid_column": null,
            "grid_gap": null,
            "grid_row": null,
            "grid_template_areas": null,
            "grid_template_columns": null,
            "grid_template_rows": null,
            "height": null,
            "justify_content": null,
            "justify_items": null,
            "left": null,
            "margin": null,
            "max_height": null,
            "max_width": null,
            "min_height": null,
            "min_width": null,
            "object_fit": null,
            "object_position": null,
            "order": null,
            "overflow": null,
            "overflow_x": null,
            "overflow_y": null,
            "padding": null,
            "right": null,
            "top": null,
            "visibility": null,
            "width": null
          }
        },
        "8f1864e77bbc4321bbb5ef90504b2ce6": {
          "model_module": "@jupyter-widgets/controls",
          "model_name": "ProgressStyleModel",
          "model_module_version": "1.5.0",
          "state": {
            "_model_module": "@jupyter-widgets/controls",
            "_model_module_version": "1.5.0",
            "_model_name": "ProgressStyleModel",
            "_view_count": null,
            "_view_module": "@jupyter-widgets/base",
            "_view_module_version": "1.2.0",
            "_view_name": "StyleView",
            "bar_color": null,
            "description_width": ""
          }
        },
        "063dd210cf0e4a7181dbeb4fc4df3ae8": {
          "model_module": "@jupyter-widgets/base",
          "model_name": "LayoutModel",
          "model_module_version": "1.2.0",
          "state": {
            "_model_module": "@jupyter-widgets/base",
            "_model_module_version": "1.2.0",
            "_model_name": "LayoutModel",
            "_view_count": null,
            "_view_module": "@jupyter-widgets/base",
            "_view_module_version": "1.2.0",
            "_view_name": "LayoutView",
            "align_content": null,
            "align_items": null,
            "align_self": null,
            "border": null,
            "bottom": null,
            "display": null,
            "flex": null,
            "flex_flow": null,
            "grid_area": null,
            "grid_auto_columns": null,
            "grid_auto_flow": null,
            "grid_auto_rows": null,
            "grid_column": null,
            "grid_gap": null,
            "grid_row": null,
            "grid_template_areas": null,
            "grid_template_columns": null,
            "grid_template_rows": null,
            "height": null,
            "justify_content": null,
            "justify_items": null,
            "left": null,
            "margin": null,
            "max_height": null,
            "max_width": null,
            "min_height": null,
            "min_width": null,
            "object_fit": null,
            "object_position": null,
            "order": null,
            "overflow": null,
            "overflow_x": null,
            "overflow_y": null,
            "padding": null,
            "right": null,
            "top": null,
            "visibility": null,
            "width": null
          }
        },
        "f209cf4e9b86425eb5472ff6bb4c059f": {
          "model_module": "@jupyter-widgets/controls",
          "model_name": "DescriptionStyleModel",
          "model_module_version": "1.5.0",
          "state": {
            "_model_module": "@jupyter-widgets/controls",
            "_model_module_version": "1.5.0",
            "_model_name": "DescriptionStyleModel",
            "_view_count": null,
            "_view_module": "@jupyter-widgets/base",
            "_view_module_version": "1.2.0",
            "_view_name": "StyleView",
            "description_width": ""
          }
        },
        "ae5388300b604f43b442980b267bfeb4": {
          "model_module": "@jupyter-widgets/controls",
          "model_name": "HBoxModel",
          "model_module_version": "1.5.0",
          "state": {
            "_dom_classes": [],
            "_model_module": "@jupyter-widgets/controls",
            "_model_module_version": "1.5.0",
            "_model_name": "HBoxModel",
            "_view_count": null,
            "_view_module": "@jupyter-widgets/controls",
            "_view_module_version": "1.5.0",
            "_view_name": "HBoxView",
            "box_style": "",
            "children": [
              "IPY_MODEL_b8c191dbcf9343c2b71925bcc700f284",
              "IPY_MODEL_4c740350dba04eafa25820dada3222a1",
              "IPY_MODEL_b203948db54941c9ba0ad74e5f4f4e1e"
            ],
            "layout": "IPY_MODEL_52ee8eecbd2e4c04861bde4051d10c24"
          }
        },
        "b8c191dbcf9343c2b71925bcc700f284": {
          "model_module": "@jupyter-widgets/controls",
          "model_name": "HTMLModel",
          "model_module_version": "1.5.0",
          "state": {
            "_dom_classes": [],
            "_model_module": "@jupyter-widgets/controls",
            "_model_module_version": "1.5.0",
            "_model_name": "HTMLModel",
            "_view_count": null,
            "_view_module": "@jupyter-widgets/controls",
            "_view_module_version": "1.5.0",
            "_view_name": "HTMLView",
            "description": "",
            "description_tooltip": null,
            "layout": "IPY_MODEL_cb4837bd5c8b443abf800a65710bbf04",
            "placeholder": "​",
            "style": "IPY_MODEL_65e663f5fc10492f8e2c0982ae37c480",
            "value": ""
          }
        },
        "4c740350dba04eafa25820dada3222a1": {
          "model_module": "@jupyter-widgets/controls",
          "model_name": "FloatProgressModel",
          "model_module_version": "1.5.0",
          "state": {
            "_dom_classes": [],
            "_model_module": "@jupyter-widgets/controls",
            "_model_module_version": "1.5.0",
            "_model_name": "FloatProgressModel",
            "_view_count": null,
            "_view_module": "@jupyter-widgets/controls",
            "_view_module_version": "1.5.0",
            "_view_name": "ProgressView",
            "bar_style": "success",
            "description": "",
            "description_tooltip": null,
            "layout": "IPY_MODEL_e9338a8b1e584ff3883366dff5369447",
            "max": 1,
            "min": 0,
            "orientation": "horizontal",
            "style": "IPY_MODEL_df58e0acc5ca4249a20ffbe9f9316694",
            "value": 1
          }
        },
        "b203948db54941c9ba0ad74e5f4f4e1e": {
          "model_module": "@jupyter-widgets/controls",
          "model_name": "HTMLModel",
          "model_module_version": "1.5.0",
          "state": {
            "_dom_classes": [],
            "_model_module": "@jupyter-widgets/controls",
            "_model_module_version": "1.5.0",
            "_model_name": "HTMLModel",
            "_view_count": null,
            "_view_module": "@jupyter-widgets/controls",
            "_view_module_version": "1.5.0",
            "_view_name": "HTMLView",
            "description": "",
            "description_tooltip": null,
            "layout": "IPY_MODEL_dd8e2d068c3f45949feba5baab4fdc16",
            "placeholder": "​",
            "style": "IPY_MODEL_09a6e44fc1724e58999592680a80b5ea",
            "value": " 999/? [00:18&lt;00:00, 54.51it/s]"
          }
        },
        "52ee8eecbd2e4c04861bde4051d10c24": {
          "model_module": "@jupyter-widgets/base",
          "model_name": "LayoutModel",
          "model_module_version": "1.2.0",
          "state": {
            "_model_module": "@jupyter-widgets/base",
            "_model_module_version": "1.2.0",
            "_model_name": "LayoutModel",
            "_view_count": null,
            "_view_module": "@jupyter-widgets/base",
            "_view_module_version": "1.2.0",
            "_view_name": "LayoutView",
            "align_content": null,
            "align_items": null,
            "align_self": null,
            "border": null,
            "bottom": null,
            "display": null,
            "flex": null,
            "flex_flow": null,
            "grid_area": null,
            "grid_auto_columns": null,
            "grid_auto_flow": null,
            "grid_auto_rows": null,
            "grid_column": null,
            "grid_gap": null,
            "grid_row": null,
            "grid_template_areas": null,
            "grid_template_columns": null,
            "grid_template_rows": null,
            "height": null,
            "justify_content": null,
            "justify_items": null,
            "left": null,
            "margin": null,
            "max_height": null,
            "max_width": null,
            "min_height": null,
            "min_width": null,
            "object_fit": null,
            "object_position": null,
            "order": null,
            "overflow": null,
            "overflow_x": null,
            "overflow_y": null,
            "padding": null,
            "right": null,
            "top": null,
            "visibility": null,
            "width": null
          }
        },
        "cb4837bd5c8b443abf800a65710bbf04": {
          "model_module": "@jupyter-widgets/base",
          "model_name": "LayoutModel",
          "model_module_version": "1.2.0",
          "state": {
            "_model_module": "@jupyter-widgets/base",
            "_model_module_version": "1.2.0",
            "_model_name": "LayoutModel",
            "_view_count": null,
            "_view_module": "@jupyter-widgets/base",
            "_view_module_version": "1.2.0",
            "_view_name": "LayoutView",
            "align_content": null,
            "align_items": null,
            "align_self": null,
            "border": null,
            "bottom": null,
            "display": null,
            "flex": null,
            "flex_flow": null,
            "grid_area": null,
            "grid_auto_columns": null,
            "grid_auto_flow": null,
            "grid_auto_rows": null,
            "grid_column": null,
            "grid_gap": null,
            "grid_row": null,
            "grid_template_areas": null,
            "grid_template_columns": null,
            "grid_template_rows": null,
            "height": null,
            "justify_content": null,
            "justify_items": null,
            "left": null,
            "margin": null,
            "max_height": null,
            "max_width": null,
            "min_height": null,
            "min_width": null,
            "object_fit": null,
            "object_position": null,
            "order": null,
            "overflow": null,
            "overflow_x": null,
            "overflow_y": null,
            "padding": null,
            "right": null,
            "top": null,
            "visibility": null,
            "width": null
          }
        },
        "65e663f5fc10492f8e2c0982ae37c480": {
          "model_module": "@jupyter-widgets/controls",
          "model_name": "DescriptionStyleModel",
          "model_module_version": "1.5.0",
          "state": {
            "_model_module": "@jupyter-widgets/controls",
            "_model_module_version": "1.5.0",
            "_model_name": "DescriptionStyleModel",
            "_view_count": null,
            "_view_module": "@jupyter-widgets/base",
            "_view_module_version": "1.2.0",
            "_view_name": "StyleView",
            "description_width": ""
          }
        },
        "e9338a8b1e584ff3883366dff5369447": {
          "model_module": "@jupyter-widgets/base",
          "model_name": "LayoutModel",
          "model_module_version": "1.2.0",
          "state": {
            "_model_module": "@jupyter-widgets/base",
            "_model_module_version": "1.2.0",
            "_model_name": "LayoutModel",
            "_view_count": null,
            "_view_module": "@jupyter-widgets/base",
            "_view_module_version": "1.2.0",
            "_view_name": "LayoutView",
            "align_content": null,
            "align_items": null,
            "align_self": null,
            "border": null,
            "bottom": null,
            "display": null,
            "flex": null,
            "flex_flow": null,
            "grid_area": null,
            "grid_auto_columns": null,
            "grid_auto_flow": null,
            "grid_auto_rows": null,
            "grid_column": null,
            "grid_gap": null,
            "grid_row": null,
            "grid_template_areas": null,
            "grid_template_columns": null,
            "grid_template_rows": null,
            "height": null,
            "justify_content": null,
            "justify_items": null,
            "left": null,
            "margin": null,
            "max_height": null,
            "max_width": null,
            "min_height": null,
            "min_width": null,
            "object_fit": null,
            "object_position": null,
            "order": null,
            "overflow": null,
            "overflow_x": null,
            "overflow_y": null,
            "padding": null,
            "right": null,
            "top": null,
            "visibility": null,
            "width": "20px"
          }
        },
        "df58e0acc5ca4249a20ffbe9f9316694": {
          "model_module": "@jupyter-widgets/controls",
          "model_name": "ProgressStyleModel",
          "model_module_version": "1.5.0",
          "state": {
            "_model_module": "@jupyter-widgets/controls",
            "_model_module_version": "1.5.0",
            "_model_name": "ProgressStyleModel",
            "_view_count": null,
            "_view_module": "@jupyter-widgets/base",
            "_view_module_version": "1.2.0",
            "_view_name": "StyleView",
            "bar_color": null,
            "description_width": ""
          }
        },
        "dd8e2d068c3f45949feba5baab4fdc16": {
          "model_module": "@jupyter-widgets/base",
          "model_name": "LayoutModel",
          "model_module_version": "1.2.0",
          "state": {
            "_model_module": "@jupyter-widgets/base",
            "_model_module_version": "1.2.0",
            "_model_name": "LayoutModel",
            "_view_count": null,
            "_view_module": "@jupyter-widgets/base",
            "_view_module_version": "1.2.0",
            "_view_name": "LayoutView",
            "align_content": null,
            "align_items": null,
            "align_self": null,
            "border": null,
            "bottom": null,
            "display": null,
            "flex": null,
            "flex_flow": null,
            "grid_area": null,
            "grid_auto_columns": null,
            "grid_auto_flow": null,
            "grid_auto_rows": null,
            "grid_column": null,
            "grid_gap": null,
            "grid_row": null,
            "grid_template_areas": null,
            "grid_template_columns": null,
            "grid_template_rows": null,
            "height": null,
            "justify_content": null,
            "justify_items": null,
            "left": null,
            "margin": null,
            "max_height": null,
            "max_width": null,
            "min_height": null,
            "min_width": null,
            "object_fit": null,
            "object_position": null,
            "order": null,
            "overflow": null,
            "overflow_x": null,
            "overflow_y": null,
            "padding": null,
            "right": null,
            "top": null,
            "visibility": null,
            "width": null
          }
        },
        "09a6e44fc1724e58999592680a80b5ea": {
          "model_module": "@jupyter-widgets/controls",
          "model_name": "DescriptionStyleModel",
          "model_module_version": "1.5.0",
          "state": {
            "_model_module": "@jupyter-widgets/controls",
            "_model_module_version": "1.5.0",
            "_model_name": "DescriptionStyleModel",
            "_view_count": null,
            "_view_module": "@jupyter-widgets/base",
            "_view_module_version": "1.2.0",
            "_view_name": "StyleView",
            "description_width": ""
          }
        }
      }
    }
  },
  "nbformat": 4,
  "nbformat_minor": 5
}