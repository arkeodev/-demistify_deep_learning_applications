{
  "nbformat": 4,
  "nbformat_minor": 0,
  "metadata": {
    "colab": {
      "provenance": [],
      "gpuType": "T4",
      "authorship_tag": "ABX9TyM0c5eFarJqkNxgYQD0FDZ4",
      "include_colab_link": true
    },
    "kernelspec": {
      "name": "python3",
      "display_name": "Python 3"
    },
    "language_info": {
      "name": "python"
    },
    "accelerator": "GPU"
  },
  "cells": [
    {
      "cell_type": "markdown",
      "metadata": {
        "id": "view-in-github",
        "colab_type": "text"
      },
      "source": [
        "<a href=\"https://colab.research.google.com/github/arkeodev/demistify_deep_learning_applications/blob/main/YOLO_Object_Detection_From_Theory_to_Implementation.ipynb\" target=\"_parent\"><img src=\"https://colab.research.google.com/assets/colab-badge.svg\" alt=\"Open In Colab\"/></a>"
      ]
    },
    {
      "cell_type": "markdown",
      "source": [
        "# YOLO Object Detection: From Theory to Implementation"
      ],
      "metadata": {
        "id": "rd9Ym9zvv57s"
      }
    },
    {
      "cell_type": "markdown",
      "source": [
        "Object detection is a crucial task in computer vision that involves identifying and localizing objects within an image. Among the numerous approaches to object detection, YOLO (You Only Look Once) has emerged as one of the most effective and efficient methods. In this blog post, we delve into the fundamentals of YOLO object detection, its implementation, and the implementation in PyTorch, with a focus on practical application using the COCO dataset."
      ],
      "metadata": {
        "id": "DDTYzQOLvhsA"
      }
    },
    {
      "cell_type": "markdown",
      "source": [
        "## Understanding YOLO Object Detection"
      ],
      "metadata": {
        "id": "xsQau337vhpZ"
      }
    },
    {
      "cell_type": "markdown",
      "source": [
        "Understanding the core concepts behind YOLO (You Only Look Once) object detection is essential for mastering how it revolutionizes object detection tasks, particularly in terms of speed and accuracy. Let's delve deeper into the intricacies of YOLO, the concept of bounding boxes, and the crucial metric of Intersection Over Union (IoU)."
      ],
      "metadata": {
        "id": "IoeeF8sFvhnD"
      }
    },
    {
      "cell_type": "markdown",
      "source": [
        "### Deep Dive into YOLO Object Detection"
      ],
      "metadata": {
        "id": "02U4SjGwvhin"
      }
    },
    {
      "cell_type": "markdown",
      "source": [
        "YOLO fundamentally changes the object detection landscape by treating the task as a single regression problem from image pixels to bounding box coordinates and class probabilities. This approach contrasts sharply with traditional methods, which typically involve a two-step process: first proposing candidate regions (region proposals) and then classifying each region into various categories."
      ],
      "metadata": {
        "id": "pOmtOG9SvhfA"
      }
    },
    {
      "cell_type": "markdown",
      "source": [
        "#### How YOLO Works:"
      ],
      "metadata": {
        "id": "n7Eq6bOGyXNc"
      }
    },
    {
      "cell_type": "markdown",
      "source": [
        "1. **Single Convolutional Network:** YOLO uses a single convolutional network to predict multiple bounding boxes and class probabilities for those boxes simultaneously. This end-to-end training and prediction model dramatically increases the speed of detection.\n",
        "\n",
        "2. **Spatial Division of Images:** The image is divided into an $(S×S$) grid, and for each grid cell, YOLO predicts $(B$) bounding boxes and confidence scores for those boxes. Confidence reflects the accuracy of the bounding box and the probability that the box contains a specific object.\n",
        "\n",
        "3. **Class Probabilities:** Alongside bounding box predictions, YOLO also predicts class probabilities for each grid cell, irrespective of the number of boxes $(B$)."
      ],
      "metadata": {
        "id": "Mzt8A-GKyW9h"
      }
    },
    {
      "cell_type": "markdown",
      "source": [
        "#### Advantages:"
      ],
      "metadata": {
        "id": "dlEWXr7wyW6H"
      }
    },
    {
      "cell_type": "markdown",
      "source": [
        "**Speed:** By simplifying the detection into a single network forward pass, YOLO achieves remarkable speed, making it suitable for real-time applications.\n",
        "\n",
        "**Global Context:** Unlike region proposal-based methods, YOLO sees the entire image during training and test time, allowing it to implicitly encode contextual information about classes."
      ],
      "metadata": {
        "id": "u1k02ZxFyW2e"
      }
    },
    {
      "cell_type": "markdown",
      "source": [
        "### The Concept of Bounding Boxes"
      ],
      "metadata": {
        "id": "khPbPgwCyWwh"
      }
    },
    {
      "cell_type": "markdown",
      "source": [
        "Bounding boxes are pivotal in object detection, serving as the basic element for localizing objects within an image. A bounding box is defined by four parameters: the $(x$) and $(y$) coordinates of the upper-left corner, and the width $(w$) and height $(h$) of the rectangle. These parameters enable the precise localization and identification of objects in an image, from a simple person to complex scenes with multiple interacting objects"
      ],
      "metadata": {
        "id": "o8Am6QvkyWtp"
      }
    },
    {
      "cell_type": "markdown",
      "source": [
        "#### Challenges with Bounding Boxes:"
      ],
      "metadata": {
        "id": "mbdf_l0b0ehS"
      }
    },
    {
      "cell_type": "markdown",
      "source": [
        "**Accuracy:** Precisely predicting the size and location of bounding boxes is challenging, especially with objects of varying scales and orientations.\n",
        "\n",
        "**Overlap:** In densely populated scenes, handling overlapping boxes requires careful consideration, often addressed through techniques like Non-Maximum Suppression (NMS)."
      ],
      "metadata": {
        "id": "HLDWIiEB0efe"
      }
    },
    {
      "cell_type": "markdown",
      "source": [
        "### Intersection Over Union (IoU)"
      ],
      "metadata": {
        "id": "0r9hua040ec3"
      }
    },
    {
      "cell_type": "markdown",
      "source": [
        "IoU is a fundamental metric in object detection used to quantify the accuracy of a predicted bounding box against the ground truth. It is defined as the ratio of the area of overlap between the predicted bounding box and the ground truth box to the area of their union."
      ],
      "metadata": {
        "id": "9bTCroQy0eZu"
      }
    },
    {
      "cell_type": "markdown",
      "source": [
        "#### IoU Calculation:"
      ],
      "metadata": {
        "id": "HkhirmDz2vNn"
      }
    },
    {
      "cell_type": "markdown",
      "source": [
        "$$\n",
        "\\text{IoU} = \\frac{\\text{Area of Overlap}}{\\text{Area of Union}}\n",
        "$$\n",
        "\n"
      ],
      "metadata": {
        "id": "MyZ-v_jg0eWl"
      }
    },
    {
      "cell_type": "markdown",
      "source": [
        "#### Importance of IoU:"
      ],
      "metadata": {
        "id": "G6lneB_n25iV"
      }
    },
    {
      "cell_type": "markdown",
      "source": [
        "**Performance Evaluation:** IoU provides a clear and straightforward measure to evaluate and compare the performance of object detection models.\n",
        "\n",
        "**Training Optimization:** By integrating IoU into the loss function, models can be trained more effectively to predict accurate bounding boxes."
      ],
      "metadata": {
        "id": "DHNoO_5I25WU"
      }
    },
    {
      "cell_type": "markdown",
      "source": [
        "#### Challenges and Solutions:"
      ],
      "metadata": {
        "id": "iB_KrbaJ25T-"
      }
    },
    {
      "cell_type": "markdown",
      "source": [
        "**Small Objects:** Detecting small objects can be difficult due to their limited presence in the image. Strategies like using higher resolution input images or focusing on specific layers of the network that retain fine-grained details can help.\n",
        "\n",
        "**Class Imbalance:** Some classes might be overrepresented in the training data. Techniques such as focal loss or oversampling smaller classes can mitigate this issue."
      ],
      "metadata": {
        "id": "fgM3gsEv25RU"
      }
    },
    {
      "cell_type": "markdown",
      "source": [
        "In summary, the YOLO object detection system, with its innovative approach to bounding box prediction and class probability estimation, coupled with the critical metric of IoU, presents a powerful tool for real-time, accurate object detection across a wide range of applications. Understanding these concepts deeply not only aids in leveraging YOLO's full potential but also in navigating the challenges inherent in object detection tasks."
      ],
      "metadata": {
        "id": "qh5jFb663jlD"
      }
    },
    {
      "cell_type": "markdown",
      "source": [
        "## Dataset and Preprocessing"
      ],
      "metadata": {
        "id": "NvE7Fc2N5P9N"
      }
    },
    {
      "cell_type": "markdown",
      "source": [
        "For our implementation, we utilize the COCO dataset, which is widely used for object detection, segmentation, and captioning tasks. The dataset comes in the COCO format, providing a standardized way to work with complex object detection data.\n",
        "\n",
        "The COCO (Common Objects in Context) dataset is a large-scale object detection, segmentation, and captioning dataset. The COCO format is a specific way that the dataset annotates images, making it a standard for various computer vision tasks. This format is particularly designed to facilitate the training and evaluation of algorithms on the dataset"
      ],
      "metadata": {
        "id": "ZAzexaYU5XbK"
      }
    },
    {
      "cell_type": "markdown",
      "source": [
        "### Understanding the COCO Format"
      ],
      "metadata": {
        "id": "h0URLi2H5XZD"
      }
    },
    {
      "cell_type": "markdown",
      "source": [
        "The COCO dataset format organizes annotation information in a structured JSON file, which includes:\n",
        "\n",
        "**Images:** A list of images with their file names, image IDs, URLs, height, and width.\n",
        "\n",
        "**Annotations:** Contains details about each object instance in the images, including:\n",
        "* Object bounding box coordinates (in the format `[x, y, width, height]`).\n",
        "* The category ID of the object.\n",
        "* An annotation ID unique to each object instance.\n",
        "* Segmentation information for instance segmentation tasks.\n",
        "\n",
        "**Categories:** Lists all object categories in the dataset, each with a unique category ID and name.\n",
        "\n",
        "This structured format allows for easy parsing and utilization in training object detection models, supporting tasks like bounding box object detection and instance segmentation.\n",
        "\n",
        "```\n",
        "annotation{\n",
        "  \"id\": int,\n",
        "  \"image_id\": int,\n",
        "  \"category_id\": int,\n",
        "  \"segmentation\": RLE or [polygon],\n",
        "  \"area\": float,\n",
        "  \"bbox\": [x,y,width,height],\n",
        "  \"iscrowd\": 0 or 1,\n",
        "}\n",
        "\n",
        "categories[{\n",
        "  \"id\": int,\n",
        "  \"name\": str,\n",
        "  \"supercategory\": str,\n",
        "}]\n",
        "```\n",
        "\n",
        "The COCO dataset can be accessed and downloaded from the [COCO Dataset Official Website](https://cocodataset.org/#home). Here, you can find links to download the images and annotations for different years and tasks, along with additional resources and tools for working with the dataset."
      ],
      "metadata": {
        "id": "XcILSiJa5XTT"
      }
    },
    {
      "cell_type": "markdown",
      "source": [
        "### Alternatives to the COCO Format"
      ],
      "metadata": {
        "id": "6D6th_Kx9f0i"
      }
    },
    {
      "cell_type": "markdown",
      "source": [
        "An alternative to the COCO format is the PASCAL VOC format, used by the PASCAL Visual Object Classes challenges. The VOC format stores annotations in XML files, with each file corresponding to an image in the dataset. While also widely used, the COCO format has become more popular for several reasons, particularly due to its support for a larger number of images and more detailed annotations, including instance segmentation masks."
      ],
      "metadata": {
        "id": "ru4VpcBo9fyN"
      }
    },
    {
      "cell_type": "markdown",
      "source": [
        "### Why Prefer COCO Dataset and Format?"
      ],
      "metadata": {
        "id": "NFMaHEad9fvy"
      }
    },
    {
      "cell_type": "markdown",
      "source": [
        "* **Diversity and Size:** The COCO dataset includes over 200,000 images with more than 500,000 object instances across 80 categories, offering a diverse and substantial volume of data for robust model training.\n",
        "\n",
        "* **Multiple Tasks Support:** The COCO format supports various computer vision tasks, including object detection, segmentation, and image captioning, making it versatile for different applications.\n",
        "\n",
        "* **Standardization:** The structured JSON format allows for consistency and standardization in data annotation, facilitating easier data parsing and model evaluation.\n",
        "\n",
        "* **Community and Tools:** The widespread adoption of the COCO dataset has led to the development of numerous tools and libraries designed to work with COCO-formatted data, as well as a large community of researchers and developers contributing to continual improvements."
      ],
      "metadata": {
        "id": "n41Ql9yP9ftc"
      }
    },
    {
      "cell_type": "markdown",
      "source": [
        "### Download the Data"
      ],
      "metadata": {
        "id": "k71OTHS1-y8h"
      }
    },
    {
      "cell_type": "markdown",
      "source": [
        "First, let's create the directory structure where the dataset will be stored."
      ],
      "metadata": {
        "id": "HZi5wU8ZcwpN"
      }
    },
    {
      "cell_type": "code",
      "source": [
        "!mkdir -p coco/images/train2017 coco/images/val2017 coco/annotations"
      ],
      "metadata": {
        "id": "Wow3MtkQczS9"
      },
      "execution_count": 2,
      "outputs": []
    },
    {
      "cell_type": "markdown",
      "source": [
        "Next, use the following commands to download the training and validation images and annotations for the COCO 2017 dataset. Note that these files are quite large, so the download may take some time depending on your internet connection."
      ],
      "metadata": {
        "id": "Xmce6zpfc9g2"
      }
    },
    {
      "cell_type": "code",
      "source": [
        "# ! wget http://images.cocodataset.org/zips/train2017.zip -P coco/images\n",
        "# ! wget http://images.cocodataset.org/zips/val2017.zip -P coco/images\n",
        "# ! wget http://images.cocodataset.org/annotations/annotations_trainval2017.zip -P coco/annotations"
      ],
      "metadata": {
        "colab": {
          "base_uri": "https://localhost:8080/"
        },
        "id": "u19ofqpjdChF",
        "outputId": "d1c2fd46-d64d-4050-910a-d40d3191ec80"
      },
      "execution_count": 3,
      "outputs": [
        {
          "output_type": "stream",
          "name": "stdout",
          "text": [
            "--2024-03-03 08:36:17--  http://images.cocodataset.org/zips/train2017.zip\n",
            "Resolving images.cocodataset.org (images.cocodataset.org)... 52.217.203.9, 52.217.122.137, 52.217.123.33, ...\n",
            "Connecting to images.cocodataset.org (images.cocodataset.org)|52.217.203.9|:80... connected.\n",
            "HTTP request sent, awaiting response... 200 OK\n",
            "Length: 19336861798 (18G) [application/zip]\n",
            "Saving to: ‘coco/images/train2017.zip’\n",
            "\n",
            "train2017.zip       100%[===================>]  18.01G  83.4MB/s    in 3m 31s  \n",
            "\n",
            "2024-03-03 08:39:48 (87.3 MB/s) - ‘coco/images/train2017.zip’ saved [19336861798/19336861798]\n",
            "\n",
            "--2024-03-03 08:39:48--  http://images.cocodataset.org/zips/val2017.zip\n",
            "Resolving images.cocodataset.org (images.cocodataset.org)... 3.5.27.177, 3.5.7.166, 52.216.76.12, ...\n",
            "Connecting to images.cocodataset.org (images.cocodataset.org)|3.5.27.177|:80... connected.\n",
            "HTTP request sent, awaiting response... 200 OK\n",
            "Length: 815585330 (778M) [application/zip]\n",
            "Saving to: ‘coco/images/val2017.zip’\n",
            "\n",
            "val2017.zip         100%[===================>] 777.80M   132MB/s    in 8.1s    \n",
            "\n",
            "2024-03-03 08:39:56 (95.7 MB/s) - ‘coco/images/val2017.zip’ saved [815585330/815585330]\n",
            "\n",
            "--2024-03-03 08:39:56--  http://images.cocodataset.org/annotations/annotations_trainval2017.zip\n",
            "Resolving images.cocodataset.org (images.cocodataset.org)... 52.216.9.83, 16.182.74.121, 52.217.224.105, ...\n",
            "Connecting to images.cocodataset.org (images.cocodataset.org)|52.216.9.83|:80... connected.\n",
            "HTTP request sent, awaiting response... 200 OK\n",
            "Length: 252907541 (241M) [application/zip]\n",
            "Saving to: ‘coco/annotations/annotations_trainval2017.zip’\n",
            "\n",
            "annotations_trainva 100%[===================>] 241.19M  96.9MB/s    in 2.5s    \n",
            "\n",
            "2024-03-03 08:39:59 (96.9 MB/s) - ‘coco/annotations/annotations_trainval2017.zip’ saved [252907541/252907541]\n",
            "\n"
          ]
        }
      ]
    },
    {
      "cell_type": "markdown",
      "source": [
        "After downloading, unzip the files to their respective directories."
      ],
      "metadata": {
        "id": "AZEpSzDMdc6H"
      }
    },
    {
      "cell_type": "code",
      "source": [
        "! unzip -q coco/images/train2017.zip -d coco/images\n",
        "! unzip -q coco/images/val2017.zip -d coco/images\n",
        "! unzip -q coco/annotations/annotations_trainval2017.zip -d coco/annotations"
      ],
      "metadata": {
        "id": "FFH7vtw8dhO0"
      },
      "execution_count": 4,
      "outputs": []
    },
    {
      "cell_type": "markdown",
      "source": [
        "After executing these commands, your folder structure should look like this:\n",
        "\n",
        "![image.png](data:image/png;base64,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)\n"
      ],
      "metadata": {
        "id": "yxzKeYfUeaJw"
      }
    },
    {
      "cell_type": "markdown",
      "source": [
        "Optionally, after unzipping, you can remove the downloaded .zip files to save space."
      ],
      "metadata": {
        "id": "InOs6seud94q"
      }
    },
    {
      "cell_type": "code",
      "source": [
        "! rm coco/images/train2017.zip\n",
        "! rm coco/images/val2017.zip\n",
        "! rm coco/annotations/annotations_trainval2017.zip"
      ],
      "metadata": {
        "id": "nNJow-q8eAdb"
      },
      "execution_count": 5,
      "outputs": []
    },
    {
      "cell_type": "markdown",
      "source": [
        "### Dataset Preparation"
      ],
      "metadata": {
        "id": "pG6nyFDXe6DH"
      }
    },
    {
      "cell_type": "markdown",
      "source": [
        "Before diving into model building, it's crucial to prepare the dataset. For object detection, loading the images along with their corresponding bounding boxes and class labels."
      ],
      "metadata": {
        "id": "sAdCYzbeiWZn"
      }
    },
    {
      "cell_type": "code",
      "execution_count": 1,
      "metadata": {
        "id": "tLpAaNPqsjEh"
      },
      "outputs": [],
      "source": [
        "from torchvision.datasets import CocoDetection\n",
        "import torchvision.transforms as T\n",
        "\n",
        "class CustomCocoDetection(CocoDetection):\n",
        "    def __init__(self, root, annFile, transform=None):\n",
        "        super(CustomCocoDetection, self).__init__(root, annFile)\n",
        "        self.transform = transform\n",
        "\n",
        "    def __getitem__(self, index):\n",
        "        img, target = super(CustomCocoDetection, self).__getitem__(index)\n",
        "        # Transform target format from COCO to YOLO (if necessary)\n",
        "        # Apply transformations to the image\n",
        "        if self.transform:\n",
        "            img = self.transform(img)\n",
        "        return img, target"
      ]
    },
    {
      "cell_type": "code",
      "source": [
        "transform = T.Compose([\n",
        "    T.Resize((416, 416)),\n",
        "    T.ToTensor(),\n",
        "    T.Normalize(mean=[0.485, 0.456, 0.406], std=[0.229, 0.224, 0.225]),\n",
        "])\n",
        "\n",
        "train_data = CustomCocoDetection(root='./coco/images/train2017',\n",
        "                                 annFile='./coco/annotations/annotations/instances_train2017.json',\n",
        "                                 transform=transform)\n"
      ],
      "metadata": {
        "colab": {
          "base_uri": "https://localhost:8080/"
        },
        "id": "GQDQnXW2-26z",
        "outputId": "c87e2fa3-4beb-47b4-fd03-944dcefbe3c2"
      },
      "execution_count": 6,
      "outputs": [
        {
          "output_type": "stream",
          "name": "stdout",
          "text": [
            "loading annotations into memory...\n",
            "Done (t=25.38s)\n",
            "creating index...\n",
            "index created!\n"
          ]
        }
      ]
    },
    {
      "cell_type": "code",
      "source": [],
      "metadata": {
        "id": "WU-r4lpp_RO5"
      },
      "execution_count": 6,
      "outputs": []
    }
  ]
}